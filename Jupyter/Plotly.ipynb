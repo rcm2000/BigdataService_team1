{
 "cells": [
  {
   "cell_type": "code",
   "execution_count": 6,
   "id": "181dddad",
   "metadata": {},
   "outputs": [
    {
     "name": "stdout",
     "output_type": "stream",
     "text": [
      "      year      country              region  rank  score      gdp  \\\n",
      "0     2015  Switzerland      Western Europe     1  7.587  1.39651   \n",
      "1     2015      Iceland      Western Europe     2  7.561  1.30232   \n",
      "2     2015      Denmark      Western Europe     3  7.527  1.32548   \n",
      "3     2015       Norway      Western Europe     4  7.522  1.45900   \n",
      "4     2015       Canada       North America     5  7.427  1.32629   \n",
      "...    ...          ...                 ...   ...    ...      ...   \n",
      "1079  2021      Lesotho  Sub-Saharan Africa   145  3.512      NaN   \n",
      "1080  2021     Botswana  Sub-Saharan Africa   146  3.467      NaN   \n",
      "1081  2021       Rwanda  Sub-Saharan Africa   147  3.415      NaN   \n",
      "1082  2021     Zimbabwe  Sub-Saharan Africa   148  3.145      NaN   \n",
      "1083  2021  Afghanistan          South Asia   149  2.523      NaN   \n",
      "\n",
      "      social_support    health  freedom    trust  ...  dystopia  \\\n",
      "0            1.34951   0.94143  0.66557  0.41978  ...   2.51738   \n",
      "1            1.40223   0.94784  0.62877  0.14145  ...   2.70201   \n",
      "2            1.36058   0.87464  0.64938  0.48357  ...   2.49204   \n",
      "3            1.33095   0.88521  0.66973  0.36503  ...   2.46531   \n",
      "4            1.32261   0.90563  0.63297  0.32957  ...   2.45176   \n",
      "...              ...       ...      ...      ...  ...       ...   \n",
      "1079         0.78700  48.70000  0.71500  0.91500  ...   1.80000   \n",
      "1080         0.78400  59.26900  0.82400  0.80100  ...   0.64800   \n",
      "1081         0.55200  61.40000  0.89700  0.16700  ...   1.09500   \n",
      "1082         0.75000  56.20100  0.67700  0.82100  ...   1.20500   \n",
      "1083         0.46300  52.49300  0.38200  0.92400  ...   1.89500   \n",
      "\n",
      "      Logged GDP per capita  social_support_std  health_std  freedom_std  \\\n",
      "0                       NaN            1.320281    1.263408     1.577438   \n",
      "1                       NaN            1.514458    1.289434     1.332456   \n",
      "2                       NaN            1.361054    0.992229     1.469659   \n",
      "3                       NaN            1.251922    1.035145     1.605131   \n",
      "4                       NaN            1.221204    1.118054     1.360416   \n",
      "...                     ...                 ...         ...          ...   \n",
      "1079                  7.926           -0.242308   -2.417575    -0.678147   \n",
      "1080                  9.782           -0.268508   -0.849315     0.286874   \n",
      "1081                  7.676           -2.294659   -0.533110     0.933173   \n",
      "1082                  7.943           -0.565444   -1.304554    -1.014577   \n",
      "1083                  7.695           -3.071932   -1.854758    -3.626333   \n",
      "\n",
      "      trust_std  generosity_std  dystopia_std   gdp_std  score_std  \n",
      "0      2.309652        0.471040      0.758258  1.369621   1.937360  \n",
      "1     -0.016480        1.575856      1.092857  1.135226   1.914581  \n",
      "2      2.842774        0.824293      0.712335  1.192861   1.884792  \n",
      "3      1.852081        0.868638      0.663893  1.525130   1.880411  \n",
      "4      1.555725        1.748563      0.639337  1.194876   1.797179  \n",
      "...         ...             ...           ...       ...        ...  \n",
      "1079   1.049973       -0.771665     -1.176342 -1.304407  -1.888081  \n",
      "1080   0.411761       -1.537565     -3.326246  0.302927  -1.930125  \n",
      "1081  -3.137597        0.507053     -2.492038 -1.520912  -1.978709  \n",
      "1082   0.523728       -0.212226     -2.286752 -1.289685  -2.230971  \n",
      "1083   1.100359       -0.578526     -0.999050 -1.504458  -2.812109  \n",
      "\n",
      "[1084 rows x 21 columns]\n"
     ]
    }
   ],
   "source": [
    "import plotly.express as px\n",
    "import pandas as pd\n",
    "\n",
    "df = pd.read_csv('C:\\BigdataProjects\\BigdataService_team1\\project01\\data\\data_standard.csv')\n",
    "print(df)\n"
   ]
  },
  {
   "cell_type": "code",
   "execution_count": 46,
   "id": "8c58f8cc",
   "metadata": {},
   "outputs": [
    {
     "data": {
      "application/vnd.plotly.v1+json": {
       "config": {
        "plotlyServerURL": "https://plot.ly"
       },
       "data": [
        {
         "hovertemplate": "<b>%{hovertext}</b><br><br>region=Western Europe<br>year=2015<br>gdp_std=%{x}<br>score_std=%{y}<extra></extra>",
         "hovertext": [
          "Switzerland",
          "Iceland",
          "Denmark",
          "Norway",
          "Finland",
          "Netherlands",
          "Sweden",
          "Austria",
          "Luxembourg",
          "Ireland",
          "Belgium",
          "United Kingdom",
          "Germany",
          "France",
          "Spain",
          "Malta",
          "Italy",
          "North Cyprus",
          "Cyprus",
          "Portugal",
          "Greece"
         ],
         "ids": [
          "Switzerland",
          "Iceland",
          "Denmark",
          "Norway",
          "Finland",
          "Netherlands",
          "Sweden",
          "Austria",
          "Luxembourg",
          "Ireland",
          "Belgium",
          "United Kingdom",
          "Germany",
          "France",
          "Spain",
          "Malta",
          "Italy",
          "North Cyprus",
          "Cyprus",
          "Portugal",
          "Greece"
         ],
         "legendgroup": "Western Europe",
         "marker": {
          "color": "#636efa",
          "symbol": "circle"
         },
         "mode": "markers",
         "name": "Western Europe",
         "orientation": "v",
         "showlegend": true,
         "type": "scatter",
         "x": [
          1.3696212439986155,
          1.1352262511271294,
          1.1928606925211591,
          1.5251297173454594,
          1.1051896488980304,
          1.202715286127392,
          1.2083642577148033,
          1.2221009639537943,
          1.7862017918984652,
          1.2189405261053312,
          1.148913186691342,
          1.0457634632119592,
          1.1989327148441915,
          1.0741576331733522,
          0.9555292298377144,
          0.8990146286262116,
          1.0078630943677849,
          0.9006570608939168,
          0.9008312582556433,
          0.7808341613635841,
          0.7662762389907402
         ],
         "xaxis": "x",
         "y": [
          1.9373600501113448,
          1.9145806263153118,
          1.884792149043579,
          1.8804114906212652,
          1.7787802152235888,
          1.75424852805863,
          1.741982684476152,
          1.598297088224263,
          1.3757596403707284,
          1.370502850263951,
          1.3678744552105626,
          1.3065452372981714,
          1.20403783021603,
          1.0507147854350507,
          0.8351863910572163,
          0.8115308355767229,
          0.5013802192769129,
          0.27971890310783953,
          0.2744621130010629,
          -0.23982718577856524,
          -0.4544794484719366
         ],
         "yaxis": "y"
        },
        {
         "hovertemplate": "<b>%{hovertext}</b><br><br>region=North America<br>year=2015<br>gdp_std=%{x}<br>score_std=%{y}<extra></extra>",
         "hovertext": [
          "Canada",
          "United States"
         ],
         "ids": [
          "Canada",
          "United States"
         ],
         "legendgroup": "North America",
         "marker": {
          "color": "#EF553B",
          "symbol": "circle"
         },
         "mode": "markers",
         "name": "North America",
         "orientation": "v",
         "showlegend": true,
         "type": "scatter",
         "x": [
          1.1948764048497065,
          1.3646441765207202
         ],
         "xaxis": "x2",
         "y": [
          1.7971789805973046,
          1.5273304217827808
         ],
         "yaxis": "y2"
        },
        {
         "hovertemplate": "<b>%{hovertext}</b><br><br>region=Australia and New Zealand<br>year=2015<br>gdp_std=%{x}<br>score_std=%{y}<extra></extra>",
         "hovertext": [
          "New Zealand",
          "Australia"
         ],
         "ids": [
          "New Zealand",
          "Australia"
         ],
         "legendgroup": "Australia and New Zealand",
         "marker": {
          "color": "#00cc96",
          "symbol": "circle"
         },
         "mode": "markers",
         "name": "Australia and New Zealand",
         "orientation": "v",
         "showlegend": true,
         "type": "scatter",
         "x": [
          1.0054741019783948,
          1.2130178158066356
         ],
         "xaxis": "x3",
         "y": [
          1.673644413088058,
          1.671892149719133
         ],
         "yaxis": "y3"
        },
        {
         "hovertemplate": "<b>%{hovertext}</b><br><br>region=Middle East and Northern Africa<br>year=2015<br>gdp_std=%{x}<br>score_std=%{y}<extra></extra>",
         "hovertext": [
          "Israel",
          "United Arab Emirates",
          "Oman",
          "Qatar",
          "Saudi Arabia",
          "Kuwait",
          "Bahrain",
          "Libya",
          "Algeria",
          "Turkey",
          "Jordan",
          "Morocco",
          "Lebanon",
          "Tunisia",
          "Palestinian Territories",
          "Iran",
          "Iraq",
          "Egypt",
          "Yemen",
          "Syria"
         ],
         "ids": [
          "Israel",
          "United Arab Emirates",
          "Oman",
          "Qatar",
          "Saudi Arabia",
          "Kuwait",
          "Bahrain",
          "Libya",
          "Algeria",
          "Turkey",
          "Jordan",
          "Morocco",
          "Lebanon",
          "Tunisia",
          "Palestinian Territories",
          "Iran",
          "Iraq",
          "Egypt",
          "Yemen",
          "Syria"
         ],
         "legendgroup": "Middle East and Northern Africa",
         "marker": {
          "color": "#ab63fa",
          "symbol": "circle"
         },
         "mode": "markers",
         "name": "Middle East and Northern Africa",
         "orientation": "v",
         "showlegend": true,
         "type": "scatter",
         "x": [
          0.9516968878797354,
          1.446168541808648,
          1.2790386159009186,
          2.101026195212742,
          1.3668838568857735,
          1.7620878999680618,
          1.188580414490169,
          0.710010491153132,
          0.23181384787693685,
          0.5346435185694858,
          0.13896665407679734,
          -0.277091301737873,
          0.4466987362350733,
          0.08708072561973718,
          -0.6158305142834372,
          0.4047918280711931,
          0.3467841066163218,
          0.0887480432248323,
          -0.7456822047817298,
          -0.4552454321091405
         ],
         "xaxis": "x4",
         "y": [
          1.6666353596123562,
          1.3363337145699037,
          1.2942793937156922,
          1.0822555260757103,
          0.9070291891831616,
          0.8053979137854832,
          0.5118937994904653,
          0.3314106724911406,
          0.20086705150619308,
          -0.03831689835213389,
          -0.16097533417691876,
          -0.3178029056957494,
          -0.4702498187922658,
          -0.5578629872385402,
          -0.578890147665646,
          -0.6042979665150654,
          -0.6121831516752303,
          -1.0353547552707334,
          -1.137862162352874,
          -2.076199196412469
         ],
         "yaxis": "y4"
        },
        {
         "hovertemplate": "<b>%{hovertext}</b><br><br>region=Latin America and Caribbean<br>year=2015<br>gdp_std=%{x}<br>score_std=%{y}<extra></extra>",
         "hovertext": [
          "Costa Rica",
          "Mexico",
          "Brazil",
          "Venezuela",
          "Panama",
          "Chile",
          "Argentina",
          "Uruguay",
          "Colombia",
          "Suriname",
          "Trinidad and Tobago",
          "El Salvador",
          "Guatemala",
          "Ecuador",
          "Bolivia",
          "Paraguay",
          "Nicaragua",
          "Peru",
          "Jamaica",
          "Dominican Republic",
          "Honduras",
          "Haiti"
         ],
         "ids": [
          "Costa Rica",
          "Mexico",
          "Brazil",
          "Venezuela",
          "Panama",
          "Chile",
          "Argentina",
          "Uruguay",
          "Colombia",
          "Suriname",
          "Trinidad and Tobago",
          "El Salvador",
          "Guatemala",
          "Ecuador",
          "Bolivia",
          "Paraguay",
          "Nicaragua",
          "Peru",
          "Jamaica",
          "Dominican Republic",
          "Honduras",
          "Haiti"
         ],
         "legendgroup": "Latin America and Caribbean",
         "marker": {
          "color": "#FFA15A",
          "symbol": "circle"
         },
         "mode": "markers",
         "name": "Latin America and Caribbean",
         "orientation": "v",
         "showlegend": true,
         "type": "scatter",
         "x": [
          0.27284976923218485,
          0.4340072141664397,
          0.33620783822579403,
          0.4929854637795009,
          0.5409892796038026,
          0.6495391212967023,
          0.516054171539546,
          0.5363357215119702,
          0.18035097015549809,
          0.37129616394495696,
          0.91003883308975,
          -0.20305742300417806,
          -0.2503644493815742,
          0.04450191334634198,
          -0.4101283154220183,
          -0.2147286462398428,
          -0.6293183671485337,
          0.13451217868408075,
          -0.08898303641081433,
          0.12251744606235315,
          -0.6241671023089123,
          -1.441874403589745
         ],
         "xaxis": "x5",
         "y": [
          1.621076512020294,
          1.5869073763262476,
          1.408176512695848,
          1.256605731283794,
          1.2355785708566889,
          1.1339472954590106,
          1.0498386537505875,
          0.9718629338334042,
          0.9648538803577024,
          0.7826184899894522,
          0.6941291898587139,
          0.6608361858491311,
          0.6547032640578906,
          0.5250357747574061,
          0.4505645815780733,
          0.44005100136452,
          0.3962444171413824,
          0.39273989040353263,
          0.2919847466903173,
          -0.42994776130698026,
          -0.5149325346998657,
          -0.7514880895048058
         ],
         "yaxis": "y5"
        },
        {
         "hovertemplate": "<b>%{hovertext}</b><br><br>region=Southeastern Asia<br>year=2015<br>gdp_std=%{x}<br>score_std=%{y}<extra></extra>",
         "hovertext": [
          "Singapore",
          "Thailand",
          "Malaysia",
          "Indonesia",
          "Vietnam",
          "Philippines",
          "Laos",
          "Myanmar",
          "Cambodia"
         ],
         "ids": [
          "Singapore",
          "Thailand",
          "Malaysia",
          "Indonesia",
          "Vietnam",
          "Philippines",
          "Laos",
          "Myanmar",
          "Cambodia"
         ],
         "legendgroup": "Southeastern Asia",
         "marker": {
          "color": "#19d3f3",
          "symbol": "circle"
         },
         "mode": "markers",
         "name": "Southeastern Asia",
         "orientation": "v",
         "showlegend": true,
         "type": "scatter",
         "x": [
          1.6815589481757132,
          0.3005222644092836,
          0.6936110538134663,
          -0.04446316782103935,
          -0.5324895193660778,
          -0.35042839102466244,
          -0.6357636695324084,
          -1.4310492818253224,
          -0.959969845042518
         ],
         "xaxis": "x6",
         "y": [
          1.2460921510702407,
          0.9455789832995216,
          0.3454287794425444,
          0.020383924506868288,
          -0.01378521118717831,
          -0.2652350046279846,
          -0.4378329464671444,
          -0.9363518749264436,
          -1.3639041369442608
         ],
         "yaxis": "y6"
        },
        {
         "hovertemplate": "<b>%{hovertext}</b><br><br>region=Central and Eastern Europe<br>year=2015<br>gdp_std=%{x}<br>score_std=%{y}<extra></extra>",
         "hovertext": [
          "Czech Republic",
          "Uzbekistan",
          "Slovakia",
          "Moldova",
          "Kazakhstan",
          "Slovenia",
          "Lithuania",
          "Belarus",
          "Poland",
          "Croatia",
          "Russia",
          "Kosovo",
          "Turkmenistan",
          "Estonia",
          "Kyrgyzstan",
          "Azerbaijan",
          "Montenegro",
          "Romania",
          "Serbia",
          "Latvia",
          "Macedonia",
          "Albania",
          "Bosnia and Herzegovina",
          "Hungary",
          "Tajikistan",
          "Ukraine",
          "Armenia",
          "Georgia",
          "Bulgaria"
         ],
         "ids": [
          "Czech Republic",
          "Uzbekistan",
          "Slovakia",
          "Moldova",
          "Kazakhstan",
          "Slovenia",
          "Lithuania",
          "Belarus",
          "Poland",
          "Croatia",
          "Russia",
          "Kosovo",
          "Turkmenistan",
          "Estonia",
          "Kyrgyzstan",
          "Azerbaijan",
          "Montenegro",
          "Romania",
          "Serbia",
          "Latvia",
          "Macedonia",
          "Albania",
          "Bosnia and Herzegovina",
          "Hungary",
          "Tajikistan",
          "Ukraine",
          "Armenia",
          "Georgia",
          "Bulgaria"
         ],
         "legendgroup": "Central and Eastern Europe",
         "marker": {
          "color": "#FF6692",
          "symbol": "circle"
         },
         "mode": "markers",
         "name": "Central and Eastern Europe",
         "orientation": "v",
         "showlegend": true,
         "type": "scatter",
         "x": [
          0.828290499765317,
          -0.5317927299191726,
          0.8032309650141134,
          -0.6262574706496282,
          0.6878376555391078,
          0.8432217021990034,
          0.7492795535537269,
          0.4623267281156652,
          0.6953281420933404,
          0.5882963059811988,
          0.7254145149972182,
          -0.11113098668744914,
          0.27954392498995445,
          0.7605028407163812,
          -0.9253792260711448,
          0.4423438021919144,
          0.3191364967766127,
          0.4910195221257321,
          0.18512895493427756,
          0.6643956677182203,
          0.18010211678160334,
          0.08095893262192601,
          -0.034608574214806724,
          0.6838560015567914,
          -1.1339432387323536,
          -0.1171283529983132,
          -0.19392450418223972,
          -0.2593978268539545,
          0.4131533014340576
         ],
         "xaxis": "x7",
         "y": [
          0.9893855675226586,
          0.5495674619223625,
          0.5425584084466614,
          0.4496884498936095,
          0.4198999726218781,
          0.4137670508306384,
          0.400625075563696,
          0.3831024418744424,
          0.36382754481626267,
          0.33579133091345503,
          0.298117668481557,
          0.18684894455478926,
          0.15092754549181578,
          0.046667875040749145,
          -0.07861895583742093,
          -0.14345270048766276,
          -0.16097533417691876,
          -0.22055228872038551,
          -0.22142842040484934,
          -0.24333171251641655,
          -0.3230596958025261,
          -0.3651140166567377,
          -0.3738753335013649,
          -0.5044189544863131,
          -0.5166847980687909,
          -0.608678624937379,
          -0.8986782124945463,
          -0.9451131917710714,
          -1.0143275948436277
         ],
         "yaxis": "y7"
        },
        {
         "hovertemplate": "<b>%{hovertext}</b><br><br>region=Eastern Asia<br>year=2015<br>gdp_std=%{x}<br>score_std=%{y}<extra></extra>",
         "hovertext": [
          "Taiwan",
          "Japan",
          "South Korea",
          "Hong Kong",
          "China",
          "Mongolia"
         ],
         "ids": [
          "Taiwan",
          "Japan",
          "South Korea",
          "Hong Kong",
          "China",
          "Mongolia"
         ],
         "legendgroup": "Eastern Asia",
         "marker": {
          "color": "#B6E880",
          "symbol": "circle"
         },
         "mode": "markers",
         "name": "Eastern Asia",
         "orientation": "v",
         "showlegend": true,
         "type": "scatter",
         "x": [
          1.1070062785274626,
          1.0566383556511605,
          0.9916129690524564,
          1.343566295751833,
          0.10945264393287736,
          -0.044662250520155364
         ],
         "xaxis": "x8",
         "y": [
          0.8080263088388707,
          0.5355493549709595,
          0.5329209599175712,
          0.08609380084157395,
          -0.20653418176898167,
          -0.4395852098360705
         ],
         "yaxis": "y8"
        },
        {
         "hovertemplate": "<b>%{hovertext}</b><br><br>region=Sub-Saharan Africa<br>year=2015<br>gdp_std=%{x}<br>score_std=%{y}<extra></extra>",
         "hovertext": [
          "Mauritius",
          "Nigeria",
          "Zambia",
          "Somaliland region",
          "Mozambique",
          "Lesotho",
          "Swaziland",
          "South Africa",
          "Ghana",
          "Zimbabwe",
          "Liberia",
          "Sudan",
          "Congo (Kinshasa)",
          "Ethiopia",
          "Sierra Leone",
          "Mauritania",
          "Kenya",
          "Djibouti",
          "Botswana",
          "Malawi",
          "Cameroon",
          "Angola",
          "Mali",
          "Congo (Brazzaville)",
          "Comoros",
          "Uganda",
          "Senegal",
          "Gabon",
          "Niger",
          "Tanzania",
          "Madagascar",
          "Central African Republic",
          "Chad",
          "Guinea",
          "Ivory Coast",
          "Burkina Faso",
          "Rwanda",
          "Benin",
          "Burundi",
          "Togo"
         ],
         "ids": [
          "Mauritius",
          "Nigeria",
          "Zambia",
          "Somaliland region",
          "Mozambique",
          "Lesotho",
          "Swaziland",
          "South Africa",
          "Ghana",
          "Zimbabwe",
          "Liberia",
          "Sudan",
          "Congo (Kinshasa)",
          "Ethiopia",
          "Sierra Leone",
          "Mauritania",
          "Kenya",
          "Djibouti",
          "Botswana",
          "Malawi",
          "Cameroon",
          "Angola",
          "Mali",
          "Congo (Brazzaville)",
          "Comoros",
          "Uganda",
          "Senegal",
          "Gabon",
          "Niger",
          "Tanzania",
          "Madagascar",
          "Central African Republic",
          "Chad",
          "Guinea",
          "Ivory Coast",
          "Burkina Faso",
          "Rwanda",
          "Benin",
          "Burundi",
          "Togo"
         ],
         "legendgroup": "Sub-Saharan Africa",
         "marker": {
          "color": "#FF97FF",
          "symbol": "circle"
         },
         "mode": "markers",
         "name": "Sub-Saharan Africa",
         "orientation": "v",
         "showlegend": true,
         "type": "scatter",
         "x": [
          0.4018304729218453,
          -0.4772689556988279,
          -0.9350845076530409,
          -1.6366270539997938,
          -1.8988936247474948,
          -1.1713210154913485,
          -0.3336556736241546,
          0.1850294135847198,
          -0.7479467704841718,
          -1.4312483645244385,
          -1.9284574055661936,
          -0.8089407324257807,
          -2.105641007779272,
          -1.6310029677497724,
          -1.2838276258291752,
          -0.9756724929352784,
          -1.1980478678476472,
          -1.0100640292075358,
          0.36684168855224064,
          -2.0657249266065505,
          -1.054235503073858,
          -0.21987991107946464,
          -1.456780720686042,
          -0.4167727005050086,
          -1.5107321321464289,
          -1.5805106181865234,
          -1.1973759637381312,
          0.5328020036026645,
          -1.9329367662963,
          -1.3959111854313806,
          -1.5874287419807978,
          -1.9102911092718755,
          -1.2547366664208763,
          -1.6722130864667466,
          -0.9476267176973376,
          -1.4633006790820848,
          -1.552987435033761,
          -1.3923028115099063,
          -2.067566441573372,
          -1.5863337871356606
         ],
         "xaxis": "x9",
         "y": [
          0.08872219589496226,
          -0.09438932615775084,
          -0.2161716302980719,
          -0.2792531115793885,
          -0.35460043644318434,
          -0.4185580494089648,
          -0.4457181316273094,
          -0.6428477606314256,
          -0.6507329457915906,
          -0.6708839745342333,
          -0.7050531102282791,
          -0.7234518756019981,
          -0.7523642211892679,
          -0.7567448796115824,
          -0.7611255380338959,
          -0.8233308876307504,
          -0.8382251262666173,
          -0.882031710489754,
          -0.9144485828148754,
          -0.9494938501933852,
          -0.9845391175718948,
          -1.176411956469234,
          -1.2097049604788186,
          -1.2149617505855952,
          -1.2438740961728656,
          -1.265777388284434,
          -1.289432943764928,
          -1.29644199724063,
          -1.3411247131482296,
          -1.3971971409538448,
          -1.4848103094001193,
          -1.4874387044535071,
          -1.4970761529825976,
          -1.506713601511687,
          -1.5075897331961503,
          -1.5671666877396164,
          -1.674054753244071,
          -1.7835712138019135,
          -2.164688496543205,
          -2.2225131877177464
         ],
         "yaxis": "y9"
        },
        {
         "hovertemplate": "<b>%{hovertext}</b><br><br>region=Southern Asia<br>year=2015<br>gdp_std=%{x}<br>score_std=%{y}<extra></extra>",
         "hovertext": [
          "Bhutan",
          "Pakistan",
          "Bangladesh",
          "India",
          "Nepal",
          "Sri Lanka",
          "Afghanistan"
         ],
         "ids": [
          "Bhutan",
          "Pakistan",
          "Bangladesh",
          "India",
          "Nepal",
          "Sri Lanka",
          "Afghanistan"
         ],
         "legendgroup": "Southern Asia",
         "marker": {
          "color": "#FECB52",
          "symbol": "circle"
         },
         "mode": "markers",
         "name": "Southern Asia",
         "orientation": "v",
         "showlegend": true,
         "type": "scatter",
         "x": [
          -0.18842484461916545,
          -0.6238933635976278,
          -1.1163741905353828,
          -0.5005616314953787,
          -1.2098435177702591,
          -0.0271180876605739,
          -1.3097581473890103
         ],
         "xaxis": "x10",
         "y": [
          -0.10753130142469244,
          -0.15922307080799347,
          -0.5972889130393635,
          -0.7103099003350565,
          -0.7549926162426579,
          -0.9678926155671024,
          -1.5776802679531692
         ],
         "yaxis": "y10"
        }
       ],
       "frames": [
        {
         "data": [
          {
           "hovertemplate": "<b>%{hovertext}</b><br><br>region=Western Europe<br>year=2015<br>gdp_std=%{x}<br>score_std=%{y}<extra></extra>",
           "hovertext": [
            "Switzerland",
            "Iceland",
            "Denmark",
            "Norway",
            "Finland",
            "Netherlands",
            "Sweden",
            "Austria",
            "Luxembourg",
            "Ireland",
            "Belgium",
            "United Kingdom",
            "Germany",
            "France",
            "Spain",
            "Malta",
            "Italy",
            "North Cyprus",
            "Cyprus",
            "Portugal",
            "Greece"
           ],
           "ids": [
            "Switzerland",
            "Iceland",
            "Denmark",
            "Norway",
            "Finland",
            "Netherlands",
            "Sweden",
            "Austria",
            "Luxembourg",
            "Ireland",
            "Belgium",
            "United Kingdom",
            "Germany",
            "France",
            "Spain",
            "Malta",
            "Italy",
            "North Cyprus",
            "Cyprus",
            "Portugal",
            "Greece"
           ],
           "legendgroup": "Western Europe",
           "marker": {
            "color": "#636efa",
            "symbol": "circle"
           },
           "mode": "markers",
           "name": "Western Europe",
           "orientation": "v",
           "showlegend": true,
           "type": "scatter",
           "x": [
            1.3696212439986155,
            1.1352262511271294,
            1.1928606925211591,
            1.5251297173454594,
            1.1051896488980304,
            1.202715286127392,
            1.2083642577148033,
            1.2221009639537943,
            1.7862017918984652,
            1.2189405261053312,
            1.148913186691342,
            1.0457634632119592,
            1.1989327148441915,
            1.0741576331733522,
            0.9555292298377144,
            0.8990146286262116,
            1.0078630943677849,
            0.9006570608939168,
            0.9008312582556433,
            0.7808341613635841,
            0.7662762389907402
           ],
           "xaxis": "x",
           "y": [
            1.9373600501113448,
            1.9145806263153118,
            1.884792149043579,
            1.8804114906212652,
            1.7787802152235888,
            1.75424852805863,
            1.741982684476152,
            1.598297088224263,
            1.3757596403707284,
            1.370502850263951,
            1.3678744552105626,
            1.3065452372981714,
            1.20403783021603,
            1.0507147854350507,
            0.8351863910572163,
            0.8115308355767229,
            0.5013802192769129,
            0.27971890310783953,
            0.2744621130010629,
            -0.23982718577856524,
            -0.4544794484719366
           ],
           "yaxis": "y"
          },
          {
           "hovertemplate": "<b>%{hovertext}</b><br><br>region=North America<br>year=2015<br>gdp_std=%{x}<br>score_std=%{y}<extra></extra>",
           "hovertext": [
            "Canada",
            "United States"
           ],
           "ids": [
            "Canada",
            "United States"
           ],
           "legendgroup": "North America",
           "marker": {
            "color": "#EF553B",
            "symbol": "circle"
           },
           "mode": "markers",
           "name": "North America",
           "orientation": "v",
           "showlegend": true,
           "type": "scatter",
           "x": [
            1.1948764048497065,
            1.3646441765207202
           ],
           "xaxis": "x2",
           "y": [
            1.7971789805973046,
            1.5273304217827808
           ],
           "yaxis": "y2"
          },
          {
           "hovertemplate": "<b>%{hovertext}</b><br><br>region=Australia and New Zealand<br>year=2015<br>gdp_std=%{x}<br>score_std=%{y}<extra></extra>",
           "hovertext": [
            "New Zealand",
            "Australia"
           ],
           "ids": [
            "New Zealand",
            "Australia"
           ],
           "legendgroup": "Australia and New Zealand",
           "marker": {
            "color": "#00cc96",
            "symbol": "circle"
           },
           "mode": "markers",
           "name": "Australia and New Zealand",
           "orientation": "v",
           "showlegend": true,
           "type": "scatter",
           "x": [
            1.0054741019783948,
            1.2130178158066356
           ],
           "xaxis": "x3",
           "y": [
            1.673644413088058,
            1.671892149719133
           ],
           "yaxis": "y3"
          },
          {
           "hovertemplate": "<b>%{hovertext}</b><br><br>region=Middle East and Northern Africa<br>year=2015<br>gdp_std=%{x}<br>score_std=%{y}<extra></extra>",
           "hovertext": [
            "Israel",
            "United Arab Emirates",
            "Oman",
            "Qatar",
            "Saudi Arabia",
            "Kuwait",
            "Bahrain",
            "Libya",
            "Algeria",
            "Turkey",
            "Jordan",
            "Morocco",
            "Lebanon",
            "Tunisia",
            "Palestinian Territories",
            "Iran",
            "Iraq",
            "Egypt",
            "Yemen",
            "Syria"
           ],
           "ids": [
            "Israel",
            "United Arab Emirates",
            "Oman",
            "Qatar",
            "Saudi Arabia",
            "Kuwait",
            "Bahrain",
            "Libya",
            "Algeria",
            "Turkey",
            "Jordan",
            "Morocco",
            "Lebanon",
            "Tunisia",
            "Palestinian Territories",
            "Iran",
            "Iraq",
            "Egypt",
            "Yemen",
            "Syria"
           ],
           "legendgroup": "Middle East and Northern Africa",
           "marker": {
            "color": "#ab63fa",
            "symbol": "circle"
           },
           "mode": "markers",
           "name": "Middle East and Northern Africa",
           "orientation": "v",
           "showlegend": true,
           "type": "scatter",
           "x": [
            0.9516968878797354,
            1.446168541808648,
            1.2790386159009186,
            2.101026195212742,
            1.3668838568857735,
            1.7620878999680618,
            1.188580414490169,
            0.710010491153132,
            0.23181384787693685,
            0.5346435185694858,
            0.13896665407679734,
            -0.277091301737873,
            0.4466987362350733,
            0.08708072561973718,
            -0.6158305142834372,
            0.4047918280711931,
            0.3467841066163218,
            0.0887480432248323,
            -0.7456822047817298,
            -0.4552454321091405
           ],
           "xaxis": "x4",
           "y": [
            1.6666353596123562,
            1.3363337145699037,
            1.2942793937156922,
            1.0822555260757103,
            0.9070291891831616,
            0.8053979137854832,
            0.5118937994904653,
            0.3314106724911406,
            0.20086705150619308,
            -0.03831689835213389,
            -0.16097533417691876,
            -0.3178029056957494,
            -0.4702498187922658,
            -0.5578629872385402,
            -0.578890147665646,
            -0.6042979665150654,
            -0.6121831516752303,
            -1.0353547552707334,
            -1.137862162352874,
            -2.076199196412469
           ],
           "yaxis": "y4"
          },
          {
           "hovertemplate": "<b>%{hovertext}</b><br><br>region=Latin America and Caribbean<br>year=2015<br>gdp_std=%{x}<br>score_std=%{y}<extra></extra>",
           "hovertext": [
            "Costa Rica",
            "Mexico",
            "Brazil",
            "Venezuela",
            "Panama",
            "Chile",
            "Argentina",
            "Uruguay",
            "Colombia",
            "Suriname",
            "Trinidad and Tobago",
            "El Salvador",
            "Guatemala",
            "Ecuador",
            "Bolivia",
            "Paraguay",
            "Nicaragua",
            "Peru",
            "Jamaica",
            "Dominican Republic",
            "Honduras",
            "Haiti"
           ],
           "ids": [
            "Costa Rica",
            "Mexico",
            "Brazil",
            "Venezuela",
            "Panama",
            "Chile",
            "Argentina",
            "Uruguay",
            "Colombia",
            "Suriname",
            "Trinidad and Tobago",
            "El Salvador",
            "Guatemala",
            "Ecuador",
            "Bolivia",
            "Paraguay",
            "Nicaragua",
            "Peru",
            "Jamaica",
            "Dominican Republic",
            "Honduras",
            "Haiti"
           ],
           "legendgroup": "Latin America and Caribbean",
           "marker": {
            "color": "#FFA15A",
            "symbol": "circle"
           },
           "mode": "markers",
           "name": "Latin America and Caribbean",
           "orientation": "v",
           "showlegend": true,
           "type": "scatter",
           "x": [
            0.27284976923218485,
            0.4340072141664397,
            0.33620783822579403,
            0.4929854637795009,
            0.5409892796038026,
            0.6495391212967023,
            0.516054171539546,
            0.5363357215119702,
            0.18035097015549809,
            0.37129616394495696,
            0.91003883308975,
            -0.20305742300417806,
            -0.2503644493815742,
            0.04450191334634198,
            -0.4101283154220183,
            -0.2147286462398428,
            -0.6293183671485337,
            0.13451217868408075,
            -0.08898303641081433,
            0.12251744606235315,
            -0.6241671023089123,
            -1.441874403589745
           ],
           "xaxis": "x5",
           "y": [
            1.621076512020294,
            1.5869073763262476,
            1.408176512695848,
            1.256605731283794,
            1.2355785708566889,
            1.1339472954590106,
            1.0498386537505875,
            0.9718629338334042,
            0.9648538803577024,
            0.7826184899894522,
            0.6941291898587139,
            0.6608361858491311,
            0.6547032640578906,
            0.5250357747574061,
            0.4505645815780733,
            0.44005100136452,
            0.3962444171413824,
            0.39273989040353263,
            0.2919847466903173,
            -0.42994776130698026,
            -0.5149325346998657,
            -0.7514880895048058
           ],
           "yaxis": "y5"
          },
          {
           "hovertemplate": "<b>%{hovertext}</b><br><br>region=Southeastern Asia<br>year=2015<br>gdp_std=%{x}<br>score_std=%{y}<extra></extra>",
           "hovertext": [
            "Singapore",
            "Thailand",
            "Malaysia",
            "Indonesia",
            "Vietnam",
            "Philippines",
            "Laos",
            "Myanmar",
            "Cambodia"
           ],
           "ids": [
            "Singapore",
            "Thailand",
            "Malaysia",
            "Indonesia",
            "Vietnam",
            "Philippines",
            "Laos",
            "Myanmar",
            "Cambodia"
           ],
           "legendgroup": "Southeastern Asia",
           "marker": {
            "color": "#19d3f3",
            "symbol": "circle"
           },
           "mode": "markers",
           "name": "Southeastern Asia",
           "orientation": "v",
           "showlegend": true,
           "type": "scatter",
           "x": [
            1.6815589481757132,
            0.3005222644092836,
            0.6936110538134663,
            -0.04446316782103935,
            -0.5324895193660778,
            -0.35042839102466244,
            -0.6357636695324084,
            -1.4310492818253224,
            -0.959969845042518
           ],
           "xaxis": "x6",
           "y": [
            1.2460921510702407,
            0.9455789832995216,
            0.3454287794425444,
            0.020383924506868288,
            -0.01378521118717831,
            -0.2652350046279846,
            -0.4378329464671444,
            -0.9363518749264436,
            -1.3639041369442608
           ],
           "yaxis": "y6"
          },
          {
           "hovertemplate": "<b>%{hovertext}</b><br><br>region=Central and Eastern Europe<br>year=2015<br>gdp_std=%{x}<br>score_std=%{y}<extra></extra>",
           "hovertext": [
            "Czech Republic",
            "Uzbekistan",
            "Slovakia",
            "Moldova",
            "Kazakhstan",
            "Slovenia",
            "Lithuania",
            "Belarus",
            "Poland",
            "Croatia",
            "Russia",
            "Kosovo",
            "Turkmenistan",
            "Estonia",
            "Kyrgyzstan",
            "Azerbaijan",
            "Montenegro",
            "Romania",
            "Serbia",
            "Latvia",
            "Macedonia",
            "Albania",
            "Bosnia and Herzegovina",
            "Hungary",
            "Tajikistan",
            "Ukraine",
            "Armenia",
            "Georgia",
            "Bulgaria"
           ],
           "ids": [
            "Czech Republic",
            "Uzbekistan",
            "Slovakia",
            "Moldova",
            "Kazakhstan",
            "Slovenia",
            "Lithuania",
            "Belarus",
            "Poland",
            "Croatia",
            "Russia",
            "Kosovo",
            "Turkmenistan",
            "Estonia",
            "Kyrgyzstan",
            "Azerbaijan",
            "Montenegro",
            "Romania",
            "Serbia",
            "Latvia",
            "Macedonia",
            "Albania",
            "Bosnia and Herzegovina",
            "Hungary",
            "Tajikistan",
            "Ukraine",
            "Armenia",
            "Georgia",
            "Bulgaria"
           ],
           "legendgroup": "Central and Eastern Europe",
           "marker": {
            "color": "#FF6692",
            "symbol": "circle"
           },
           "mode": "markers",
           "name": "Central and Eastern Europe",
           "orientation": "v",
           "showlegend": true,
           "type": "scatter",
           "x": [
            0.828290499765317,
            -0.5317927299191726,
            0.8032309650141134,
            -0.6262574706496282,
            0.6878376555391078,
            0.8432217021990034,
            0.7492795535537269,
            0.4623267281156652,
            0.6953281420933404,
            0.5882963059811988,
            0.7254145149972182,
            -0.11113098668744914,
            0.27954392498995445,
            0.7605028407163812,
            -0.9253792260711448,
            0.4423438021919144,
            0.3191364967766127,
            0.4910195221257321,
            0.18512895493427756,
            0.6643956677182203,
            0.18010211678160334,
            0.08095893262192601,
            -0.034608574214806724,
            0.6838560015567914,
            -1.1339432387323536,
            -0.1171283529983132,
            -0.19392450418223972,
            -0.2593978268539545,
            0.4131533014340576
           ],
           "xaxis": "x7",
           "y": [
            0.9893855675226586,
            0.5495674619223625,
            0.5425584084466614,
            0.4496884498936095,
            0.4198999726218781,
            0.4137670508306384,
            0.400625075563696,
            0.3831024418744424,
            0.36382754481626267,
            0.33579133091345503,
            0.298117668481557,
            0.18684894455478926,
            0.15092754549181578,
            0.046667875040749145,
            -0.07861895583742093,
            -0.14345270048766276,
            -0.16097533417691876,
            -0.22055228872038551,
            -0.22142842040484934,
            -0.24333171251641655,
            -0.3230596958025261,
            -0.3651140166567377,
            -0.3738753335013649,
            -0.5044189544863131,
            -0.5166847980687909,
            -0.608678624937379,
            -0.8986782124945463,
            -0.9451131917710714,
            -1.0143275948436277
           ],
           "yaxis": "y7"
          },
          {
           "hovertemplate": "<b>%{hovertext}</b><br><br>region=Eastern Asia<br>year=2015<br>gdp_std=%{x}<br>score_std=%{y}<extra></extra>",
           "hovertext": [
            "Taiwan",
            "Japan",
            "South Korea",
            "Hong Kong",
            "China",
            "Mongolia"
           ],
           "ids": [
            "Taiwan",
            "Japan",
            "South Korea",
            "Hong Kong",
            "China",
            "Mongolia"
           ],
           "legendgroup": "Eastern Asia",
           "marker": {
            "color": "#B6E880",
            "symbol": "circle"
           },
           "mode": "markers",
           "name": "Eastern Asia",
           "orientation": "v",
           "showlegend": true,
           "type": "scatter",
           "x": [
            1.1070062785274626,
            1.0566383556511605,
            0.9916129690524564,
            1.343566295751833,
            0.10945264393287736,
            -0.044662250520155364
           ],
           "xaxis": "x8",
           "y": [
            0.8080263088388707,
            0.5355493549709595,
            0.5329209599175712,
            0.08609380084157395,
            -0.20653418176898167,
            -0.4395852098360705
           ],
           "yaxis": "y8"
          },
          {
           "hovertemplate": "<b>%{hovertext}</b><br><br>region=Sub-Saharan Africa<br>year=2015<br>gdp_std=%{x}<br>score_std=%{y}<extra></extra>",
           "hovertext": [
            "Mauritius",
            "Nigeria",
            "Zambia",
            "Somaliland region",
            "Mozambique",
            "Lesotho",
            "Swaziland",
            "South Africa",
            "Ghana",
            "Zimbabwe",
            "Liberia",
            "Sudan",
            "Congo (Kinshasa)",
            "Ethiopia",
            "Sierra Leone",
            "Mauritania",
            "Kenya",
            "Djibouti",
            "Botswana",
            "Malawi",
            "Cameroon",
            "Angola",
            "Mali",
            "Congo (Brazzaville)",
            "Comoros",
            "Uganda",
            "Senegal",
            "Gabon",
            "Niger",
            "Tanzania",
            "Madagascar",
            "Central African Republic",
            "Chad",
            "Guinea",
            "Ivory Coast",
            "Burkina Faso",
            "Rwanda",
            "Benin",
            "Burundi",
            "Togo"
           ],
           "ids": [
            "Mauritius",
            "Nigeria",
            "Zambia",
            "Somaliland region",
            "Mozambique",
            "Lesotho",
            "Swaziland",
            "South Africa",
            "Ghana",
            "Zimbabwe",
            "Liberia",
            "Sudan",
            "Congo (Kinshasa)",
            "Ethiopia",
            "Sierra Leone",
            "Mauritania",
            "Kenya",
            "Djibouti",
            "Botswana",
            "Malawi",
            "Cameroon",
            "Angola",
            "Mali",
            "Congo (Brazzaville)",
            "Comoros",
            "Uganda",
            "Senegal",
            "Gabon",
            "Niger",
            "Tanzania",
            "Madagascar",
            "Central African Republic",
            "Chad",
            "Guinea",
            "Ivory Coast",
            "Burkina Faso",
            "Rwanda",
            "Benin",
            "Burundi",
            "Togo"
           ],
           "legendgroup": "Sub-Saharan Africa",
           "marker": {
            "color": "#FF97FF",
            "symbol": "circle"
           },
           "mode": "markers",
           "name": "Sub-Saharan Africa",
           "orientation": "v",
           "showlegend": true,
           "type": "scatter",
           "x": [
            0.4018304729218453,
            -0.4772689556988279,
            -0.9350845076530409,
            -1.6366270539997938,
            -1.8988936247474948,
            -1.1713210154913485,
            -0.3336556736241546,
            0.1850294135847198,
            -0.7479467704841718,
            -1.4312483645244385,
            -1.9284574055661936,
            -0.8089407324257807,
            -2.105641007779272,
            -1.6310029677497724,
            -1.2838276258291752,
            -0.9756724929352784,
            -1.1980478678476472,
            -1.0100640292075358,
            0.36684168855224064,
            -2.0657249266065505,
            -1.054235503073858,
            -0.21987991107946464,
            -1.456780720686042,
            -0.4167727005050086,
            -1.5107321321464289,
            -1.5805106181865234,
            -1.1973759637381312,
            0.5328020036026645,
            -1.9329367662963,
            -1.3959111854313806,
            -1.5874287419807978,
            -1.9102911092718755,
            -1.2547366664208763,
            -1.6722130864667466,
            -0.9476267176973376,
            -1.4633006790820848,
            -1.552987435033761,
            -1.3923028115099063,
            -2.067566441573372,
            -1.5863337871356606
           ],
           "xaxis": "x9",
           "y": [
            0.08872219589496226,
            -0.09438932615775084,
            -0.2161716302980719,
            -0.2792531115793885,
            -0.35460043644318434,
            -0.4185580494089648,
            -0.4457181316273094,
            -0.6428477606314256,
            -0.6507329457915906,
            -0.6708839745342333,
            -0.7050531102282791,
            -0.7234518756019981,
            -0.7523642211892679,
            -0.7567448796115824,
            -0.7611255380338959,
            -0.8233308876307504,
            -0.8382251262666173,
            -0.882031710489754,
            -0.9144485828148754,
            -0.9494938501933852,
            -0.9845391175718948,
            -1.176411956469234,
            -1.2097049604788186,
            -1.2149617505855952,
            -1.2438740961728656,
            -1.265777388284434,
            -1.289432943764928,
            -1.29644199724063,
            -1.3411247131482296,
            -1.3971971409538448,
            -1.4848103094001193,
            -1.4874387044535071,
            -1.4970761529825976,
            -1.506713601511687,
            -1.5075897331961503,
            -1.5671666877396164,
            -1.674054753244071,
            -1.7835712138019135,
            -2.164688496543205,
            -2.2225131877177464
           ],
           "yaxis": "y9"
          },
          {
           "hovertemplate": "<b>%{hovertext}</b><br><br>region=Southern Asia<br>year=2015<br>gdp_std=%{x}<br>score_std=%{y}<extra></extra>",
           "hovertext": [
            "Bhutan",
            "Pakistan",
            "Bangladesh",
            "India",
            "Nepal",
            "Sri Lanka",
            "Afghanistan"
           ],
           "ids": [
            "Bhutan",
            "Pakistan",
            "Bangladesh",
            "India",
            "Nepal",
            "Sri Lanka",
            "Afghanistan"
           ],
           "legendgroup": "Southern Asia",
           "marker": {
            "color": "#FECB52",
            "symbol": "circle"
           },
           "mode": "markers",
           "name": "Southern Asia",
           "orientation": "v",
           "showlegend": true,
           "type": "scatter",
           "x": [
            -0.18842484461916545,
            -0.6238933635976278,
            -1.1163741905353828,
            -0.5005616314953787,
            -1.2098435177702591,
            -0.0271180876605739,
            -1.3097581473890103
           ],
           "xaxis": "x10",
           "y": [
            -0.10753130142469244,
            -0.15922307080799347,
            -0.5972889130393635,
            -0.7103099003350565,
            -0.7549926162426579,
            -0.9678926155671024,
            -1.5776802679531692
           ],
           "yaxis": "y10"
          }
         ],
         "name": "2015"
        },
        {
         "data": [
          {
           "hovertemplate": "<b>%{hovertext}</b><br><br>region=Western Europe<br>year=2016<br>gdp_std=%{x}<br>score_std=%{y}<extra></extra>",
           "hovertext": [
            "Denmark",
            "Switzerland",
            "Iceland",
            "Norway",
            "Finland",
            "Netherlands",
            "Sweden",
            "Austria",
            "Germany",
            "Belgium",
            "Ireland",
            "Luxembourg",
            "United Kingdom",
            "Malta",
            "France",
            "Spain",
            "Italy",
            "North Cyprus",
            "Cyprus",
            "Portugal",
            "Greece"
           ],
           "ids": [
            "Denmark",
            "Switzerland",
            "Iceland",
            "Norway",
            "Finland",
            "Netherlands",
            "Sweden",
            "Austria",
            "Germany",
            "Belgium",
            "Ireland",
            "Luxembourg",
            "United Kingdom",
            "Malta",
            "France",
            "Spain",
            "Italy",
            "North Cyprus",
            "Cyprus",
            "Portugal",
            "Greece"
           ],
           "legendgroup": "Western Europe",
           "marker": {
            "color": "#636efa",
            "symbol": "circle"
           },
           "mode": "markers",
           "name": "Western Europe",
           "orientation": "v",
           "showlegend": true,
           "type": "scatter",
           "x": [
            1.1862989011294092,
            1.3943083933298284,
            1.1495355636417377,
            1.5161477346993544,
            1.0992534327392869,
            1.2419788236471136,
            1.2106862209046312,
            1.2072092650443549,
            1.2011063565063884,
            1.146447637807786,
            1.2875196511037337,
            1.8081147694559443,
            1.091594404096022,
            0.8605835115891629,
            1.0722644746630197,
            0.9449787129249496,
            0.9751771687183944,
            0.8693123728048205,
            0.8867214664828452,
            0.7833853657403812,
            0.7172259468885591
           ],
           "xaxis": "x",
           "y": [
            1.883792064823923,
            1.868853993758837,
            1.8618243132576229,
            1.859188183069665,
            1.7844978277442431,
            1.7194732831079933,
            1.6772952001006978,
            1.5261570693245492,
            1.4163183114930458,
            1.3592021574206632,
            1.3398705360423202,
            1.3082369737868471,
            1.1799453046396509,
            0.971691019791122,
            0.9629039191646009,
            0.8600948418343157,
            0.5226701777759372,
            0.3416559048696197,
            0.14394614077291445,
            -0.2277482157288936,
            -0.3068321213675741
           ],
           "yaxis": "y"
          },
          {
           "hovertemplate": "<b>%{hovertext}</b><br><br>region=North America<br>year=2016<br>gdp_std=%{x}<br>score_std=%{y}<extra></extra>",
           "hovertext": [
            "Canada",
            "United States"
           ],
           "ids": [
            "Canada",
            "United States"
           ],
           "legendgroup": "North America",
           "marker": {
            "color": "#EF553B",
            "symbol": "circle"
           },
           "mode": "markers",
           "name": "North America",
           "orientation": "v",
           "showlegend": true,
           "type": "scatter",
           "x": [
            1.182335657736228,
            1.34721144576791
           ],
           "xaxis": "x2",
           "y": [
            1.776589437180376,
            1.5129764183847687
           ],
           "yaxis": "y2"
          },
          {
           "hovertemplate": "<b>%{hovertext}</b><br><br>region=Australia and New Zealand<br>year=2016<br>gdp_std=%{x}<br>score_std=%{y}<extra></extra>",
           "hovertext": [
            "New Zealand",
            "Australia"
           ],
           "ids": [
            "New Zealand",
            "Australia"
           ],
           "legendgroup": "Australia and New Zealand",
           "marker": {
            "color": "#00cc96",
            "symbol": "circle"
           },
           "mode": "markers",
           "name": "Australia and New Zealand",
           "orientation": "v",
           "showlegend": true,
           "type": "scatter",
           "x": [
            0.9890606777828524,
            1.1927422109404104
           ],
           "xaxis": "x3",
           "y": [
            1.7150797327947342,
            1.6966268214790416
           ],
           "yaxis": "y3"
          },
          {
           "hovertemplate": "<b>%{hovertext}</b><br><br>region=Middle East and Northern Africa<br>year=2016<br>gdp_std=%{x}<br>score_std=%{y}<extra></extra>",
           "hovertext": [
            "Israel",
            "United Arab Emirates",
            "Saudi Arabia",
            "Qatar",
            "Algeria",
            "Kuwait",
            "Bahrain",
            "Libya",
            "Turkey",
            "Jordan",
            "Morocco",
            "Lebanon",
            "Tunisia",
            "Iran",
            "Palestinian Territories",
            "Iraq",
            "Egypt",
            "Yemen",
            "Syria"
           ],
           "ids": [
            "Israel",
            "United Arab Emirates",
            "Saudi Arabia",
            "Qatar",
            "Algeria",
            "Kuwait",
            "Bahrain",
            "Libya",
            "Turkey",
            "Jordan",
            "Morocco",
            "Lebanon",
            "Tunisia",
            "Iran",
            "Palestinian Territories",
            "Iraq",
            "Egypt",
            "Yemen",
            "Syria"
           ],
           "legendgroup": "Middle East and Northern Africa",
           "marker": {
            "color": "#ab63fa",
            "symbol": "circle"
           },
           "mode": "markers",
           "name": "Middle East and Northern Africa",
           "orientation": "v",
           "showlegend": true,
           "type": "scatter",
           "x": [
            0.9331376114986956,
            1.5066164990544026,
            1.3024000496106485,
            2.11629949343494,
            0.2401778771080545,
            1.6126758099811385,
            1.1825544871260354,
            0.2747529206976504,
            0.5131310693280317,
            0.10418756853097208,
            -0.2754814227851635,
            0.4104271423783445,
            0.05679884844931034,
            0.3980268102892491,
            -0.689652514560959,
            0.29386402074084544,
            0.0001706652424400035,
            -0.9105486263833791,
            -0.5025533862754861
           ],
           "xaxis": "x4",
           "y": [
            1.6562061585970491,
            1.046381375116544,
            0.8759116229620504,
            0.8723967827114427,
            0.8548225814584026,
            0.7528922141907672,
            0.7344393028750748,
            0.2045771350959041,
            0.005988660936544972,
            -0.06958040445152787,
            -0.20314433397463572,
            -0.22247595535298048,
            -0.2962876006157503,
            -0.5001483351510202,
            -0.5519922288474898,
            -0.7092813300622016,
            -0.896446573407083,
            -1.4570635933790748,
            -2.0326186844161507
           ],
           "yaxis": "y4"
          },
          {
           "hovertemplate": "<b>%{hovertext}</b><br><br>region=Latin America and Caribbean<br>year=2016<br>gdp_std=%{x}<br>score_std=%{y}<extra></extra>",
           "hovertext": [
            "Costa Rica",
            "Puerto Rico",
            "Brazil",
            "Mexico",
            "Chile",
            "Panama",
            "Argentina",
            "Uruguay",
            "Colombia",
            "Guatemala",
            "Suriname",
            "Trinidad and Tobago",
            "Venezuela",
            "El Salvador",
            "Nicaragua",
            "Ecuador",
            "Belize",
            "Bolivia",
            "Peru",
            "Paraguay",
            "Jamaica",
            "Dominican Republic",
            "Honduras",
            "Haiti"
           ],
           "ids": [
            "Costa Rica",
            "Puerto Rico",
            "Brazil",
            "Mexico",
            "Chile",
            "Panama",
            "Argentina",
            "Uruguay",
            "Colombia",
            "Guatemala",
            "Suriname",
            "Trinidad and Tobago",
            "Venezuela",
            "El Salvador",
            "Nicaragua",
            "Ecuador",
            "Belize",
            "Bolivia",
            "Peru",
            "Paraguay",
            "Jamaica",
            "Dominican Republic",
            "Honduras",
            "Haiti"
           ],
           "legendgroup": "Latin America and Caribbean",
           "marker": {
            "color": "#FFA15A",
            "symbol": "circle"
           },
           "mode": "markers",
           "name": "Latin America and Caribbean",
           "orientation": "v",
           "showlegend": true,
           "type": "scatter",
           "x": [
            0.27939696663690017,
            0.986070009455482,
            0.32498642284681084,
            0.3919482161279272,
            0.6390309115973201,
            0.5572373485625794,
            0.4801850889736693,
            0.5536145064424318,
            0.1858595596824863,
            -0.29016730627891585,
            0.3476474218802171,
            0.9041062457842244,
            0.4371486423115141,
            -0.1949522073359771,
            -0.6322705856780847,
            0.046635439011581035,
            -0.1889708706812368,
            -0.3882028729127074,
            0.1024612477891568,
            -0.14625051091547026,
            -0.14722308598128156,
            0.1799025374043917,
            -0.6311764387290469,
            -1.4902519943602792
           ],
           "xaxis": "x5",
           "y": [
            1.4980383473196857,
            1.4558602643123868,
            1.3794124888616617,
            1.2265169379602083,
            1.1623711033866109,
            1.158856263136003,
            1.1140420499407495,
            1.021777493362287,
            0.9655400493525572,
            0.8275825695161894,
            0.7792535160703282,
            0.6905037997424721,
            0.6166921544797032,
            0.6026327934772708,
            0.535850828715718,
            0.5217914677132848,
            0.5042172664602447,
            0.3864701180648731,
            0.3170520231153618,
            0.13691646027169668,
            0.11231257851744113,
            -0.19962949372402725,
            -0.4491831515172021,
            -1.1899357343328592
           ],
           "yaxis": "y5"
          },
          {
           "hovertemplate": "<b>%{hovertext}</b><br><br>region=Southeastern Asia<br>year=2016<br>gdp_std=%{x}<br>score_std=%{y}<extra></extra>",
           "hovertext": [
            "Singapore",
            "Thailand",
            "Malaysia",
            "Indonesia",
            "Philippines",
            "Vietnam",
            "Laos",
            "Myanmar",
            "Cambodia"
           ],
           "ids": [
            "Singapore",
            "Thailand",
            "Malaysia",
            "Indonesia",
            "Philippines",
            "Vietnam",
            "Laos",
            "Myanmar",
            "Cambodia"
           ],
           "legendgroup": "Southeastern Asia",
           "marker": {
            "color": "#19d3f3",
            "symbol": "circle"
           },
           "mode": "markers",
           "name": "Southeastern Asia",
           "orientation": "v",
           "showlegend": true,
           "type": "scatter",
           "x": [
            1.6817529540303953,
            0.3292657531363811,
            0.7234504273097521,
            -0.006904818361338039,
            -0.3445585668344199,
            -0.5191357911475707,
            -0.664900479136058,
            -1.4898872787106001,
            -0.9673226958501208
           ],
           "xaxis": "x6",
           "y": [
            1.1922472455167796,
            0.9593890789139932,
            0.5472740595301935,
            -0.05991459376235547,
            -0.09066944595517648,
            -0.28222823961331783,
            -0.4447896012039421,
            -0.8674491413395666,
            -1.2962596519137544
           ],
           "yaxis": "y6"
          },
          {
           "hovertemplate": "<b>%{hovertext}</b><br><br>region=Central and Eastern Europe<br>year=2016<br>gdp_std=%{x}<br>score_std=%{y}<extra></extra>",
           "hovertext": [
            "Czech Republic",
            "Slovakia",
            "Uzbekistan",
            "Kazakhstan",
            "Moldova",
            "Russia",
            "Poland",
            "Lithuania",
            "Belarus",
            "Slovenia",
            "Turkmenistan",
            "Latvia",
            "Romania",
            "Estonia",
            "Croatia",
            "Kosovo",
            "Azerbaijan",
            "Kyrgyzstan",
            "Serbia",
            "Bosnia and Herzegovina",
            "Montenegro",
            "Hungary",
            "Macedonia",
            "Tajikistan",
            "Albania",
            "Armenia",
            "Ukraine",
            "Georgia",
            "Bulgaria"
           ],
           "ids": [
            "Czech Republic",
            "Slovakia",
            "Uzbekistan",
            "Kazakhstan",
            "Moldova",
            "Russia",
            "Poland",
            "Lithuania",
            "Belarus",
            "Slovenia",
            "Turkmenistan",
            "Latvia",
            "Romania",
            "Estonia",
            "Croatia",
            "Kosovo",
            "Azerbaijan",
            "Kyrgyzstan",
            "Serbia",
            "Bosnia and Herzegovina",
            "Montenegro",
            "Hungary",
            "Macedonia",
            "Tajikistan",
            "Albania",
            "Armenia",
            "Ukraine",
            "Georgia",
            "Bulgaria"
           ],
           "legendgroup": "Central and Eastern Europe",
           "marker": {
            "color": "#FF6692",
            "symbol": "circle"
           },
           "mode": "markers",
           "name": "Central and Eastern Europe",
           "orientation": "v",
           "showlegend": true,
           "type": "scatter",
           "x": [
            0.8638173236829861,
            0.7922844275925558,
            -0.5299800031313678,
            0.6699831130667689,
            -0.6373036616436588,
            0.6769127104106749,
            0.7099073195183278,
            0.7666813889850702,
            0.429732757434702,
            0.8402810070903494,
            0.3070667272592356,
            0.6419000080414642,
            0.5247533413644777,
            0.7920655982027484,
            0.5655771797519125,
            -0.1274798121453096,
            0.4129801519260993,
            -0.9566243701261952,
            0.19570688222382726,
            -0.0487498605678745,
            0.30271445383972906,
            0.6991360506644664,
            0.159065116619382,
            -1.1319067113620591,
            0.0034531060895537434,
            -0.2261718669485238,
            -0.1969703005975358,
            -0.2819490469728089,
            0.38703671204557977
           ],
           "xaxis": "x7",
           "y": [
            1.0665917065575403,
            0.61141989410379,
            0.5314572784024572,
            0.4717049941421191,
            0.4523733727637751,
            0.4163462601950418,
            0.39789334887934935,
            0.3785617275010046,
            0.3688959168118329,
            0.3390197746816635,
            0.2423616677899413,
            0.15624808165004225,
            0.12812935964517738,
            0.1184635489560058,
            0.09298095713909717,
            0.01653318168837045,
            -0.08012492520335178,
            -0.17326819184446707,
            -0.18029787234568248,
            -0.1925998132228126,
            -0.1943572333481149,
            -0.20841659435054807,
            -0.2295056358541959,
            -0.33934439368569896,
            -0.6389845250500396,
            -0.8982039935323869,
            -0.92983755578786,
            -0.993104680298806,
            -1.0238595324916269
           ],
           "yaxis": "y7"
          },
          {
           "hovertemplate": "<b>%{hovertext}</b><br><br>region=Eastern Asia<br>year=2016<br>gdp_std=%{x}<br>score_std=%{y}<extra></extra>",
           "hovertext": [
            "Taiwan",
            "Japan",
            "South Korea",
            "Hong Kong",
            "China",
            "Mongolia"
           ],
           "ids": [
            "Taiwan",
            "Japan",
            "South Korea",
            "Hong Kong",
            "China",
            "Mongolia"
           ],
           "legendgroup": "Eastern Asia",
           "marker": {
            "color": "#B6E880",
            "symbol": "circle"
           },
           "mode": "markers",
           "name": "Eastern Asia",
           "orientation": "v",
           "showlegend": true,
           "type": "scatter",
           "x": [
            1.0781242394345336,
            1.0362548828513516,
            0.9861915813387088,
            1.353873584968718,
            0.17973233676787467,
            0.08424977968183789
           ],
           "xaxis": "x8",
           "y": [
            0.8759116229620504,
            0.4734624142674237,
            0.39789334887934935,
            0.06661965525953463,
            -0.12054558808534516,
            -0.4175495892617296
           ],
           "yaxis": "y8"
          },
          {
           "hovertemplate": "<b>%{hovertext}</b><br><br>region=Sub-Saharan Africa<br>year=2016<br>gdp_std=%{x}<br>score_std=%{y}<extra></extra>",
           "hovertext": [
            "Mauritius",
            "Somalia",
            "Somaliland Region",
            "Nigeria",
            "Zambia",
            "Sierra Leone",
            "Namibia",
            "Cameroon",
            "Ethiopia",
            "South Africa",
            "Kenya",
            "Ghana",
            "Congo (Kinshasa)",
            "Congo (Brazzaville)",
            "Senegal",
            "Mauritania",
            "Zimbabwe",
            "Malawi",
            "Sudan",
            "Gabon",
            "Mali",
            "Botswana",
            "Comoros",
            "Ivory Coast",
            "Angola",
            "Niger",
            "South Sudan",
            "Chad",
            "Burkina Faso",
            "Uganda",
            "Madagascar",
            "Tanzania",
            "Liberia",
            "Guinea",
            "Rwanda",
            "Benin",
            "Togo",
            "Burundi"
           ],
           "ids": [
            "Mauritius",
            "Somalia",
            "Somaliland Region",
            "Nigeria",
            "Zambia",
            "Sierra Leone",
            "Namibia",
            "Cameroon",
            "Ethiopia",
            "South Africa",
            "Kenya",
            "Ghana",
            "Congo (Kinshasa)",
            "Congo (Brazzaville)",
            "Senegal",
            "Mauritania",
            "Zimbabwe",
            "Malawi",
            "Sudan",
            "Gabon",
            "Mali",
            "Botswana",
            "Comoros",
            "Ivory Coast",
            "Angola",
            "Niger",
            "South Sudan",
            "Chad",
            "Burkina Faso",
            "Uganda",
            "Madagascar",
            "Tanzania",
            "Liberia",
            "Guinea",
            "Rwanda",
            "Benin",
            "Togo",
            "Burundi"
           ],
           "legendgroup": "Sub-Saharan Africa",
           "marker": {
            "color": "#FF97FF",
            "symbol": "circle"
           },
           "mode": "markers",
           "name": "Sub-Saharan Africa",
           "orientation": "v",
           "showlegend": true,
           "type": "scatter",
           "x": [
            0.4615845908400258,
            -2.3192992948345834,
            -1.6978724565343732,
            -0.4904691410827787,
            -0.8312108153898118,
            -1.432189262931337,
            -0.0510840407258221,
            -1.0428674640870237,
            -1.607301403530684,
            0.17088190366899048,
            -1.048459770715439,
            -0.7848919278805426,
            -2.1816556086456216,
            -0.4444420260932533,
            -1.2418320081753955,
            -0.8266153982038527,
            -1.4672992228071295,
            -2.107545388630791,
            -0.7858158741930636,
            0.497545553898403,
            -1.5584538208503054,
            0.3413256839524429,
            -1.6504351076994208,
            -0.9696811903847136,
            -0.25911784730288595,
            -1.996647516751643,
            -1.3614587412702008,
            -1.2928921991304954,
            -1.5413608140686694,
            -1.4751284520869117,
            -1.6396152100922687,
            -1.1727548641261392,
            -2.0589895784701557,
            -1.7742925423305058,
            -1.5206692795435317,
            -1.358905731722446,
            -1.6355060804392156,
            -2.1532077879706373
           ],
           "xaxis": "x9",
           "y": [
            0.23357456716342045,
            0.05080287413179993,
            -0.28574307986392555,
            -0.4456683112665944,
            -0.5159651162787564,
            -0.6565587263030805,
            -0.710160040124854,
            -0.7637613539466275,
            -0.7681549042598874,
            -0.8112116973298371,
            -0.9017188337829952,
            -0.9720156387951574,
            -0.9755304790457652,
            -1.0071640413012368,
            -1.022102112366324,
            -1.0379188934940586,
            -1.0449485739952749,
            -1.0774608463133988,
            -1.092398917378486,
            -1.1082156985062206,
            -1.1503937815135181,
            -1.2373860777160686,
            -1.2532028588438051,
            -1.2883512613498862,
            -1.3322867644824872,
            -1.3410738651090075,
            -1.3621629066126564,
            -1.422793900935646,
            -1.4438829424392945,
            -1.4438829424392945,
            -1.4825461851959838,
            -1.5080287770128924,
            -1.5466920197695817,
            -1.5598726707093615,
            -1.6407139964733481,
            -1.6679540084155609,
            -1.8270005297555771,
            -2.1767271346910837
           ],
           "yaxis": "y9"
          },
          {
           "hovertemplate": "<b>%{hovertext}</b><br><br>region=Southern Asia<br>year=2016<br>gdp_std=%{x}<br>score_std=%{y}<extra></extra>",
           "hovertext": [
            "Bhutan",
            "Pakistan",
            "Nepal",
            "Bangladesh",
            "Sri Lanka",
            "India",
            "Afghanistan"
           ],
           "ids": [
            "Bhutan",
            "Pakistan",
            "Nepal",
            "Bangladesh",
            "Sri Lanka",
            "India",
            "Afghanistan"
           ],
           "legendgroup": "Southern Asia",
           "marker": {
            "color": "#FECB52",
            "symbol": "circle"
           },
           "mode": "markers",
           "name": "Southern Asia",
           "orientation": "v",
           "showlegend": true,
           "type": "scatter",
           "x": [
            -0.246012398291077,
            -0.6460811516126069,
            -1.2342459226620663,
            -1.0020193113229434,
            0.04692721153132449,
            -0.5191601055242159,
            -1.3898336188152494
           ],
           "xaxis": "x10",
           "y": [
            -0.16360238115529313,
            -0.2198398251650228,
            -0.5177225364040603,
            -0.6495290458018643,
            -0.8498749400865258,
            -0.8595407507756981,
            -1.776914056184412
           ],
           "yaxis": "y10"
          }
         ],
         "name": "2016"
        },
        {
         "data": [
          {
           "hovertemplate": "<b>%{hovertext}</b><br><br>region=Western Europe<br>year=2017<br>gdp_std=%{x}<br>score_std=%{y}<extra></extra>",
           "hovertext": [
            "Norway",
            "Denmark",
            "Iceland",
            "Switzerland",
            "Finland",
            "Netherlands",
            "Sweden",
            "Austria",
            "Ireland",
            "Germany",
            "Belgium",
            "Luxembourg",
            "United Kingdom",
            "Malta",
            "France",
            "Spain",
            "Italy",
            "North Cyprus",
            "Cyprus",
            "Greece",
            "Portugal"
           ],
           "ids": [
            "Norway",
            "Denmark",
            "Iceland",
            "Switzerland",
            "Finland",
            "Netherlands",
            "Sweden",
            "Austria",
            "Ireland",
            "Germany",
            "Belgium",
            "Luxembourg",
            "United Kingdom",
            "Malta",
            "France",
            "Spain",
            "Italy",
            "North Cyprus",
            "Cyprus",
            "Greece",
            "Portugal"
           ],
           "legendgroup": "Western Europe",
           "marker": {
            "color": "#636efa",
            "symbol": "circle"
           },
           "mode": "markers",
           "name": "Western Europe",
           "orientation": "v",
           "showlegend": true,
           "type": "scatter",
           "x": [
            1.5061876523392312,
            1.1865176846957697,
            1.1823454032800014,
            1.383441906020501,
            1.0939854396021416,
            1.2379242644731816,
            1.21513787587306,
            1.1977572597479458,
            1.3136502925297202,
            1.199726872938099,
            1.142166747114287,
            1.8053543343631393,
            1.0893649532347462,
            0.8548720222533878,
            1.0638293491989637,
            0.9529043981317946,
            0.9783405274282436,
            0.863530070106997,
            0.8850514179216941,
            0.7266218774849604,
            0.7878660018694021
           ],
           "xaxis": "x",
           "y": [
            1.9359960224893675,
            1.9226928344471281,
            1.9067296851150561,
            1.8978608927912757,
            1.8756893354569624,
            1.7940983074177002,
            1.71162048519583,
            1.4650738127128269,
            1.4393550768743677,
            1.4162967244705875,
            1.3630848165913239,
            1.3382528749354732,
            1.2061111694018976,
            1.040268306856985,
            0.9648852646751148,
            0.9302977365128744,
            0.5409669769204447,
            0.4043904526367024,
            0.23677400083971614,
            -0.11264803891568917,
            -0.14102758210739458
           ],
           "yaxis": "y"
          },
          {
           "hovertemplate": "<b>%{hovertext}</b><br><br>region=North America<br>year=2017<br>gdp_std=%{x}<br>score_std=%{y}<extra></extra>",
           "hovertext": [
            "Canada",
            "United States"
           ],
           "ids": [
            "Canada",
            "United States"
           ],
           "legendgroup": "North America",
           "marker": {
            "color": "#EF553B",
            "symbol": "circle"
           },
           "mode": "markers",
           "name": "North America",
           "orientation": "v",
           "showlegend": true,
           "type": "scatter",
           "x": [
            1.1789393679874651,
            1.3388095958073312
           ],
           "xaxis": "x2",
           "y": [
            1.7400000283875354,
            1.4535446369543668
           ],
           "yaxis": "y2"
          },
          {
           "hovertemplate": "<b>%{hovertext}</b><br><br>region=Australia and New Zealand<br>year=2017<br>gdp_std=%{x}<br>score_std=%{y}<extra></extra>",
           "hovertext": [
            "New Zealand",
            "Australia"
           ],
           "ids": [
            "New Zealand",
            "Australia"
           ],
           "legendgroup": "Australia and New Zealand",
           "marker": {
            "color": "#00cc96",
            "symbol": "circle"
           },
           "mode": "markers",
           "name": "Australia and New Zealand",
           "orientation": "v",
           "showlegend": true,
           "type": "scatter",
           "x": [
            1.0037067385451353,
            1.1913621328729278
           ],
           "xaxis": "x3",
           "y": [
            1.738226439135462,
            1.71162048519583
           ],
           "yaxis": "y3"
          },
          {
           "hovertemplate": "<b>%{hovertext}</b><br><br>region=Middle East and Northern Africa<br>year=2017<br>gdp_std=%{x}<br>score_std=%{y}<extra></extra>",
           "hovertext": [
            "Israel",
            "United Arab Emirates",
            "Qatar",
            "Saudi Arabia",
            "Kuwait",
            "Bahrain",
            "Algeria",
            "Libya",
            "Turkey",
            "Jordan",
            "Morocco",
            "Lebanon",
            "Tunisia",
            "Palestinian Territories",
            "Egypt",
            "Iran",
            "Iraq",
            "Yemen",
            "Syria"
           ],
           "ids": [
            "Israel",
            "United Arab Emirates",
            "Qatar",
            "Saudi Arabia",
            "Kuwait",
            "Bahrain",
            "Algeria",
            "Libya",
            "Turkey",
            "Jordan",
            "Morocco",
            "Lebanon",
            "Tunisia",
            "Palestinian Territories",
            "Egypt",
            "Iran",
            "Iraq",
            "Yemen",
            "Syria"
           ],
           "legendgroup": "Middle East and Northern Africa",
           "marker": {
            "color": "#ab63fa",
            "symbol": "circle"
           },
           "mode": "markers",
           "name": "Middle East and Northern Africa",
           "orientation": "v",
           "showlegend": true,
           "type": "scatter",
           "x": [
            0.9314100510462621,
            1.529743696426178,
            2.1124881364428147,
            1.3015313543922606,
            1.5455008761269924,
            1.2008924389841895,
            0.2554549478799601,
            0.27915025612514005,
            0.5091542926371633,
            0.015006426131833537,
            -0.25416119171620444,
            0.21521745754262508,
            0.053757329038541794,
            -0.6400757663337105,
            0.011881763470984654,
            0.4104466195817024,
            0.2813137023643978,
            -0.9370618074818272,
            -0.4948704797117204
           ],
           "xaxis": "x4",
           "y": [
            1.6486534138418858,
            1.1475780707347063,
            0.9054657948570228,
            0.8779730467347833,
            0.6660139024140179,
            0.6500503300502399,
            0.4593759488811816,
            0.1516357942963075,
            0.1294642369619945,
            -0.01598065661381979,
            -0.10555325887568992,
            -0.11442205119946948,
            -0.4869028672772202,
            -0.5135083981851454,
            -0.5489827205299919,
            -0.5871178511149426,
            -0.7600550706681487,
            -1.5617757874333429,
            -1.6779543436348447
           ],
           "yaxis": "y4"
          },
          {
           "hovertemplate": "<b>%{hovertext}</b><br><br>region=Latin America and Caribbean<br>year=2017<br>gdp_std=%{x}<br>score_std=%{y}<extra></extra>",
           "hovertext": [
            "Costa Rica",
            "Chile",
            "Brazil",
            "Argentina",
            "Mexico",
            "Uruguay",
            "Guatemala",
            "Panama",
            "Colombia",
            "Trinidad and Tobago",
            "Nicaragua",
            "Ecuador",
            "El Salvador",
            "Belize",
            "Bolivia",
            "Peru",
            "Paraguay",
            "Jamaica",
            "Venezuela",
            "Dominican Republic",
            "Honduras",
            "Haiti"
           ],
           "ids": [
            "Costa Rica",
            "Chile",
            "Brazil",
            "Argentina",
            "Mexico",
            "Uruguay",
            "Guatemala",
            "Panama",
            "Colombia",
            "Trinidad and Tobago",
            "Nicaragua",
            "Ecuador",
            "El Salvador",
            "Belize",
            "Bolivia",
            "Peru",
            "Paraguay",
            "Jamaica",
            "Venezuela",
            "Dominican Republic",
            "Honduras",
            "Haiti"
           ],
           "legendgroup": "Latin America and Caribbean",
           "marker": {
            "color": "#FFA15A",
            "symbol": "circle"
           },
           "mode": "markers",
           "name": "Latin America and Caribbean",
           "orientation": "v",
           "showlegend": true,
           "type": "scatter",
           "x": [
            0.2979928765004464,
            0.6391159808450152,
            0.2923827496325991,
            0.4782103579115929,
            0.4016507261512161,
            0.5551337830725074,
            -0.26873475481724124,
            0.5937304992987893,
            0.20481006284458966,
            0.8979684332406709,
            -0.5898890377769902,
            0.038390378419058686,
            -0.1786547195226301,
            -0.1829681128286484,
            -0.3599182556729486,
            0.12041745875711488,
            -0.12440811841360057,
            -0.14099719475228567,
            0.3426362707215536,
            0.22567515823495385,
            -0.6059251725607617,
            -1.4689062776936381
           ],
           "xaxis": "x5",
           "y": [
            1.5298144733188446,
            1.1511256722705605,
            1.1360493180079534,
            1.104122173280395,
            1.085498217481935,
            0.9755276462509672,
            0.9755276462509672,
            0.9737540569988936,
            0.889502222493244,
            0.7218861937279653,
            0.6358607699702407,
            0.5799884786562964,
            0.5755540829378358,
            0.5338717738487387,
            0.4159196283951632,
            0.3201390411627589,
            0.12325625199146108,
            -0.0381522148349918,
            -0.09225049386515646,
            -0.10998765548100957,
            -0.15344355293532114,
            -1.5529072061819873
           ],
           "yaxis": "y5"
          },
          {
           "hovertemplate": "<b>%{hovertext}</b><br><br>region=Southeastern Asia<br>year=2017<br>gdp_std=%{x}<br>score_std=%{y}<extra></extra>",
           "hovertext": [
            "Singapore",
            "Thailand",
            "Malaysia",
            "Philippines",
            "Indonesia",
            "Vietnam",
            "Myanmar",
            "Cambodia"
           ],
           "ids": [
            "Singapore",
            "Thailand",
            "Malaysia",
            "Philippines",
            "Indonesia",
            "Vietnam",
            "Myanmar",
            "Cambodia"
           ],
           "legendgroup": "Southeastern Asia",
           "marker": {
            "color": "#19d3f3",
            "symbol": "circle"
           },
           "mode": "markers",
           "name": "Southeastern Asia",
           "orientation": "v",
           "showlegend": true,
           "type": "scatter",
           "x": [
            1.6869423016342835,
            0.3412953441781968,
            0.730741578407924,
            -0.30283490192984525,
            0.02579765318216248,
            -0.467704191373788,
            -1.4724818489552862,
            -0.9130254389003556
           ],
           "xaxis": "x6",
           "y": [
            1.0801770266940092,
            0.9489216923113352,
            0.6473899466155595,
            0.06738395979065714,
            -0.08160811228930417,
            -0.2483377690168238,
            -0.7174859673964441,
            -1.0518316528892424
           ],
           "yaxis": "y6"
          },
          {
           "hovertemplate": "<b>%{hovertext}</b><br><br>region=Central and Eastern Europe<br>year=2017<br>gdp_std=%{x}<br>score_std=%{y}<extra></extra>",
           "hovertext": [
            "Czech Republic",
            "Slovakia",
            "Poland",
            "Uzbekistan",
            "Russia",
            "Lithuania",
            "Latvia",
            "Moldova",
            "Romania",
            "Turkmenistan",
            "Kazakhstan",
            "Slovenia",
            "Estonia",
            "Belarus",
            "Serbia",
            "Hungary",
            "Croatia",
            "Kosovo",
            "Montenegro",
            "Azerbaijan",
            "Bosnia and Herzegovina",
            "Macedonia",
            "Tajikistan",
            "Kyrgyzstan",
            "Bulgaria",
            "Albania",
            "Armenia",
            "Georgia",
            "Ukraine"
           ],
           "ids": [
            "Czech Republic",
            "Slovakia",
            "Poland",
            "Uzbekistan",
            "Russia",
            "Lithuania",
            "Latvia",
            "Moldova",
            "Romania",
            "Turkmenistan",
            "Kazakhstan",
            "Slovenia",
            "Estonia",
            "Belarus",
            "Serbia",
            "Hungary",
            "Croatia",
            "Kosovo",
            "Montenegro",
            "Azerbaijan",
            "Bosnia and Herzegovina",
            "Macedonia",
            "Tajikistan",
            "Kyrgyzstan",
            "Bulgaria",
            "Albania",
            "Armenia",
            "Georgia",
            "Ukraine"
           ],
           "legendgroup": "Central and Eastern Europe",
           "marker": {
            "color": "#FF6692",
            "symbol": "circle"
           },
           "mode": "markers",
           "name": "Central and Eastern Europe",
           "orientation": "v",
           "showlegend": true,
           "type": "scatter",
           "x": [
            0.8772892149229675,
            0.8122280814984802,
            0.7321063800331228,
            -0.4727264152127727,
            0.7082413927686105,
            0.7864523152154357,
            0.6581035492406584,
            -0.6099841939642577,
            0.5554299351761676,
            0.34822849008593504,
            0.7148650304504117,
            0.8499275295201832,
            0.8014654168088929,
            0.4096943017816304,
            0.20169932612273,
            0.7183355813925028,
            0.5670463808032284,
            -0.079235087902709,
            0.32522666546920626,
            0.4026471853788571,
            -0.005504534132063012,
            0.19039921221713524,
            -1.0967292473087702,
            -0.9262457111506226,
            0.4213803794878075,
            0.02735728443967029,
            -0.20055989968962115,
            -0.08131341210811452,
            -0.21473328933481453
           ],
           "xaxis": "x7",
           "y": [
            1.1129909656041743,
            0.6598059174434854,
            0.5489485520299099,
            0.5471749627778372,
            0.5400797597061311,
            0.4859814797891074,
            0.4398647758684079,
            0.4292223942925557,
            0.4176932176472367,
            0.4150328342125563,
            0.4123720268593102,
            0.3582737478291455,
            0.22790563154764415,
            0.1906572960321592,
            0.036344033164272926,
            -0.02662303818967286,
            -0.05411536416706385,
            -0.0665317580266972,
            -0.1037796696236164,
            -0.10644005394515578,
            -0.15255675875271352,
            -0.15876474372324692,
            -0.27760410727799506,
            -0.3104176231564544,
            -0.56760667721531,
            -0.6296869543866473,
            -0.8673652566907192,
            -0.9471826954779086,
            -1.115685518425795
           ],
           "yaxis": "y7"
          },
          {
           "hovertemplate": "<b>%{hovertext}</b><br><br>region=Eastern Asia<br>year=2017<br>gdp_std=%{x}<br>score_std=%{y}<extra></extra>",
           "hovertext": [
            "Taiwan Province of China",
            "Japan",
            "South Korea",
            "Hong Kong S.A.R., China",
            "China",
            "Mongolia"
           ],
           "ids": [
            "Taiwan Province of China",
            "Japan",
            "South Korea",
            "Hong Kong S.A.R., China",
            "China",
            "Mongolia"
           ],
           "legendgroup": "Eastern Asia",
           "marker": {
            "color": "#B6E880",
            "symbol": "circle"
           },
           "mode": "markers",
           "name": "Eastern Asia",
           "orientation": "v",
           "showlegend": true,
           "type": "scatter",
           "x": [
            1.070273930919463,
            1.030431213892138,
            0.9941042421399764,
            1.3517212109804744,
            0.22994748182259775,
            0.10136935389222396
           ],
           "xaxis": "x8",
           "y": [
            0.9471481030592616,
            0.5019450521528862,
            0.4292223942925557,
            0.10463229530614288,
            -0.07185294881462295,
            -0.3538739436424728
           ],
           "yaxis": "y8"
          },
          {
           "hovertemplate": "<b>%{hovertext}</b><br><br>region=Sub-Saharan Africa<br>year=2017<br>gdp_std=%{x}<br>score_std=%{y}<extra></extra>",
           "hovertext": [
            "Mauritius",
            "Somalia",
            "Nigeria",
            "South Africa",
            "Sierra Leone",
            "Cameroon",
            "Namibia",
            "Kenya",
            "Mozambique",
            "Senegal",
            "Zambia",
            "Gabon",
            "Ethiopia",
            "Mauritania",
            "Congo (Brazzaville)",
            "Congo (Kinshasa)",
            "Mali",
            "Ivory Coast",
            "Sudan",
            "Ghana",
            "Uganda",
            "Burkina Faso",
            "Niger",
            "Malawi",
            "Chad",
            "Zimbabwe",
            "Lesotho",
            "Angola",
            "Botswana",
            "Benin",
            "Madagascar",
            "South Sudan",
            "Liberia",
            "Guinea",
            "Togo",
            "Rwanda",
            "Tanzania",
            "Burundi",
            "Central African Republic"
           ],
           "ids": [
            "Mauritius",
            "Somalia",
            "Nigeria",
            "South Africa",
            "Sierra Leone",
            "Cameroon",
            "Namibia",
            "Kenya",
            "Mozambique",
            "Senegal",
            "Zambia",
            "Gabon",
            "Ethiopia",
            "Mauritania",
            "Congo (Brazzaville)",
            "Congo (Kinshasa)",
            "Mali",
            "Ivory Coast",
            "Sudan",
            "Ghana",
            "Uganda",
            "Burkina Faso",
            "Niger",
            "Malawi",
            "Chad",
            "Zimbabwe",
            "Lesotho",
            "Angola",
            "Botswana",
            "Benin",
            "Madagascar",
            "South Sudan",
            "Liberia",
            "Guinea",
            "Togo",
            "Rwanda",
            "Tanzania",
            "Burundi",
            "Central African Republic"
           ],
           "legendgroup": "Sub-Saharan Africa",
           "marker": {
            "color": "#FF97FF",
            "symbol": "circle"
           },
           "mode": "markers",
           "name": "Sub-Saharan Africa",
           "orientation": "v",
           "showlegend": true,
           "type": "scatter",
           "x": [
            0.4879856565992372,
            -2.293750728030988,
            -0.4791275120503367,
            0.16684544262869788,
            -1.4693576822018692,
            -1.002335818708141,
            -0.04836021543954176,
            -1.0114574231862334,
            -1.7891113532978271,
            -1.2049815791809746,
            -0.8304337655669062,
            0.5090013838720425,
            -1.5389446623518794,
            -0.8017032969744459,
            -0.4190273555128237,
            -2.1281482466014867,
            -1.2124405228642403,
            -0.9099645814062982,
            -0.7753357963007927,
            -0.7569582965657163,
            -1.4383401362168753,
            -1.5127334058976611,
            -1.961678363469327,
            -1.7911703514184107,
            -1.3034383612226177,
            -1.4516537725778793,
            -1.1055325292831577,
            -0.3010969251937982,
            0.3275276711848997,
            -1.3199548896418536,
            -1.6186359185505144,
            -1.4006275418798857,
            -2.0639200230872667,
            -1.7646872447088653,
            -1.6195036993362582,
            -1.468582912669652,
            -1.1291009376775176,
            -2.1292921238499427,
            -2.3477359358558267
           ],
           "xaxis": "x9",
           "y": [
            0.24386920391142375,
            -0.18004950687495305,
            -0.2483377690168238,
            -0.4656181041255141,
            -0.5720410729337707,
            -0.5844570437616965,
            -0.6917672306711257,
            -0.7103911873564439,
            -0.7130515707911242,
            -0.7263547597202236,
            -0.7449787155186836,
            -0.7884346129729951,
            -0.7928690095783141,
            -0.941861504689982,
            -0.9427482997594481,
            -0.9525034632341284,
            -1.032320902021318,
            -1.0411896943450976,
            -1.0775508117594101,
            -1.0944011783057963,
            -1.1289887073548934,
            -1.172444604809206,
            -1.1759922063450587,
            -1.2274298899812606,
            -1.257583022425039,
            -1.3116815134144866,
            -1.3711009832325778,
            -1.3826301598778967,
            -1.4083491076756391,
            -1.5050167010499322,
            -1.5165458776952512,
            -1.5635493766854165,
            -1.6149872722809004,
            -1.6380456246846793,
            -1.6486880053736732,
            -1.669972557452955,
            -1.7781693274725674,
            -2.171934694742741,
            -2.35994869159026
           ],
           "yaxis": "y9"
          },
          {
           "hovertemplate": "<b>%{hovertext}</b><br><br>region=Southern Asia<br>year=2017<br>gdp_std=%{x}<br>score_std=%{y}<extra></extra>",
           "hovertext": [
            "Pakistan",
            "Bhutan",
            "Nepal",
            "Bangladesh",
            "Sri Lanka",
            "India",
            "Afghanistan"
           ],
           "ids": [
            "Pakistan",
            "Bhutan",
            "Nepal",
            "Bangladesh",
            "Sri Lanka",
            "India",
            "Afghanistan"
           ],
           "legendgroup": "Southern Asia",
           "marker": {
            "color": "#FECB52",
            "symbol": "circle"
           },
           "mode": "markers",
           "name": "Southern Asia",
           "orientation": "v",
           "showlegend": true,
           "type": "scatter",
           "x": [
            -0.6147217764740114,
            -0.2367524376126703,
            -1.2037628628253674,
            -0.9489837845386886,
            0.0599188310613861,
            -0.45894552914742,
            -1.3905458582294568
           ],
           "xaxis": "x10",
           "y": [
            -0.07540012731876998,
            -0.30420963818592023,
            -0.3476659586719393,
            -0.6616140982273467,
            -0.8106061711941671,
            -0.9214635366077426,
            -1.3835171660197865
           ],
           "yaxis": "y10"
          }
         ],
         "name": "2017"
        },
        {
         "data": [
          {
           "hovertemplate": "<b>%{hovertext}</b><br><br>region=Western Europe<br>year=2018<br>gdp_std=%{x}<br>score_std=%{y}<extra></extra>",
           "hovertext": [
            "Finland",
            "Norway",
            "Denmark",
            "Iceland",
            "Switzerland",
            "Netherlands",
            "Sweden",
            "United Kingdom",
            "Austria",
            "Ireland",
            "Germany",
            "Belgium",
            "Luxembourg",
            "Malta",
            "France",
            "Spain",
            "Italy",
            "Cyprus",
            "Portugal",
            "Greece"
           ],
           "ids": [
            "Finland",
            "Norway",
            "Denmark",
            "Iceland",
            "Switzerland",
            "Netherlands",
            "Sweden",
            "United Kingdom",
            "Austria",
            "Ireland",
            "Germany",
            "Belgium",
            "Luxembourg",
            "Malta",
            "France",
            "Spain",
            "Italy",
            "Cyprus",
            "Portugal",
            "Greece"
           ],
           "legendgroup": "Western Europe",
           "marker": {
            "color": "#636efa",
            "symbol": "circle"
           },
           "mode": "markers",
           "name": "Western Europe",
           "orientation": "v",
           "showlegend": true,
           "type": "scatter",
           "x": [
            1.0585889211280433,
            1.4451115460790958,
            1.1763375353515428,
            1.155859515486587,
            1.352960456686792,
            1.2019350601827383,
            1.1865765452840211,
            0.9024440196577508,
            1.1507400105203474,
            1.42463352621414,
            1.148180258037228,
            1.1072242183073149,
            1.7522818440534418,
            0.9689975842188592,
            1.0278718913306086,
            0.9203622870395874,
            0.953639069320142,
            0.8640477324109578,
            0.7590978806030558,
            0.672066296176991
           ],
           "xaxis": "x",
           "y": [
            2.02173960545946,
            1.987686738762397,
            1.9527377439943627,
            1.8989700597358468,
            1.8918010351680448,
            1.8505791439031818,
            1.7367708788893228,
            1.6256509980883895,
            1.5799484664686492,
            1.4347757189706567,
            1.4240221821189532,
            1.3899693154218933,
            1.3747351382153137,
            1.121130894129313,
            0.9974652203347242,
            0.8370582956301504,
            0.5592585936278168,
            0.3459801127357027,
            0.03054303175240707,
            -0.01605562793830746
           ],
           "yaxis": "y"
          },
          {
           "hovertemplate": "<b>%{hovertext}</b><br><br>region=North America<br>year=2018<br>gdp_std=%{x}<br>score_std=%{y}<extra></extra>",
           "hovertext": [
            "Canada",
            "United States"
           ],
           "ids": [
            "Canada",
            "United States"
           ],
           "legendgroup": "North America",
           "marker": {
            "color": "#EF553B",
            "symbol": "circle"
           },
           "mode": "markers",
           "name": "North America",
           "orientation": "v",
           "showlegend": true,
           "type": "scatter",
           "x": [
            1.1225827332060323,
            1.2966459020581615
           ],
           "xaxis": "x2",
           "y": [
            1.7493166718829751,
            1.353228064511907
           ],
           "yaxis": "y2"
          },
          {
           "hovertemplate": "<b>%{hovertext}</b><br><br>region=Australia and New Zealand<br>year=2018<br>gdp_std=%{x}<br>score_std=%{y}<extra></extra>",
           "hovertext": [
            "New Zealand",
            "Australia"
           ],
           "ids": [
            "New Zealand",
            "Australia"
           ],
           "legendgroup": "Australia and New Zealand",
           "marker": {
            "color": "#00cc96",
            "symbol": "circle"
           },
           "mode": "markers",
           "name": "Australia and New Zealand",
           "orientation": "v",
           "showlegend": true,
           "type": "scatter",
           "x": [
            0.96387807925262,
            1.148180258037228
           ],
           "xaxis": "x3",
           "y": [
            1.7457321595990754,
            1.6991334999083616
           ],
           "yaxis": "y3"
          },
          {
           "hovertemplate": "<b>%{hovertext}</b><br><br>region=Middle East and Northern Africa<br>year=2018<br>gdp_std=%{x}<br>score_std=%{y}<extra></extra>",
           "hovertext": [
            "Israel",
            "United Arab Emirates",
            "Qatar",
            "Saudi Arabia",
            "Bahrain",
            "Kuwait",
            "Northern Cyprus",
            "Libya",
            "Turkey",
            "Lebanon",
            "Algeria",
            "Morocco",
            "Jordan",
            "Palestinian Territories",
            "Iran",
            "Tunisia",
            "Iraq",
            "Egypt",
            "Syria",
            "Yemen"
           ],
           "ids": [
            "Israel",
            "United Arab Emirates",
            "Qatar",
            "Saudi Arabia",
            "Bahrain",
            "Kuwait",
            "Northern Cyprus",
            "Libya",
            "Turkey",
            "Lebanon",
            "Algeria",
            "Morocco",
            "Jordan",
            "Palestinian Territories",
            "Iran",
            "Tunisia",
            "Iraq",
            "Egypt",
            "Syria",
            "Yemen"
           ],
           "legendgroup": "Middle East and Northern Africa",
           "marker": {
            "color": "#ab63fa",
            "symbol": "circle"
           },
           "mode": "markers",
           "name": "Middle East and Northern Africa",
           "orientation": "v",
           "showlegend": true,
           "type": "scatter",
           "x": [
            1.0483499111955652,
            3.0833531352756096,
            1.939143775321169,
            1.2480106048788904,
            1.1430607530709889,
            1.4911870907752478,
            0.8640477324109578,
            0.2394681265297868,
            0.6567077812782736,
            0.18827307686739567,
            0.2241096116310695,
            -0.28784088499284083,
            -0.17777152821870004,
            -0.6385269751802195,
            0.4288898102806341,
            0.02188916546462497,
            0.30346193860777565,
            -0.016507121782168347,
            -0.5182186084736005,
            -1.15047747180413
           ],
           "xaxis": "x4",
           "y": [
            1.2887068434016873,
            1.2528617205626764,
            0.8944104921725679,
            0.8917221079596427,
            0.6533520410802206,
            0.6336372235187628,
            0.4113974619168971,
            0.17033901082454905,
            0.0959603809336014,
            -0.01605562793830746,
            -0.07251169640974928,
            -0.10925294731973573,
            -0.1925928579204351,
            -0.5671743915880985,
            -0.5994350021432087,
            -0.702489730305365,
            -0.8243631479580011,
            -0.8575198865840871,
            -1.7151144505074207,
            -1.8110001541017748
           ],
           "yaxis": "y4"
          },
          {
           "hovertemplate": "<b>%{hovertext}</b><br><br>region=Latin America and Caribbean<br>year=2018<br>gdp_std=%{x}<br>score_std=%{y}<extra></extra>",
           "hovertext": [
            "Costa Rica",
            "Mexico",
            "Chile",
            "Panama",
            "Brazil",
            "Argentina",
            "Guatemala",
            "Uruguay",
            "Colombia",
            "Trinidad & Tobago",
            "El Salvador",
            "Nicaragua",
            "Ecuador",
            "Belize",
            "Jamaica",
            "Bolivia",
            "Paraguay",
            "Peru",
            "Honduras",
            "Dominican Republic",
            "Venezuela",
            "Haiti"
           ],
           "ids": [
            "Costa Rica",
            "Mexico",
            "Chile",
            "Panama",
            "Brazil",
            "Argentina",
            "Guatemala",
            "Uruguay",
            "Colombia",
            "Trinidad & Tobago",
            "El Salvador",
            "Nicaragua",
            "Ecuador",
            "Belize",
            "Jamaica",
            "Bolivia",
            "Paraguay",
            "Peru",
            "Honduras",
            "Dominican Republic",
            "Venezuela",
            "Haiti"
           ],
           "legendgroup": "Latin America and Caribbean",
           "marker": {
            "color": "#FFA15A",
            "symbol": "circle"
           },
           "mode": "markers",
           "name": "Latin America and Caribbean",
           "orientation": "v",
           "showlegend": true,
           "type": "scatter",
           "x": [
            0.30346193860777565,
            0.3751350081351232,
            0.6131919890652414,
            0.5645566918859702,
            0.2420278790129064,
            0.4647263450443073,
            -0.282721380026602,
            0.5159213947066984,
            0.17547431445179795,
            0.8486892175122405,
            -0.21872756794861314,
            -0.5719734106191113,
            -0.006268111849690129,
            -0.2161678154654933,
            -0.18545078566805864,
            -0.35951395452018864,
            -0.14449474593814607,
            0.10892074989068982,
            -0.6948415298088497,
            0.2317888690804281,
            0.2676254038441019,
            -1.4755660371603132
           ],
           "xaxis": "x5",
           "y": [
            1.5199078857133073,
            0.9965690922637492,
            0.9858155554120456,
            0.944593664147183,
            0.934736255366455,
            0.9069562851662218,
            0.9015795167403716,
            0.8988911325274441,
            0.792251892081387,
            0.7313151832550691,
            0.7089119814806885,
            0.68561265163533,
            0.5350631357114843,
            0.5198289585049052,
            0.4606845058205367,
            0.337018832025951,
            0.2733937389867054,
            0.2572634337091491,
            0.11477907042408203,
            -0.06623879991292188,
            -0.5107183231166567,
            -1.6075790819903883
           ],
           "yaxis": "y5"
          },
          {
           "hovertemplate": "<b>%{hovertext}</b><br><br>region=Southeastern Asia<br>year=2018<br>gdp_std=%{x}<br>score_std=%{y}<extra></extra>",
           "hovertext": [
            "Singapore",
            "Malaysia",
            "Thailand",
            "Philippines",
            "Vietnam",
            "Indonesia",
            "Laos",
            "Cambodia",
            "Myanmar"
           ],
           "ids": [
            "Singapore",
            "Malaysia",
            "Thailand",
            "Philippines",
            "Vietnam",
            "Indonesia",
            "Laos",
            "Cambodia",
            "Myanmar"
           ],
           "legendgroup": "Southeastern Asia",
           "marker": {
            "color": "#19d3f3",
            "symbol": "circle"
           },
           "mode": "markers",
           "name": "Southeastern Asia",
           "orientation": "v",
           "showlegend": true,
           "type": "scatter",
           "x": [
            1.6319734773468233,
            0.6899845635588281,
            0.31882045350649296,
            -0.29807989492531906,
            -0.4516650439124923,
            0.019329412981505416,
            -0.43886628149689455,
            -0.876583956110338,
            -0.5361368758554373
           ],
           "xaxis": "x6",
           "y": [
            0.8666305219723347,
            0.8478118324818541,
            0.6237798147380363,
            0.13270163184358785,
            -0.24456828603700145,
            -0.25352956674675403,
            -0.6747097601051311,
            -0.8449740935904329,
            -0.9569901024623416
           ],
           "yaxis": "y6"
          },
          {
           "hovertemplate": "<b>%{hovertext}</b><br><br>region=Central and Eastern Europe<br>year=2018<br>gdp_std=%{x}<br>score_std=%{y}<extra></extra>",
           "hovertext": [
            "Czech Republic",
            "Slovakia",
            "Poland",
            "Uzbekistan",
            "Lithuania",
            "Slovenia",
            "Romania",
            "Latvia",
            "Russia",
            "Kazakhstan",
            "Estonia",
            "Kosovo",
            "Moldova",
            "Turkmenistan",
            "Hungary",
            "Belarus",
            "Serbia",
            "Montenegro",
            "Croatia",
            "Azerbaijan",
            "Tajikistan",
            "Macedonia",
            "Kyrgyzstan",
            "Bosnia and Herzegovina",
            "Bulgaria",
            "Albania",
            "Georgia",
            "Armenia",
            "Ukraine"
           ],
           "ids": [
            "Czech Republic",
            "Slovakia",
            "Poland",
            "Uzbekistan",
            "Lithuania",
            "Slovenia",
            "Romania",
            "Latvia",
            "Russia",
            "Kazakhstan",
            "Estonia",
            "Kosovo",
            "Moldova",
            "Turkmenistan",
            "Hungary",
            "Belarus",
            "Serbia",
            "Montenegro",
            "Croatia",
            "Azerbaijan",
            "Tajikistan",
            "Macedonia",
            "Kyrgyzstan",
            "Bosnia and Herzegovina",
            "Bulgaria",
            "Albania",
            "Georgia",
            "Armenia",
            "Ukraine"
           ],
           "legendgroup": "Central and Eastern Europe",
           "marker": {
            "color": "#FF6692",
            "symbol": "circle"
           },
           "mode": "markers",
           "name": "Central and Eastern Europe",
           "orientation": "v",
           "showlegend": true,
           "type": "scatter",
           "x": [
            0.8742867423434361,
            0.8154124352316859,
            0.7283808508056211,
            -0.4414260339800138,
            0.7821356529511321,
            0.8384502075797623,
            0.5747957018184484,
            0.6567077812782736,
            0.6643870387276326,
            0.6439090188626762,
            0.7898149104004905,
            -0.09329969627575498,
            -0.6001306879334262,
            0.31882045350649296,
            0.7155820883900237,
            0.3776947606182425,
            0.21387060169859126,
            0.32138020598961226,
            0.5722359493353286,
            0.3392984733714494,
            -1.0685653923443044,
            0.17291456196867838,
            -0.9252192532896092,
            0.06028545271141829,
            0.416091047865036,
            0.06284520519453785,
            -0.09841920124199408,
            -0.1931300431174176,
            -0.2520043502291673
           ],
           "xaxis": "x7",
           "y": [
            1.1964056520912347,
            0.7142887499065379,
            0.6694823463577737,
            0.6452868884414429,
            0.5162444462210045,
            0.5126599339371031,
            0.5099715497241771,
            0.4992180128724735,
            0.388994260142515,
            0.3710716987230099,
            0.32536916710327096,
            0.25636730563817595,
            0.23665248807671896,
            0.2330679757928183,
            0.21872992665721394,
            0.0959603809336014,
            0.01978949490070341,
            -0.02591303671903475,
            -0.04921236656439082,
            -0.15674773508142426,
            -0.15853999122337534,
            -0.17108578421702936,
            -0.21947670004969344,
            -0.22126895619164455,
            -0.3969100581027975,
            -0.7078664987312159,
            -0.9283140041911332,
            -0.9453404375396618,
            -1.1406963570122723
           ],
           "yaxis": "y7"
          },
          {
           "hovertemplate": "<b>%{hovertext}</b><br><br>region=Eastern Asia<br>year=2018<br>gdp_std=%{x}<br>score_std=%{y}<extra></extra>",
           "hovertext": [
            "Taiwan",
            "Japan",
            "South Korea",
            "Hong Kong",
            "China",
            "Mongolia"
           ],
           "ids": [
            "Taiwan",
            "Japan",
            "South Korea",
            "Hong Kong",
            "China",
            "Mongolia"
           ],
           "legendgroup": "Eastern Asia",
           "marker": {
            "color": "#B6E880",
            "symbol": "circle"
           },
           "mode": "markers",
           "name": "Eastern Asia",
           "orientation": "v",
           "showlegend": true,
           "type": "scatter",
           "x": [
            1.2121740701152166,
            1.0304316438137286,
            0.958758574286381,
            1.3145641694399988,
            0.24970713646226506,
            0.057725700228298725
           ],
           "xaxis": "x8",
           "y": [
            0.9544510729279112,
            0.4830877075949188,
            0.447242584755908,
            0.0484655931719121,
            -0.1164219718875371,
            -0.22485346847554527
           ],
           "yaxis": "y8"
          },
          {
           "hovertemplate": "<b>%{hovertext}</b><br><br>region=Sub-Saharan Africa<br>year=2018<br>gdp_std=%{x}<br>score_std=%{y}<extra></extra>",
           "hovertext": [
            "Mauritius",
            "Nigeria",
            "Somalia",
            "Cameroon",
            "Gabon",
            "South Africa",
            "Ivory Coast",
            "Ghana",
            "Senegal",
            "Sierra Leone",
            "Congo (Brazzaville)",
            "Mali",
            "Namibia",
            "Burkina Faso",
            "Mozambique",
            "Kenya",
            "Zambia",
            "Mauritania",
            "Ethiopia",
            "Chad",
            "Congo (Kinshasa)",
            "Niger",
            "Uganda",
            "Benin",
            "Sudan",
            "Togo",
            "Guinea",
            "Lesotho",
            "Angola",
            "Madagascar",
            "Zimbabwe",
            "Botswana",
            "Malawi",
            "Liberia",
            "Rwanda",
            "Tanzania",
            "South Sudan",
            "Central African Republic",
            "Burundi"
           ],
           "ids": [
            "Mauritius",
            "Nigeria",
            "Somalia",
            "Cameroon",
            "Gabon",
            "South Africa",
            "Ivory Coast",
            "Ghana",
            "Senegal",
            "Sierra Leone",
            "Congo (Brazzaville)",
            "Mali",
            "Namibia",
            "Burkina Faso",
            "Mozambique",
            "Kenya",
            "Zambia",
            "Mauritania",
            "Ethiopia",
            "Chad",
            "Congo (Kinshasa)",
            "Niger",
            "Uganda",
            "Benin",
            "Sudan",
            "Togo",
            "Guinea",
            "Lesotho",
            "Angola",
            "Madagascar",
            "Zimbabwe",
            "Botswana",
            "Malawi",
            "Liberia",
            "Rwanda",
            "Tanzania",
            "South Sudan",
            "Central African Republic",
            "Burundi"
           ],
           "legendgroup": "Sub-Saharan Africa",
           "marker": {
            "color": "#FF97FF",
            "symbol": "circle"
           },
           "mode": "markers",
           "name": "Sub-Saharan Africa",
           "orientation": "v",
           "showlegend": true,
           "type": "scatter",
           "x": [
            0.50824213725734,
            -0.5182186084736005,
            -2.2818880693429717,
            -0.9124204908740116,
            0.3700155031688841,
            0.12427926478940685,
            -0.8970619759752942,
            -0.7665145993361969,
            -1.1837542540846842,
            -1.6265914336643663,
            -0.5361368758554373,
            -1.3347796505887377,
            -0.04466439909648316,
            -1.4781257896434328,
            -1.7750570776853003,
            -1.0199300951650327,
            -0.8433071738297836,
            -0.8561059362453813,
            -1.4934843045421502,
            -1.3654966803861723,
            -2.1052651480077227,
            -1.9465604940543104,
            -1.4576477697784764,
            -1.3143016307237814,
            -0.7332378170556431,
            -1.6189121762150083,
            -1.401333215149846,
            -1.0736848973105435,
            -0.41326875666569896,
            -1.6112329187656491,
            -1.3680564328692917,
            0.32138020598961226,
            -1.8057741074827351,
            -2.087346880625886,
            -1.4320502449472807,
            -1.1172006895235758,
            -1.4192514825316829,
            -2.2204540097481025,
            -2.048950593379093
           ],
           "xaxis": "x9",
           "y": [
            0.4615806338915122,
            -0.19796962634628693,
            -0.3529997826250088,
            -0.35927267912183625,
            -0.5537324705234697,
            -0.5842008249366287,
            -0.6316956126983181,
            -0.6442414056919721,
            -0.667540735537329,
            -0.7213084197958441,
            -0.7320619566475485,
            -0.8324283005967789,
            -0.8378050690226307,
            -0.8530392462292099,
            -0.8593121427260373,
            -0.8655850392228639,
            -0.8951572655650482,
            -0.9139759550555288,
            -0.9193527234813804,
            -0.9632629989591684,
            -1.0134461709337836,
            -1.0842402885408298,
            -1.088720928895706,
            -1.1066434903152118,
            -1.1084357464571637,
            -1.2338936763937003,
            -1.2652581588778349,
            -1.4050541379499772,
            -1.4167038028726555,
            -1.4355224923631362,
            -1.5090049941831083,
            -1.6004100574225864,
            -1.603098441635512,
            -1.6855422241652367,
            -1.7635053663400857,
            -1.8575988137924888,
            -1.9015090892702766,
            -2.0547469894070485,
            -2.2142577860406467
           ],
           "yaxis": "y9"
          },
          {
           "hovertemplate": "<b>%{hovertext}</b><br><br>region=Southern Asia<br>year=2018<br>gdp_std=%{x}<br>score_std=%{y}<extra></extra>",
           "hovertext": [
            "Pakistan",
            "Bhutan",
            "Nepal",
            "Bangladesh",
            "Sri Lanka",
            "India",
            "Afghanistan"
           ],
           "ids": [
            "Pakistan",
            "Bhutan",
            "Nepal",
            "Bangladesh",
            "Sri Lanka",
            "India",
            "Afghanistan"
           ],
           "legendgroup": "Southern Asia",
           "marker": {
            "color": "#FECB52",
            "symbol": "circle"
           },
           "mode": "markers",
           "name": "Southern Asia",
           "orientation": "v",
           "showlegend": true,
           "type": "scatter",
           "x": [
            -0.6129294503490239,
            -0.2443250927798087,
            -1.1939932640171624,
            -0.9200997483233702,
            0.06796471016077693,
            -0.436306529013775,
            -1.4320502449472807
           ],
           "xaxis": "x10",
           "y": [
            0.08610297215287413,
            -0.2633869755274821,
            -0.4444048458644868,
            -0.7849335128350896,
            -0.8109212268933724,
            -1.0627332148374231,
            -1.5627726784416247
           ],
           "yaxis": "y10"
          }
         ],
         "name": "2018"
        },
        {
         "data": [
          {
           "hovertemplate": "<b>%{hovertext}</b><br><br>region=Western Europe<br>year=2019<br>gdp_std=%{x}<br>score_std=%{y}<extra></extra>",
           "hovertext": [
            "Finland",
            "Denmark",
            "Norway",
            "Iceland",
            "Netherlands",
            "Switzerland",
            "Sweden",
            "Austria",
            "Luxembourg",
            "United Kingdom",
            "Ireland",
            "Germany",
            "Belgium",
            "Malta",
            "France",
            "Spain",
            "Italy",
            "Cyprus",
            "Portugal",
            "Greece"
           ],
           "ids": [
            "Finland",
            "Denmark",
            "Norway",
            "Iceland",
            "Netherlands",
            "Switzerland",
            "Sweden",
            "Austria",
            "Luxembourg",
            "United Kingdom",
            "Ireland",
            "Germany",
            "Belgium",
            "Malta",
            "France",
            "Spain",
            "Italy",
            "Cyprus",
            "Portugal",
            "Greece"
           ],
           "legendgroup": "Western Europe",
           "marker": {
            "color": "#636efa",
            "symbol": "circle"
           },
           "mode": "markers",
           "name": "Western Europe",
           "orientation": "v",
           "showlegend": true,
           "type": "scatter",
           "x": [
            1.0950416570576833,
            1.203323854612748,
            1.467733871898372,
            1.1957692826903012,
            1.2360603329433488,
            1.3770790088290148,
            1.213396617176009,
            1.1856965201270395,
            1.7724349394370429,
            1.0774143225719752,
            1.4954339689473417,
            1.1781419482045938,
            1.1353327073107309,
            0.9943140314250648,
            1.054750606804636,
            0.9590593624536482,
            0.979204887580172,
            0.9011409777148922,
            0.7953769708006432,
            0.6946493451680246
           ],
           "xaxis": "x",
           "y": [
            2.1287111190306165,
            1.9763966293014936,
            1.934938247481732,
            1.8808620972820445,
            1.8754544822620745,
            1.8682443289021176,
            1.7447704526128291,
            1.6573473431233332,
            1.5167493526041431,
            1.4843036624843289,
            1.4545617798745012,
            1.4221160897546885,
            1.3662374012150096,
            1.1886873747260336,
            1.06791730594673,
            0.8534152434879658,
            0.735348982218646,
            0.5758243391295657,
            0.2576763221213986,
            -0.10823896089649156
           ],
           "yaxis": "y"
          },
          {
           "hovertemplate": "<b>%{hovertext}</b><br><br>region=North America<br>year=2019<br>gdp_std=%{x}<br>score_std=%{y}<extra></extra>",
           "hovertext": [
            "Canada",
            "United States"
           ],
           "ids": [
            "Canada",
            "United States"
           ],
           "legendgroup": "North America",
           "marker": {
            "color": "#EF553B",
            "symbol": "circle"
           },
           "mode": "markers",
           "name": "North America",
           "orientation": "v",
           "showlegend": true,
           "type": "scatter",
           "x": [
            1.1579964230780695,
            1.3292333866535213
           ],
           "xaxis": "x2",
           "y": [
            1.686187956563166,
            1.3382980569451717
           ],
           "yaxis": "y2"
          },
          {
           "hovertemplate": "<b>%{hovertext}</b><br><br>region=Australia and New Zealand<br>year=2019<br>gdp_std=%{x}<br>score_std=%{y}<extra></extra>",
           "hovertext": [
            "New Zealand",
            "Australia"
           ],
           "ids": [
            "New Zealand",
            "Australia"
           ],
           "legendgroup": "Australia and New Zealand",
           "marker": {
            "color": "#00cc96",
            "symbol": "circle"
           },
           "mode": "markers",
           "name": "Australia and New Zealand",
           "orientation": "v",
           "showlegend": true,
           "type": "scatter",
           "x": [
            1.0018686033475113,
            1.1756237575637782
           ],
           "xaxis": "x3",
           "y": [
            1.7123247624930162,
            1.641124498063426
           ],
           "yaxis": "y3"
          },
          {
           "hovertemplate": "<b>%{hovertext}</b><br><br>region=Middle East and Northern Africa<br>year=2019<br>gdp_std=%{x}<br>score_std=%{y}<extra></extra>",
           "hovertext": [
            "Israel",
            "United Arab Emirates",
            "Saudi Arabia",
            "Qatar",
            "Bahrain",
            "Kuwait",
            "Northern Cyprus",
            "Libya",
            "Turkey",
            "Algeria",
            "Morocco",
            "Lebanon",
            "Jordan",
            "Palestinian Territories",
            "Iran",
            "Tunisia",
            "Iraq",
            "Egypt",
            "Syria",
            "Yemen"
           ],
           "ids": [
            "Israel",
            "United Arab Emirates",
            "Saudi Arabia",
            "Qatar",
            "Bahrain",
            "Kuwait",
            "Northern Cyprus",
            "Libya",
            "Turkey",
            "Algeria",
            "Morocco",
            "Lebanon",
            "Jordan",
            "Palestinian Territories",
            "Iran",
            "Tunisia",
            "Iraq",
            "Egypt",
            "Syria",
            "Yemen"
           ],
           "legendgroup": "Middle East and Northern Africa",
           "marker": {
            "color": "#ab63fa",
            "symbol": "circle"
           },
           "mode": "markers",
           "name": "Middle East and Northern Africa",
           "orientation": "v",
           "showlegend": true,
           "type": "scatter",
           "x": [
            0.9338774560454934,
            1.5055067315106034,
            1.2536876674290574,
            1.9612992374982028,
            1.1504418511556236,
            1.4979521595881573,
            0.9011409777148922,
            0.3496572273763061,
            0.6996857264496554,
            0.2438932204620565,
            -0.2622630983418518,
            0.2061203608498245,
            -0.17160823527249475,
            -0.6248825506192783,
            0.4906759032619722,
            0.039919778556004065,
            0.3471390367354903,
            0.01977425342948033,
            -0.720573794970266,
            -1.5566130877209998
           ],
           "xaxis": "x4",
           "y": [
            1.560911541933887,
            1.2779130225555195,
            0.8723418960578566,
            0.8714406268878615,
            0.7137185221387706,
            0.5532926098796952,
            0.2802080513712691,
            0.10626310156227184,
            -0.030729812276940383,
            -0.17673541781609728,
            -0.1794392253260834,
            -0.1893531861960248,
            -0.451622514664512,
            -0.6408890403634213,
            -0.7742768775226541,
            -0.8526872953122018,
            -0.8743177553920771,
            -1.1185617004606696,
            -1.753055196137013,
            -1.8269592680765876
           ],
           "yaxis": "y4"
          },
          {
           "hovertemplate": "<b>%{hovertext}</b><br><br>region=Latin America and Caribbean<br>year=2019<br>gdp_std=%{x}<br>score_std=%{y}<extra></extra>",
           "hovertext": [
            "Costa Rica",
            "Mexico",
            "Chile",
            "Guatemala",
            "Panama",
            "Brazil",
            "Uruguay",
            "El Salvador",
            "Trinidad & Tobago",
            "Colombia",
            "Nicaragua",
            "Argentina",
            "Ecuador",
            "Jamaica",
            "Honduras",
            "Bolivia",
            "Paraguay",
            "Peru",
            "Dominican Republic",
            "Venezuela",
            "Haiti"
           ],
           "ids": [
            "Costa Rica",
            "Mexico",
            "Chile",
            "Guatemala",
            "Panama",
            "Brazil",
            "Uruguay",
            "El Salvador",
            "Trinidad & Tobago",
            "Colombia",
            "Nicaragua",
            "Argentina",
            "Ecuador",
            "Jamaica",
            "Honduras",
            "Bolivia",
            "Paraguay",
            "Peru",
            "Dominican Republic",
            "Venezuela",
            "Haiti"
           ],
           "legendgroup": "Latin America and Caribbean",
           "marker": {
            "color": "#FFA15A",
            "symbol": "circle"
           },
           "mode": "markers",
           "name": "Latin America and Caribbean",
           "orientation": "v",
           "showlegend": true,
           "type": "scatter",
           "x": [
            0.3244753209681514,
            0.4151301840375081,
            0.6392491510700843,
            -0.264781288982667,
            0.6140672446619296,
            0.24892960174368745,
            0.5511124786415433,
            -0.27989043282755977,
            0.8205588772087978,
            0.2010839795681936,
            -0.5317094969091061,
            0.4705303781354484,
            0.01725606278866486,
            -0.18671737911738784,
            -0.6626554102315103,
            -0.32521786436223843,
            -0.12628080373781667,
            0.13812921354780694,
            0.27662969879265725,
            0.13812921354780694,
            -1.4659582246516432
           ],
           "xaxis": "x5",
           "y": [
            1.5861470786937444,
            1.0706211134567138,
            0.9345294687874982,
            0.9273193154275398,
            0.8236733608781385,
            0.804746708308246,
            0.7984378241182811,
            0.7623870573184897,
            0.7074096379488073,
            0.6470246035591551,
            0.6289992201592595,
            0.6118751059293579,
            0.5596014940696585,
            0.43522634861037546,
            0.40818827351053183,
            0.3351854707409522,
            0.30273978062113793,
            0.26128139880137824,
            0.016136184562790774,
            -0.6309750794934799,
            -1.6313838581877145
           ],
           "yaxis": "y5"
          },
          {
           "hovertemplate": "<b>%{hovertext}</b><br><br>region=Southeastern Asia<br>year=2019<br>gdp_std=%{x}<br>score_std=%{y}<extra></extra>",
           "hovertext": [
            "Singapore",
            "Thailand",
            "Philippines",
            "Malaysia",
            "Indonesia",
            "Vietnam",
            "Laos",
            "Cambodia",
            "Myanmar"
           ],
           "ids": [
            "Singapore",
            "Thailand",
            "Philippines",
            "Malaysia",
            "Indonesia",
            "Vietnam",
            "Laos",
            "Cambodia",
            "Myanmar"
           ],
           "legendgroup": "Southeastern Asia",
           "marker": {
            "color": "#19d3f3",
            "symbol": "circle"
           },
           "mode": "markers",
           "name": "Southeastern Asia",
           "orientation": "v",
           "showlegend": true,
           "type": "scatter",
           "x": [
            1.6792618857268702,
            0.3647663712211988,
            -0.24715395449695876,
            0.7953769708006432,
            0.0651016849641587,
            -0.4133545367907795,
            -0.3554361520520238,
            -0.8338923738069619,
            -0.4914184466560589
           ],
           "xaxis": "x6",
           "y": [
            0.7704984798484442,
            0.5415761106697621,
            0.2017976335817212,
            -0.061372964056762014,
            -0.1938595320459987,
            -0.20918110793591072,
            -0.5507621233639418,
            -0.6372839636834433,
            -0.9437154814816772
           ],
           "yaxis": "y6"
          },
          {
           "hovertemplate": "<b>%{hovertext}</b><br><br>region=Central and Eastern Europe<br>year=2019<br>gdp_std=%{x}<br>score_std=%{y}<extra></extra>",
           "hovertext": [
            "Czech Republic",
            "Slovakia",
            "Poland",
            "Uzbekistan",
            "Lithuania",
            "Slovenia",
            "Kosovo",
            "Romania",
            "Latvia",
            "Estonia",
            "Kazakhstan",
            "Hungary",
            "Russia",
            "Serbia",
            "Moldova",
            "Montenegro",
            "Tajikistan",
            "Croatia",
            "Bosnia and Herzegovina",
            "Belarus",
            "North Macedonia",
            "Kyrgyzstan",
            "Turkmenistan",
            "Azerbaijan",
            "Bulgaria",
            "Albania",
            "Armenia",
            "Georgia",
            "Ukraine"
           ],
           "ids": [
            "Czech Republic",
            "Slovakia",
            "Poland",
            "Uzbekistan",
            "Lithuania",
            "Slovenia",
            "Kosovo",
            "Romania",
            "Latvia",
            "Estonia",
            "Kazakhstan",
            "Hungary",
            "Russia",
            "Serbia",
            "Moldova",
            "Montenegro",
            "Tajikistan",
            "Croatia",
            "Bosnia and Herzegovina",
            "Belarus",
            "North Macedonia",
            "Kyrgyzstan",
            "Turkmenistan",
            "Azerbaijan",
            "Bulgaria",
            "Albania",
            "Armenia",
            "Georgia",
            "Ukraine"
           ],
           "legendgroup": "Central and Eastern Europe",
           "marker": {
            "color": "#FF6692",
            "symbol": "circle"
           },
           "mode": "markers",
           "name": "Central and Eastern Europe",
           "orientation": "v",
           "showlegend": true,
           "type": "scatter",
           "x": [
            0.9162501215597848,
            0.8583317368210295,
            0.7576041111884109,
            -0.4032817742275176,
            0.8381862116945058,
            0.8885500245108151,
            -0.0582896564357991,
            0.6468037229925304,
            0.7097584890129174,
            0.8356680210536906,
            0.6745038200415008,
            0.7450131579843333,
            0.6996857264496554,
            0.24892960174368745,
            -0.5543732126764452,
            0.367284561862014,
            -1.0378658157130145,
            0.6291763885068224,
            0.10035635393557496,
            0.4075756121150615,
            0.19604759828656265,
            -0.8918107585457173,
            0.3698027525028298,
            0.3471390367354903,
            0.4705303781354484,
            0.10539273521720588,
            -0.13887175694189402,
            -0.04821689387253752,
            -0.214417476166358
           ],
           "xaxis": "x7",
           "y": [
            1.3022472901453794,
            0.7128172529687763,
            0.6983969462488594,
            0.691186792888901,
            0.6686550636390305,
            0.6407157193691903,
            0.6244928743092847,
            0.5974547992094411,
            0.4802898071101164,
            0.43793015612036,
            0.3622235458407966,
            0.3162588181710605,
            0.2171192094716324,
            0.1765620968218662,
            0.10986817824225067,
            0.10446056322228164,
            0.05398948970257327,
            0.022445068752754926,
            -0.019013313067006387,
            -0.07579327077667891,
            -0.11995546010642474,
            -0.13167195931635714,
            -0.14428972769628384,
            -0.1794392253260834,
            -0.35698925181505864,
            -0.6201598494535434,
            -0.7643629166527109,
            -0.8004136834525032,
            -0.9689510182415322
           ],
           "yaxis": "y7"
          },
          {
           "hovertemplate": "<b>%{hovertext}</b><br><br>region=Eastern Asia<br>year=2019<br>gdp_std=%{x}<br>score_std=%{y}<extra></extra>",
           "hovertext": [
            "Taiwan",
            "South Korea",
            "Japan",
            "Hong Kong",
            "Mongolia",
            "China"
           ],
           "ids": [
            "Taiwan",
            "South Korea",
            "Japan",
            "Hong Kong",
            "Mongolia",
            "China"
           ],
           "legendgroup": "Eastern Asia",
           "marker": {
            "color": "#B6E880",
            "symbol": "circle"
           },
           "mode": "markers",
           "name": "Eastern Asia",
           "orientation": "v",
           "showlegend": true,
           "type": "scatter",
           "x": [
            1.1655509950005165,
            0.9968322220658798,
            1.062305178727082,
            1.3418243398575989,
            0.10791092585802134,
            0.3118843677640738
           ],
           "xaxis": "x8",
           "y": [
            0.9363320071274892,
            0.4397326944603494,
            0.4316212719303966,
            0.02064253041276471,
            -0.11004149923648178,
            -0.19476080121599385
           ],
           "yaxis": "y8"
          },
          {
           "hovertemplate": "<b>%{hovertext}</b><br><br>region=Sub-Saharan Africa<br>year=2019<br>gdp_std=%{x}<br>score_std=%{y}<extra></extra>",
           "hovertext": [
            "Mauritius",
            "Nigeria",
            "Cameroon",
            "Ghana",
            "Ivory Coast",
            "Benin",
            "Congo (Brazzaville)",
            "Gabon",
            "South Africa",
            "Senegal",
            "Somalia",
            "Namibia",
            "Niger",
            "Burkina Faso",
            "Guinea",
            "Gambia",
            "Kenya",
            "Mauritania",
            "Mozambique",
            "Congo (Kinshasa)",
            "Mali",
            "Sierra Leone",
            "Chad",
            "Ethiopia",
            "Swaziland",
            "Uganda",
            "Zambia",
            "Togo",
            "Liberia",
            "Comoros",
            "Madagascar",
            "Lesotho",
            "Burundi",
            "Zimbabwe",
            "Botswana",
            "Malawi",
            "Rwanda",
            "Tanzania",
            "Central African Republic",
            "South Sudan"
           ],
           "ids": [
            "Mauritius",
            "Nigeria",
            "Cameroon",
            "Ghana",
            "Ivory Coast",
            "Benin",
            "Congo (Brazzaville)",
            "Gabon",
            "South Africa",
            "Senegal",
            "Somalia",
            "Namibia",
            "Niger",
            "Burkina Faso",
            "Guinea",
            "Gambia",
            "Kenya",
            "Mauritania",
            "Mozambique",
            "Congo (Kinshasa)",
            "Mali",
            "Sierra Leone",
            "Chad",
            "Ethiopia",
            "Swaziland",
            "Uganda",
            "Zambia",
            "Togo",
            "Liberia",
            "Comoros",
            "Madagascar",
            "Lesotho",
            "Burundi",
            "Zimbabwe",
            "Botswana",
            "Malawi",
            "Rwanda",
            "Tanzania",
            "Central African Republic",
            "South Sudan"
           ],
           "legendgroup": "Sub-Saharan Africa",
           "marker": {
            "color": "#FF97FF",
            "symbol": "circle"
           },
           "mode": "markers",
           "name": "Sub-Saharan Africa",
           "orientation": "v",
           "showlegend": true,
           "type": "scatter",
           "x": [
            0.5410397160782814,
            -0.5266731156274754,
            -0.8968471398273485,
            -0.7407193200967898,
            -0.8464833270110392,
            -1.2896848797945606,
            -0.5845915003662311,
            0.3823937057069069,
            0.13812921354780694,
            -1.1461480132680792,
            -2.2793338016350377,
            -0.0658442283582455,
            -1.931823493202504,
            -1.4458126995251193,
            -1.3224213581251616,
            -1.5037310842638751,
            -0.9900201935375206,
            -0.8439651363702237,
            -1.7656229109086834,
            -2.0426238813983844,
            -1.3098304049210845,
            -1.6044587098964935,
            -1.3979670773496256,
            -1.4332217463210422,
            -0.23708119193369714,
            -1.4432945088843039,
            -0.8238196112437001,
            -1.5868313754107852,
            -2.095505884855509,
            -1.5893495660516008,
            -1.5893495660516008,
            -1.0479385782762762,
            -2.1634970321575264,
            -1.3576760270965782,
            0.3421026554538594,
            -1.7983593892392844,
            -1.3753033615822865,
            -1.0806750566068772,
            -2.213860844973836,
            -1.508767465545506
           ],
           "xaxis": "x9",
           "y": [
            0.43342381027038596,
            -0.1280668826363783,
            -0.3272473692052305,
            -0.3705082893649804,
            -0.4173742862047108,
            -0.4723517055743939,
            -0.5363418166440249,
            -0.5480583158539573,
            -0.6174560419435573,
            -0.6544080779133447,
            -0.6661245771232771,
            -0.692261383053128,
            -0.7021753439230694,
            -0.7391273798928567,
            -0.7868946459025814,
            -0.8031174909624877,
            -0.8094263751524511,
            -0.8265504893823525,
            -0.8481809494622279,
            -0.8914418696219786,
            -0.9166774063818336,
            -0.9310977131017504,
            -0.9527281731816258,
            -1.0104094000612929,
            -1.0771033186409091,
            -1.0978325095507893,
            -1.1717365814903633,
            -1.191564503230249,
            -1.2907041119296776,
            -1.2925066502696676,
            -1.3285574170694598,
            -1.4466236783387791,
            -1.4709579459286393,
            -1.571900092968057,
            -1.7296221977171484,
            -1.7999211929767431,
            -1.8684176498963485,
            -1.961248374405813,
            -2.0946362115650445,
            -2.3019281206638498
           ],
           "yaxis": "y9"
          },
          {
           "hovertemplate": "<b>%{hovertext}</b><br><br>region=Southern Asia<br>year=2019<br>gdp_std=%{x}<br>score_std=%{y}<extra></extra>",
           "hovertext": [
            "Pakistan",
            "Bhutan",
            "Nepal",
            "Bangladesh",
            "Sri Lanka",
            "India",
            "Afghanistan"
           ],
           "ids": [
            "Pakistan",
            "Bhutan",
            "Nepal",
            "Bangladesh",
            "Sri Lanka",
            "India",
            "Afghanistan"
           ],
           "legendgroup": "Southern Asia",
           "marker": {
            "color": "#FECB52",
            "symbol": "circle"
           },
           "mode": "markers",
           "name": "Southern Asia",
           "orientation": "v",
           "showlegend": true,
           "type": "scatter",
           "x": [
            -0.574518737802969,
            -0.23204481065206625,
            -1.1562207758313412,
            -0.8641106614967472,
            0.1104291164988368,
            -0.3780998678193629,
            -1.3979670773496256
           ],
           "xaxis": "x10",
           "y": [
            0.22162555532160635,
            -0.2929991407454277,
            -0.4453136304745495,
            -0.8571936411621757,
            -0.9383078664617082,
            -1.2546533451298858,
            -1.986483911165668
           ],
           "yaxis": "y10"
          }
         ],
         "name": "2019"
        },
        {
         "data": [
          {
           "hovertemplate": "<b>%{hovertext}</b><br><br>region=Western Europe<br>year=2020<br>gdp_std=%{x}<br>score_std=%{y}<extra></extra>",
           "hovertext": [
            "Finland",
            "Denmark",
            "Switzerland",
            "Iceland",
            "Norway",
            "Netherlands",
            "Sweden",
            "Austria",
            "Luxembourg",
            "United Kingdom",
            "Ireland",
            "Germany",
            "Belgium",
            "Malta",
            "France",
            "Spain",
            "Italy",
            "Cyprus",
            "Portugal",
            "North Cyprus",
            "Greece"
           ],
           "ids": [
            "Finland",
            "Denmark",
            "Switzerland",
            "Iceland",
            "Norway",
            "Netherlands",
            "Sweden",
            "Austria",
            "Luxembourg",
            "United Kingdom",
            "Ireland",
            "Germany",
            "Belgium",
            "Malta",
            "France",
            "Spain",
            "Italy",
            "Cyprus",
            "Portugal",
            "North Cyprus",
            "Greece"
           ],
           "legendgroup": "Western Europe",
           "marker": {
            "color": "#636efa",
            "symbol": "circle"
           },
           "mode": "markers",
           "name": "Western Europe",
           "orientation": "v",
           "showlegend": true,
           "type": "scatter",
           "x": [
            1.1218268823728796,
            1.2343252182924085,
            1.4062710107149643,
            1.2331212401214753,
            1.496339591092636,
            1.2666472248694085,
            1.2216276592931077,
            1.2082930718907885,
            1.7993291914920446,
            1.0891529212353117,
            1.557437740535646,
            1.1999392443654369,
            1.1505265841684296,
            1.0337975794221494,
            1.0758669037627429,
            0.9745890148324924,
            0.99037775720506,
            0.9268087367870994,
            0.8082769501769242,
            0.9268087367870994,
            0.6985488870788275
           ],
           "xaxis": "x",
           "y": [
            2.1066195231629745,
            1.959500701408832,
            1.8821980074239504,
            1.832226486059,
            1.8173432466117845,
            1.7820747475629573,
            1.6960222409886312,
            1.6425328170735145,
            1.5913888046448454,
            1.525541770802066,
            1.4616788527594855,
            1.4455327981014865,
            1.2540352295448771,
            1.172222359077202,
            1.073902567624293,
            0.836763006793411,
            0.8245860451598785,
            0.6185656732222641,
            0.3947759953496578,
            0.05615960594092035,
            0.037668137992444936
           ],
           "yaxis": "y"
          },
          {
           "hovertemplate": "<b>%{hovertext}</b><br><br>region=Latin America and Caribbean<br>year=2020<br>gdp_std=%{x}<br>score_std=%{y}<extra></extra>",
           "hovertext": [
            "Costa Rica",
            "Mexico",
            "Uruguay",
            "Guatemala",
            "Brazil",
            "El Salvador",
            "Panama",
            "Chile",
            "Trinidad and Tobago",
            "Colombia",
            "Nicaragua",
            "Argentina",
            "Honduras",
            "Ecuador",
            "Jamaica",
            "Peru",
            "Bolivia",
            "Paraguay",
            "Dominican Republic",
            "Venezuela",
            "Haiti"
           ],
           "ids": [
            "Costa Rica",
            "Mexico",
            "Uruguay",
            "Guatemala",
            "Brazil",
            "El Salvador",
            "Panama",
            "Chile",
            "Trinidad and Tobago",
            "Colombia",
            "Nicaragua",
            "Argentina",
            "Honduras",
            "Ecuador",
            "Jamaica",
            "Peru",
            "Bolivia",
            "Paraguay",
            "Dominican Republic",
            "Venezuela",
            "Haiti"
           ],
           "legendgroup": "Latin America and Caribbean",
           "marker": {
            "color": "#FFA15A",
            "symbol": "circle"
           },
           "mode": "markers",
           "name": "Latin America and Caribbean",
           "orientation": "v",
           "showlegend": true,
           "type": "scatter",
           "x": [
            0.3026336263160308,
            0.4192288512568371,
            0.5448037811648342,
            -0.30968878392912,
            0.2260493300890908,
            -0.32282270746798525,
            0.6166454070265529,
            0.6148258924586498,
            0.8051539212282626,
            0.1708866915804995,
            -0.6700976959965597,
            0.4302151948585678,
            -0.7273975633778339,
            -0.041453833866714064,
            -0.2416852546130653,
            0.13410151258265646,
            -0.37121772034368977,
            0.07871750724674395,
            0.30824823170840626,
            -0.2654455999544886,
            -1.5733889913637302
           ],
           "xaxis": "x5",
           "y": [
            1.4866646129909535,
            0.8945823909622438,
            0.8721222602503277,
            0.8349591081243014,
            0.8139420106562735,
            0.7893171158500263,
            0.7500795237767326,
            0.6812556690380854,
            0.6482418279696301,
            0.6225347662467301,
            0.5988118212260455,
            0.4523244070772943,
            0.4329309902452702,
            0.4076746887356471,
            0.3757434448448708,
            0.2918561335279165,
            0.24738663231735794,
            0.1974151109524076,
            0.1947991563837752,
            -0.3788823530065652,
            -1.5807266402759772
           ],
           "yaxis": "y5"
          },
          {
           "hovertemplate": "<b>%{hovertext}</b><br><br>region=Central and Eastern Europe<br>year=2020<br>gdp_std=%{x}<br>score_std=%{y}<extra></extra>",
           "hovertext": [
            "Czech Republic",
            "Slovenia",
            "Kosovo",
            "Slovakia",
            "Lithuania",
            "Poland",
            "Romania",
            "Estonia",
            "Hungary",
            "Latvia",
            "Serbia",
            "Bosnia and Herzegovina",
            "Montenegro",
            "Croatia",
            "Macedonia",
            "Bulgaria",
            "Albania"
           ],
           "ids": [
            "Czech Republic",
            "Slovenia",
            "Kosovo",
            "Slovakia",
            "Lithuania",
            "Poland",
            "Romania",
            "Estonia",
            "Hungary",
            "Latvia",
            "Serbia",
            "Bosnia and Herzegovina",
            "Montenegro",
            "Croatia",
            "Macedonia",
            "Bulgaria",
            "Albania"
           ],
           "legendgroup": "Central and Eastern Europe",
           "marker": {
            "color": "#FF6692",
            "symbol": "circle"
           },
           "mode": "markers",
           "name": "Central and Eastern Europe",
           "orientation": "v",
           "showlegend": true,
           "type": "scatter",
           "x": [
            0.9255235331947104,
            0.9156368597275706,
            -0.0762124678230167,
            0.8784200946964034,
            0.8749769567625684,
            0.8094307636344408,
            0.6778900678254708,
            0.8719638175930786,
            0.7961710308685691,
            0.7344469998088949,
            0.3216911132712667,
            0.13368744495566046,
            0.3808733989989826,
            0.6472394696768002,
            0.17942206977931302,
            0.4789470360640127,
            0.10205343306175274
           ],
           "xaxis": "x7",
           "y": [
            1.2967907259723652,
            0.8029375400864591,
            0.7684806666761296,
            0.7282508006702096,
            0.6695294676178274,
            0.6431905680285113,
            0.5867247534785529,
            0.4948093613246113,
            0.4755062686396532,
            0.4300444943984832,
            0.27507867126452484,
            0.1811787321473432,
            0.06572104326684726,
            0.028377673107715114,
            -0.2827273256479857,
            -0.3353148015815701,
            -0.5326756859788195
           ],
           "yaxis": "y7"
          },
          {
           "hovertemplate": "<b>%{hovertext}</b><br><br>region=Sub-Saharan Africa<br>year=2020<br>gdp_std=%{x}<br>score_std=%{y}<extra></extra>",
           "hovertext": [
            "Mauritius",
            "Ivory Coast",
            "Benin",
            "Congo (Brazzaville)",
            "Ghana",
            "Cameroon",
            "Senegal",
            "Guinea",
            "Niger",
            "Gabon",
            "South Africa",
            "Burkina Faso",
            "Gambia",
            "Mali",
            "Nigeria",
            "Mozambique",
            "Kenya",
            "Namibia",
            "Liberia",
            "Uganda",
            "Chad",
            "Mauritania",
            "Congo (Kinshasa)",
            "Swaziland",
            "Comoros",
            "Togo",
            "Ethiopia",
            "Madagascar",
            "Sierra Leone",
            "Burundi",
            "Zambia",
            "Lesotho",
            "Malawi",
            "Botswana",
            "Tanzania",
            "Central African Republic",
            "Rwanda",
            "Zimbabwe",
            "South Sudan"
           ],
           "ids": [
            "Mauritius",
            "Ivory Coast",
            "Benin",
            "Congo (Brazzaville)",
            "Ghana",
            "Cameroon",
            "Senegal",
            "Guinea",
            "Niger",
            "Gabon",
            "South Africa",
            "Burkina Faso",
            "Gambia",
            "Mali",
            "Nigeria",
            "Mozambique",
            "Kenya",
            "Namibia",
            "Liberia",
            "Uganda",
            "Chad",
            "Mauritania",
            "Congo (Kinshasa)",
            "Swaziland",
            "Comoros",
            "Togo",
            "Ethiopia",
            "Madagascar",
            "Sierra Leone",
            "Burundi",
            "Zambia",
            "Lesotho",
            "Malawi",
            "Botswana",
            "Tanzania",
            "Central African Republic",
            "Rwanda",
            "Zimbabwe",
            "South Sudan"
           ],
           "legendgroup": "Sub-Saharan Africa",
           "marker": {
            "color": "#FF97FF",
            "symbol": "circle"
           },
           "mode": "markers",
           "name": "Sub-Saharan Africa",
           "orientation": "v",
           "showlegend": true,
           "type": "scatter",
           "x": [
            0.5519791053096377,
            -0.8935336557629101,
            -1.3538010784241632,
            -0.6335036255196205,
            -0.7890929242350349,
            -0.9828027710890616,
            -0.9825232748146154,
            -1.2897837509583825,
            -2.048619801577905,
            0.3213208412426063,
            0.08989655081318408,
            -1.5256158764853855,
            -1.6481306837281555,
            -1.3909298539802228,
            -0.6004076353612077,
            -1.8589331847789767,
            -1.0570077669821982,
            -0.0772882487662694,
            -1.8714288859144876,
            -1.4990267280920764,
            -1.526101211738029,
            -0.8865550143671538,
            -2.1721200114531842,
            -0.11107700710422287,
            -1.2207824765531994,
            -1.6181581207968372,
            -1.4915153721744014,
            -1.6816367612341243,
            -1.692393375831355,
            -2.3404606183872203,
            -0.8942359792849996,
            -1.1148602569623236,
            -1.864877850272613,
            0.3469261792821772,
            -1.1088678147559416,
            -2.2298128460541204,
            -1.4157683699354997,
            -1.1939954514105084,
            -1.5616740470479005
           ],
           "xaxis": "x9",
           "y": [
            0.5665192816490202,
            -0.21642910223291986,
            -0.2320340734325926,
            -0.25151781350966623,
            -0.2933713610536056,
            -0.3502883651758513,
            -0.4441878731299929,
            -0.4726016438296166,
            -0.5084116565977945,
            -0.5808433077726469,
            -0.594554056156145,
            -0.6355052236534956,
            -0.6518319266056259,
            -0.6710446951435189,
            -0.6757350896594156,
            -0.7663876666025741,
            -0.8030093050092486,
            -0.8137432333988929,
            -0.8256500831132819,
            -0.9392135500796162,
            -0.947602496341825,
            -0.990989399472689,
            -1.048357594069236,
            -1.050973117474827,
            -1.0685626356377411,
            -1.1600268382193957,
            -1.1609287871029434,
            -1.17951057829647,
            -1.3952723909136096,
            -1.5315667445495222,
            -1.5459089005384117,
            -1.6420634976359645,
            -1.7456147670630977,
            -1.7989239738471239,
            -1.8013592801216252,
            -1.8016300369813008,
            -1.949199618046705,
            -1.9610159289345217,
            -2.396328214480657
           ],
           "yaxis": "y9"
          },
          {
           "hovertemplate": "<b>%{hovertext}</b><br><br>region=North America and ANZ<br>year=2020<br>gdp_std=%{x}<br>score_std=%{y}<extra></extra>",
           "hovertext": [
            "New Zealand",
            "Canada",
            "Australia",
            "United States"
           ],
           "ids": [
            "New Zealand",
            "Canada",
            "Australia",
            "United States"
           ],
           "legendgroup": "North America and ANZ",
           "marker": {
            "color": "#636efa",
            "symbol": "circle"
           },
           "mode": "markers",
           "name": "North America and ANZ",
           "orientation": "v",
           "showlegend": true,
           "type": "scatter",
           "x": [
            1.0063313217219068,
            1.1661648240510978,
            1.1897340566967876,
            1.3610460019340054
           ],
           "xaxis": "x11",
           "y": [
            1.6474038589815276,
            1.5865177618348167,
            1.578128815572608,
            1.3226784359893964
           ],
           "yaxis": "y11"
          },
          {
           "hovertemplate": "<b>%{hovertext}</b><br><br>region=Middle East and North Africa<br>year=2020<br>gdp_std=%{x}<br>score_std=%{y}<extra></extra>",
           "hovertext": [
            "Israel",
            "United Arab Emirates",
            "Saudi Arabia",
            "Bahrain",
            "Kuwait",
            "Libya",
            "Turkey",
            "Morocco",
            "Algeria",
            "Iraq",
            "Lebanon",
            "Iran",
            "Jordan",
            "Palestinian Territories",
            "Tunisia",
            "Egypt",
            "Yemen"
           ],
           "ids": [
            "Israel",
            "United Arab Emirates",
            "Saudi Arabia",
            "Bahrain",
            "Kuwait",
            "Libya",
            "Turkey",
            "Morocco",
            "Algeria",
            "Iraq",
            "Lebanon",
            "Iran",
            "Jordan",
            "Palestinian Territories",
            "Tunisia",
            "Egypt",
            "Yemen"
           ],
           "legendgroup": "Middle East and North Africa",
           "marker": {
            "color": "#EF553B",
            "symbol": "circle"
           },
           "mode": "markers",
           "name": "Middle East and North Africa",
           "orientation": "v",
           "showlegend": true,
           "type": "scatter",
           "x": [
            0.9366802806835488,
            1.5148715283629346,
            1.2542068602221943,
            1.1528151070780892,
            1.4980269223086613,
            0.4125647429481816,
            0.6961218100322815,
            -0.2967403946830198,
            0.20227783629138696,
            0.3050877762764868,
            0.05512278812115468,
            0.4325236241752265,
            -0.2251957860069713,
            -0.7568816056640041,
            0.016087308418812462,
            0.017397196924440875,
            -1.2825260124015785
           ],
           "xaxis": "x12",
           "y": [
            1.4931593373390015,
            1.1884587378822682,
            0.8418142676365439,
            0.6801735021214332,
            0.5672410124994638,
            0.014035517118825544,
            -0.3079836280596245,
            -0.34135833545531674,
            -0.4222692570394432,
            -0.620982849631501,
            -0.6329795932319292,
            -0.7223693549643037,
            -0.7575479610291047,
            -0.8302501534821134,
            -0.97511388699486,
            -1.192318947535394,
            -1.755176204389024
           ],
           "yaxis": "y12"
          },
          {
           "hovertemplate": "<b>%{hovertext}</b><br><br>region=East Asia<br>year=2020<br>gdp_std=%{x}<br>score_std=%{y}<extra></extra>",
           "hovertext": [
            "Taiwan Province of China",
            "South Korea",
            "Japan",
            "Hong Kong S.A.R. of China",
            "Mongolia",
            "China"
           ],
           "ids": [
            "Taiwan Province of China",
            "South Korea",
            "Japan",
            "Hong Kong S.A.R. of China",
            "Mongolia",
            "China"
           ],
           "legendgroup": "East Asia",
           "marker": {
            "color": "#00cc96",
            "symbol": "circle"
           },
           "mode": "markers",
           "name": "East Asia",
           "orientation": "v",
           "showlegend": true,
           "type": "scatter",
           "x": [
            1.235731458450322,
            1.0143666350457503,
            1.0720813716206807,
            1.3684793219975544,
            0.09725740925075113,
            0.32802635631396115
           ],
           "xaxis": "x13",
           "y": [
            0.8859229025198655,
            0.360048149498132,
            0.3586051162542429,
            0.03351882693487309,
            -0.0153700963503843,
            -0.31510975911105016
           ],
           "yaxis": "y13"
          },
          {
           "hovertemplate": "<b>%{hovertext}</b><br><br>region=Southeast Asia<br>year=2020<br>gdp_std=%{x}<br>score_std=%{y}<extra></extra>",
           "hovertext": [
            "Singapore",
            "Philippines",
            "Thailand",
            "Malaysia",
            "Vietnam",
            "Indonesia",
            "Laos",
            "Cambodia",
            "Myanmar"
           ],
           "ids": [
            "Singapore",
            "Philippines",
            "Thailand",
            "Malaysia",
            "Vietnam",
            "Indonesia",
            "Laos",
            "Cambodia",
            "Myanmar"
           ],
           "legendgroup": "Southeast Asia",
           "marker": {
            "color": "#ab63fa",
            "symbol": "circle"
           },
           "mode": "markers",
           "name": "Southeast Asia",
           "orientation": "v",
           "showlegend": true,
           "type": "scatter",
           "x": [
            1.753272866239413,
            -0.25229336228739235,
            0.3724662222026759,
            0.8072553117216319,
            -0.4059269844735151,
            0.06182591435687203,
            -0.4150826683909205,
            -0.8732196312429316,
            -0.5136906130916018
           ],
           "xaxis": "x14",
           "y": [
            0.8152951500141234,
            0.4805575294827869,
            0.4740628060367537,
            -0.08022485716255147,
            -0.10800722025678357,
            -0.16925375346970534,
            -0.5273538829555156,
            -0.5636146559369688,
            -1.0510634416218927
           ],
           "yaxis": "y14"
          },
          {
           "hovertemplate": "<b>%{hovertext}</b><br><br>region=Commonwealth of Independent States<br>year=2020<br>gdp_std=%{x}<br>score_std=%{y}<extra></extra>",
           "hovertext": [
            "Uzbekistan",
            "Kazakhstan",
            "Moldova",
            "Tajikistan",
            "Russia",
            "Kyrgyzstan",
            "Belarus",
            "Azerbaijan",
            "Turkmenistan",
            "Armenia",
            "Georgia",
            "Ukraine"
           ],
           "ids": [
            "Uzbekistan",
            "Kazakhstan",
            "Moldova",
            "Tajikistan",
            "Russia",
            "Kyrgyzstan",
            "Belarus",
            "Azerbaijan",
            "Turkmenistan",
            "Armenia",
            "Georgia",
            "Ukraine"
           ],
           "legendgroup": "Commonwealth of Independent States",
           "marker": {
            "color": "#FFA15A",
            "symbol": "circle"
           },
           "mode": "markers",
           "name": "Commonwealth of Independent States",
           "orientation": "v",
           "showlegend": true,
           "type": "scatter",
           "x": [
            -0.4636847159150891,
            0.6837969127322429,
            -0.4333398895629413,
            -1.061153226768192,
            0.6956647416938859,
            -0.9579562920700064,
            0.4043231940376396,
            0.3273240327918717,
            0.3776771110325055,
            -0.1630099139474185,
            -0.058117688309288026,
            -0.2379777516454056
           ],
           "xaxis": "x15",
           "y": [
            0.707504245382352,
            0.5273720128207801,
            0.12110468999813867,
            0.07438010054618467,
            0.0656307191197813,
            0.061571732209276225,
            0.060128268704361075,
            -0.2782171491651933,
            -0.3194392882017271,
            -0.7184006922008637,
            -0.7221891378332141,
            -0.8231244526917146
           ],
           "yaxis": "y15"
          },
          {
           "hovertemplate": "<b>%{hovertext}</b><br><br>region=South Asia<br>year=2020<br>gdp_std=%{x}<br>score_std=%{y}<extra></extra>",
           "hovertext": [
            "Pakistan",
            "Maldives",
            "Nepal",
            "Bangladesh",
            "Sri Lanka",
            "India",
            "Afghanistan"
           ],
           "ids": [
            "Pakistan",
            "Maldives",
            "Nepal",
            "Bangladesh",
            "Sri Lanka",
            "India",
            "Afghanistan"
           ],
           "legendgroup": "South Asia",
           "marker": {
            "color": "#19d3f3",
            "symbol": "circle"
           },
           "mode": "markers",
           "name": "South Asia",
           "orientation": "v",
           "showlegend": true,
           "type": "scatter",
           "x": [
            -0.6788090531455864,
            0.18613634447131244,
            -1.1441934026549858,
            -0.8421812401543779,
            0.07870715534732699,
            -0.37229589012258,
            -1.5303621330264412
           ],
           "xaxis": "x16",
           "y": [
            0.19849727786905969,
            -0.2486313176628784,
            -0.30311301551062275,
            -0.5776862706477031,
            -1.0339251139332806,
            -1.7137738473193862,
            -2.6215613549561643
           ],
           "yaxis": "y16"
          }
         ],
         "name": "2020"
        },
        {
         "data": [
          {
           "hovertemplate": "<b>%{hovertext}</b><br><br>region=Western Europe<br>year=2021<br>gdp_std=%{x}<br>score_std=%{y}<extra></extra>",
           "hovertext": [
            "Finland",
            "Denmark",
            "Switzerland",
            "Iceland",
            "Netherlands",
            "Norway",
            "Sweden",
            "Luxembourg",
            "Austria",
            "Germany",
            "Ireland",
            "United Kingdom",
            "Belgium",
            "France",
            "Malta",
            "Spain",
            "Italy",
            "Cyprus",
            "Portugal",
            "Greece",
            "North Cyprus"
           ],
           "ids": [
            "Finland",
            "Denmark",
            "Switzerland",
            "Iceland",
            "Netherlands",
            "Norway",
            "Sweden",
            "Luxembourg",
            "Austria",
            "Germany",
            "Ireland",
            "United Kingdom",
            "Belgium",
            "France",
            "Malta",
            "Spain",
            "Italy",
            "Cyprus",
            "Portugal",
            "Greece",
            "North Cyprus"
           ],
           "legendgroup": "Western Europe",
           "marker": {
            "color": "#636efa",
            "symbol": "circle"
           },
           "mode": "markers",
           "name": "Western Europe",
           "orientation": "v",
           "showlegend": true,
           "type": "scatter",
           "x": [
            1.1628854522361665,
            1.2997167029436163,
            1.4590644885776105,
            1.2520855713682384,
            1.2988506823695192,
            1.4036391718353518,
            1.2425593450531631,
            1.9180553928494366,
            1.2763341474429768,
            1.2477554684977488,
            1.6539191177496122,
            1.1039960531975173,
            1.2044544397928605,
            1.101397991475224,
            1.0754173742522892,
            0.9862172551202172,
            1.031250324973302,
            0.9905473579907068,
            0.8563141690055489,
            0.7333392474836651,
            0.9905473579907068
           ],
           "xaxis": "x",
           "y": [
            2.157461884625526,
            1.9500460643019155,
            1.9042650949512097,
            1.8883819015030028,
            1.8042944067772144,
            1.7370244109965858,
            1.7099295515849413,
            1.6734916372037676,
            1.621170529374388,
            1.5155940082186767,
            1.4501926234319522,
            1.430572207995935,
            1.2156819436966984,
            1.081141952135438,
            0.9989230684035559,
            0.8952151582417508,
            0.8877407142661243,
            0.6448212850582921,
            0.37013546895404936,
            0.17766853658169102,
            0.002953408651442768
           ],
           "yaxis": "y"
          },
          {
           "hovertemplate": "<b>%{hovertext}</b><br><br>region=Latin America and Caribbean<br>year=2021<br>gdp_std=%{x}<br>score_std=%{y}<extra></extra>",
           "hovertext": [
            "Costa Rica",
            "Guatemala",
            "Uruguay",
            "Brazil",
            "Mexico",
            "Jamaica",
            "Panama",
            "Chile",
            "El Salvador",
            "Colombia",
            "Nicaragua",
            "Argentina",
            "Honduras",
            "Peru",
            "Ecuador",
            "Bolivia",
            "Paraguay",
            "Dominican Republic",
            "Venezuela",
            "Haiti"
           ],
           "ids": [
            "Costa Rica",
            "Guatemala",
            "Uruguay",
            "Brazil",
            "Mexico",
            "Jamaica",
            "Panama",
            "Chile",
            "El Salvador",
            "Colombia",
            "Nicaragua",
            "Argentina",
            "Honduras",
            "Peru",
            "Ecuador",
            "Bolivia",
            "Paraguay",
            "Dominican Republic",
            "Venezuela",
            "Haiti"
           ],
           "legendgroup": "Latin America and Caribbean",
           "marker": {
            "color": "#FFA15A",
            "symbol": "circle"
           },
           "mode": "markers",
           "name": "Latin America and Caribbean",
           "orientation": "v",
           "showlegend": true,
           "type": "scatter",
           "x": [
            0.3877970384186471,
            -0.3284019763602232,
            0.4622748077910555,
            0.12539280446701676,
            0.3696106063625929,
            -0.2132212400052182,
            0.7948267082446062,
            0.5532069680713236,
            -0.3275359557861259,
            0.10807239298506137,
            -0.7033888849445665,
            0.4588107254946648,
            -0.6791403088698281,
            0.022336356149380232,
            -0.1032366270947986,
            -0.3344641203789089,
            0.01367615040840254,
            0.32024743363901864,
            -0.31108156487826777,
            -1.6932504011383367
           ],
           "xaxis": "x5",
           "y": [
            1.435243735480701,
            0.8428940504123706,
            0.8391568284245582,
            0.7447919732322849,
            0.7326460017718933,
            0.7251715577962677,
            0.6046461486893042,
            0.5971717047136802,
            0.4934637945518734,
            0.4476828252011669,
            0.4103106053230388,
            0.37013546895404936,
            0.3607924139845183,
            0.2869822797252156,
            0.21597506195677094,
            0.17112839810301889,
            0.11226715179496656,
            0.011362158124021077,
            -0.5987393313864195,
            -1.7918474509956588
           ],
           "yaxis": "y5"
          },
          {
           "hovertemplate": "<b>%{hovertext}</b><br><br>region=Central and Eastern Europe<br>year=2021<br>gdp_std=%{x}<br>score_std=%{y}<extra></extra>",
           "hovertext": [
            "Czech Republic",
            "Slovenia",
            "Kosovo",
            "Slovakia",
            "Lithuania",
            "Estonia",
            "Poland",
            "Romania",
            "Serbia",
            "Latvia",
            "Hungary",
            "Croatia",
            "Bosnia and Herzegovina",
            "Montenegro",
            "Bulgaria",
            "Albania",
            "North Macedonia"
           ],
           "ids": [
            "Czech Republic",
            "Slovenia",
            "Kosovo",
            "Slovakia",
            "Lithuania",
            "Estonia",
            "Poland",
            "Romania",
            "Serbia",
            "Latvia",
            "Hungary",
            "Croatia",
            "Bosnia and Herzegovina",
            "Montenegro",
            "Bulgaria",
            "Albania",
            "North Macedonia"
           ],
           "legendgroup": "Central and Eastern Europe",
           "marker": {
            "color": "#FF6692",
            "symbol": "circle"
           },
           "mode": "markers",
           "name": "Central and Eastern Europe",
           "orientation": "v",
           "showlegend": true,
           "type": "scatter",
           "x": [
            0.97322694650875,
            0.949844391008112,
            -0.09890652422431052,
            0.8112810991524658,
            0.9238637737851774,
            0.9082754034514166,
            0.8225393666157355,
            0.7376693503541532,
            0.3072571250275529,
            0.7645159881511835,
            0.8017548728373893,
            0.6796459718896013,
            0.1366510719302879,
            0.4397582728645133,
            0.5055758364959455,
            0.07602963174344253,
            0.2258511910623598
           ],
           "xaxis": "x7",
           "y": [
            1.338075963797568,
            0.8671859933331545,
            0.78403280410432,
            0.7457262787292384,
            0.6747190609607945,
            0.6130548981618833,
            0.59156587173196,
            0.5672739288111761,
            0.5093469880000765,
            0.4663689351402306,
            0.4289967152621033,
            0.3262231105972516,
            0.26175603130747904,
            0.044997156014336785,
            -0.2493090755259222,
            -0.3885205945719494,
            -0.4034694825232006
           ],
           "yaxis": "y7"
          },
          {
           "hovertemplate": "<b>%{hovertext}</b><br><br>region=Sub-Saharan Africa<br>year=2021<br>gdp_std=%{x}<br>score_std=%{y}<extra></extra>",
           "hovertext": [
            "Mauritius",
            "Congo (Brazzaville)",
            "Ivory Coast",
            "Cameroon",
            "Senegal",
            "Ghana",
            "Niger",
            "Gambia",
            "Benin",
            "Guinea",
            "South Africa",
            "Gabon",
            "Burkina Faso",
            "Mozambique",
            "Nigeria",
            "Mali",
            "Uganda",
            "Liberia",
            "Kenya",
            "Namibia",
            "Chad",
            "Swaziland",
            "Comoros",
            "Ethiopia",
            "Mauritania",
            "Madagascar",
            "Togo",
            "Zambia",
            "Sierra Leone",
            "Burundi",
            "Tanzania",
            "Malawi",
            "Lesotho",
            "Botswana",
            "Rwanda",
            "Zimbabwe"
           ],
           "ids": [
            "Mauritius",
            "Congo (Brazzaville)",
            "Ivory Coast",
            "Cameroon",
            "Senegal",
            "Ghana",
            "Niger",
            "Gambia",
            "Benin",
            "Guinea",
            "South Africa",
            "Gabon",
            "Burkina Faso",
            "Mozambique",
            "Nigeria",
            "Mali",
            "Uganda",
            "Liberia",
            "Kenya",
            "Namibia",
            "Chad",
            "Swaziland",
            "Comoros",
            "Ethiopia",
            "Mauritania",
            "Madagascar",
            "Togo",
            "Zambia",
            "Sierra Leone",
            "Burundi",
            "Tanzania",
            "Malawi",
            "Lesotho",
            "Botswana",
            "Rwanda",
            "Zimbabwe"
           ],
           "legendgroup": "Sub-Saharan Africa",
           "marker": {
            "color": "#FF97FF",
            "symbol": "circle"
           },
           "mode": "markers",
           "name": "Sub-Saharan Africa",
           "orientation": "v",
           "showlegend": true,
           "type": "scatter",
           "x": [
            0.4986476719031625,
            -1.138997233715752,
            -0.7631443045573131,
            -1.0766437523807122,
            -1.138131213141655,
            -0.7380297079084773,
            -2.0214721987213986,
            -1.5122521011518997,
            -1.1649778509386868,
            -1.3806169738890364,
            -0.02529477542599784,
            0.14790933939355905,
            -1.5191802657446818,
            -1.9695109642755309,
            -0.7787326748910738,
            -1.462022907854228,
            -1.5200462863187798,
            -1.85692828964282,
            -0.9276882136358924,
            -0.2348717543576632,
            -1.7911107260113872,
            -0.31800972947105083,
            -1.2134750030881625,
            -1.5053239365591171,
            -0.7709384897241934,
            -1.763398067640258,
            -1.7928427671595826,
            -1.1147486576410153,
            -1.7304892858245418,
            -2.4224397245286737,
            -1.3477081920733196,
            -2.14271507909509,
            -1.3044071633684302,
            0.30292702215706324,
            -1.5209123068928772,
            -1.2896848136087684
           ],
           "xaxis": "x9",
           "y": [
            0.4822521285884354,
            -0.1783018577574784,
            -0.2119368556477941,
            -0.36516295714811897,
            -0.3745060121176499,
            -0.4156154539835921,
            -0.4286957309409372,
            -0.45018475737086056,
            -0.45579059035258,
            -0.5127832256667253,
            -0.5389437795814145,
            -0.6361115512645477,
            -0.6529290502097059,
            -0.690301270087834,
            -0.7230019624811954,
            -0.7566369603715111,
            -0.8379215386064395,
            -0.8481988990729248,
            -0.8650163980180822,
            -0.8958484794175382,
            -1.1004613832502892,
            -1.14437374160709,
            -1.1621255460492008,
            -1.1752058230065452,
            -1.2200524868602989,
            -1.23780429130241,
            -1.3321691464946832,
            -1.363935533391092,
            -1.5732199647086094,
            -1.6423585714831466,
            -1.7843730070200332,
            -1.8058620334499569,
            -1.888080917181839,
            -1.9301246645447327,
            -1.9787085503862996,
            -2.230971034563664
           ],
           "yaxis": "y9"
          },
          {
           "hovertemplate": "<b>%{hovertext}</b><br><br>region=North America and ANZ<br>year=2021<br>gdp_std=%{x}<br>score_std=%{y}<extra></extra>",
           "hovertext": [
            "New Zealand",
            "Australia",
            "Canada",
            "United States"
           ],
           "ids": [
            "New Zealand",
            "Australia",
            "Canada",
            "United States"
           ],
           "legendgroup": "North America and ANZ",
           "marker": {
            "color": "#636efa",
            "symbol": "circle"
           },
           "mode": "markers",
           "name": "North America and ANZ",
           "orientation": "v",
           "showlegend": true,
           "type": "scatter",
           "x": [
            1.0485707364552588,
            1.1810718842922192,
            1.1637514728102638,
            1.3776585546124172
           ],
           "xaxis": "x11",
           "y": [
            1.6295792788469672,
            1.541754562133366,
            1.4670101223771097,
            1.3249956868402235
           ],
           "yaxis": "y11"
          },
          {
           "hovertemplate": "<b>%{hovertext}</b><br><br>region=Middle East and North Africa<br>year=2021<br>gdp_std=%{x}<br>score_std=%{y}<extra></extra>",
           "hovertext": [
            "Israel",
            "Bahrain",
            "United Arab Emirates",
            "Saudi Arabia",
            "Kuwait",
            "Libya",
            "Turkey",
            "Morocco",
            "Algeria",
            "Iraq",
            "Iran",
            "Tunisia",
            "Lebanon",
            "Palestinian Territories",
            "Jordan",
            "Egypt",
            "Yemen"
           ],
           "ids": [
            "Israel",
            "Bahrain",
            "United Arab Emirates",
            "Saudi Arabia",
            "Kuwait",
            "Libya",
            "Turkey",
            "Morocco",
            "Algeria",
            "Iraq",
            "Iran",
            "Tunisia",
            "Lebanon",
            "Palestinian Territories",
            "Jordan",
            "Egypt",
            "Yemen"
           ],
           "legendgroup": "Middle East and North Africa",
           "marker": {
            "color": "#EF553B",
            "symbol": "circle"
           },
           "mode": "markers",
           "name": "Middle East and North Africa",
           "orientation": "v",
           "showlegend": true,
           "type": "scatter",
           "x": [
            0.989681337416608,
            1.0710872713818012,
            1.4313518302064812,
            1.135172793865037,
            1.1992583163482735,
            0.16436373030141713,
            0.6995644450938501,
            -0.4583050624748946,
            -0.07812203044596283,
            -0.1664561290039374,
            0.13145494848570094,
            -0.14393959407739512,
            0.16782781259780788,
            -0.8203016624477677,
            -0.21668532230160892,
            -0.056471516093517825,
            -1.6057823231544617
           ],
           "xaxis": "x12",
           "y": [
            1.5174626192125829,
            1.04096681576645,
            0.9606165430284744,
            0.8980180747326098,
            0.5355075419147673,
            -0.114769083964661,
            -0.5464182235570402,
            -0.5744473884656365,
            -0.6034108588711863,
            -0.6342429402706414,
            -0.7585055713654173,
            -0.8752937584845676,
            -0.8865054244480064,
            -0.9491038927438704,
            -1.0630891633721615,
            -1.1677313790309196,
            -1.7516723146266713
           ],
           "yaxis": "y12"
          },
          {
           "hovertemplate": "<b>%{hovertext}</b><br><br>region=East Asia<br>year=2021<br>gdp_std=%{x}<br>score_std=%{y}<extra></extra>",
           "hovertext": [
            "Taiwan Province of China",
            "Japan",
            "South Korea",
            "Mongolia",
            "Hong Kong S.A.R. of China",
            "China"
           ],
           "ids": [
            "Taiwan Province of China",
            "Japan",
            "South Korea",
            "Mongolia",
            "Hong Kong S.A.R. of China",
            "China"
           ],
           "legendgroup": "East Asia",
           "marker": {
            "color": "#00cc96",
            "symbol": "circle"
           },
           "mode": "markers",
           "name": "East Asia",
           "orientation": "v",
           "showlegend": true,
           "type": "scatter",
           "x": [
            1.2460234273495543,
            1.0208580780841296,
            1.0554989010480404,
            -0.027892837148291296,
            1.3577400814081684,
            0.2085307795804044
           ],
           "xaxis": "x13",
           "y": [
            0.9821055694583978,
            0.3804128294205363,
            0.2916538072099815,
            0.13469048372184428,
            -0.052170615668796314,
            -0.1811047742483381
           ],
           "yaxis": "y13"
          },
          {
           "hovertemplate": "<b>%{hovertext}</b><br><br>region=Southeast Asia<br>year=2021<br>gdp_std=%{x}<br>score_std=%{y}<extra></extra>",
           "hovertext": [
            "Singapore",
            "Thailand",
            "Philippines",
            "Vietnam",
            "Malaysia",
            "Indonesia",
            "Laos",
            "Cambodia",
            "Myanmar"
           ],
           "ids": [
            "Singapore",
            "Thailand",
            "Philippines",
            "Vietnam",
            "Malaysia",
            "Indonesia",
            "Laos",
            "Cambodia",
            "Myanmar"
           ],
           "legendgroup": "Southeast Asia",
           "marker": {
            "color": "#ab63fa",
            "symbol": "circle"
           },
           "mode": "markers",
           "name": "Southeast Asia",
           "orientation": "v",
           "showlegend": true,
           "type": "scatter",
           "x": [
            1.7803581215678883,
            0.3228454953613121,
            -0.30848350315597434,
            -0.3976836222880493,
            0.6978324039456539,
            -0.058203557241713985,
            -0.42020015721458703,
            -0.9285542342099912,
            -0.7718045102982908
           ],
           "xaxis": "x14",
           "y": [
            0.7887043315890867,
            0.4224565767834304,
            0.3243544996033437,
            -0.1138347784677075,
            -0.13906102688544408,
            -0.1754989412666195,
            -0.4698051728068777,
            -0.6566662721975183,
            -1.0341256929666118
           ],
           "yaxis": "y14"
          },
          {
           "hovertemplate": "<b>%{hovertext}</b><br><br>region=Commonwealth of Independent States<br>year=2021<br>gdp_std=%{x}<br>score_std=%{y}<extra></extra>",
           "hovertext": [
            "Uzbekistan",
            "Kazakhstan",
            "Moldova",
            "Kyrgyzstan",
            "Belarus",
            "Russia",
            "Tajikistan",
            "Armenia",
            "Azerbaijan",
            "Turkmenistan",
            "Georgia",
            "Ukraine"
           ],
           "ids": [
            "Uzbekistan",
            "Kazakhstan",
            "Moldova",
            "Kyrgyzstan",
            "Belarus",
            "Russia",
            "Tajikistan",
            "Armenia",
            "Azerbaijan",
            "Turkmenistan",
            "Georgia",
            "Ukraine"
           ],
           "legendgroup": "Commonwealth of Independent States",
           "marker": {
            "color": "#FFA15A",
            "symbol": "circle"
           },
           "mode": "markers",
           "name": "Commonwealth of Independent States",
           "orientation": "v",
           "showlegend": true,
           "type": "scatter",
           "x": [
            -0.5163284409394435,
            0.6259526962955374,
            0.018872273852989462,
            -0.7744025720205843,
            0.3644144829180059,
            0.6553973958148628,
            -1.1615137686422945,
            0.047450952798216,
            0.1184646398742352,
            0.17042587432010134,
            0.1323209690597998,
            0.003283903519228696
           ],
           "xaxis": "x15",
           "y": [
            0.6037118431923498,
            0.5784855947746149,
            0.21784367295067886,
            0.19728895201770816,
            0.0010847976575357394,
            -0.052170615668796314,
            -0.062447976135281635,
            -0.2334258820777175,
            -0.33806809773647617,
            -0.4361701749165628,
            -0.5996736368833729,
            -0.6146225248346242
           ],
           "yaxis": "y15"
          },
          {
           "hovertemplate": "<b>%{hovertext}</b><br><br>region=South Asia<br>year=2021<br>gdp_std=%{x}<br>score_std=%{y}<extra></extra>",
           "hovertext": [
            "Nepal",
            "Maldives",
            "Bangladesh",
            "Pakistan",
            "Sri Lanka",
            "India",
            "Afghanistan"
           ],
           "ids": [
            "Nepal",
            "Maldives",
            "Bangladesh",
            "Pakistan",
            "Sri Lanka",
            "India",
            "Afghanistan"
           ],
           "legendgroup": "South Asia",
           "marker": {
            "color": "#19d3f3",
            "symbol": "circle"
           },
           "mode": "markers",
           "name": "South Asia",
           "orientation": "v",
           "showlegend": true,
           "type": "scatter",
           "x": [
            -1.1363991719934603,
            0.3410319274173663,
            -0.8471483002447979,
            -0.8436842179484073,
            0.03272860303855407,
            -0.5864761074413639,
            -1.5044579159850189
           ],
           "xaxis": "x16",
           "y": [
            -0.2465061590350625,
            -0.3128418493187396,
            -0.4744767002916436,
            -0.5594985005143852,
            -1.1284905481588852,
            -1.6012491296172058,
            -2.812109053668556
           ],
           "yaxis": "y16"
          }
         ],
         "name": "2021"
        }
       ],
       "layout": {
        "annotations": [
         {
          "font": {},
          "showarrow": false,
          "text": "region=Western Europe",
          "x": 0.021875,
          "xanchor": "center",
          "xref": "paper",
          "y": 1,
          "yanchor": "bottom",
          "yref": "paper"
         },
         {
          "font": {},
          "showarrow": false,
          "text": "region=North America",
          "x": 0.085625,
          "xanchor": "center",
          "xref": "paper",
          "y": 1,
          "yanchor": "bottom",
          "yref": "paper"
         },
         {
          "font": {},
          "showarrow": false,
          "text": "region=Australia and New Zealand",
          "x": 0.149375,
          "xanchor": "center",
          "xref": "paper",
          "y": 1,
          "yanchor": "bottom",
          "yref": "paper"
         },
         {
          "font": {},
          "showarrow": false,
          "text": "region=Middle East and Northern Africa",
          "x": 0.21312499999999998,
          "xanchor": "center",
          "xref": "paper",
          "y": 1,
          "yanchor": "bottom",
          "yref": "paper"
         },
         {
          "font": {},
          "showarrow": false,
          "text": "region=Latin America and Caribbean",
          "x": 0.276875,
          "xanchor": "center",
          "xref": "paper",
          "y": 1,
          "yanchor": "bottom",
          "yref": "paper"
         },
         {
          "font": {},
          "showarrow": false,
          "text": "region=Southeastern Asia",
          "x": 0.34062499999999996,
          "xanchor": "center",
          "xref": "paper",
          "y": 1,
          "yanchor": "bottom",
          "yref": "paper"
         },
         {
          "font": {},
          "showarrow": false,
          "text": "region=Central and Eastern Europe",
          "x": 0.40437500000000004,
          "xanchor": "center",
          "xref": "paper",
          "y": 1,
          "yanchor": "bottom",
          "yref": "paper"
         },
         {
          "font": {},
          "showarrow": false,
          "text": "region=Eastern Asia",
          "x": 0.468125,
          "xanchor": "center",
          "xref": "paper",
          "y": 1,
          "yanchor": "bottom",
          "yref": "paper"
         },
         {
          "font": {},
          "showarrow": false,
          "text": "region=Sub-Saharan Africa",
          "x": 0.531875,
          "xanchor": "center",
          "xref": "paper",
          "y": 1,
          "yanchor": "bottom",
          "yref": "paper"
         },
         {
          "font": {},
          "showarrow": false,
          "text": "region=Southern Asia",
          "x": 0.595625,
          "xanchor": "center",
          "xref": "paper",
          "y": 1,
          "yanchor": "bottom",
          "yref": "paper"
         },
         {
          "font": {},
          "showarrow": false,
          "text": "region=North America and ANZ",
          "x": 0.659375,
          "xanchor": "center",
          "xref": "paper",
          "y": 1,
          "yanchor": "bottom",
          "yref": "paper"
         },
         {
          "font": {},
          "showarrow": false,
          "text": "region=Middle East and North Africa",
          "x": 0.723125,
          "xanchor": "center",
          "xref": "paper",
          "y": 1,
          "yanchor": "bottom",
          "yref": "paper"
         },
         {
          "font": {},
          "showarrow": false,
          "text": "region=East Asia",
          "x": 0.786875,
          "xanchor": "center",
          "xref": "paper",
          "y": 1,
          "yanchor": "bottom",
          "yref": "paper"
         },
         {
          "font": {},
          "showarrow": false,
          "text": "region=Southeast Asia",
          "x": 0.850625,
          "xanchor": "center",
          "xref": "paper",
          "y": 1,
          "yanchor": "bottom",
          "yref": "paper"
         },
         {
          "font": {},
          "showarrow": false,
          "text": "region=Commonwealth of Independent States",
          "x": 0.9143749999999999,
          "xanchor": "center",
          "xref": "paper",
          "y": 1,
          "yanchor": "bottom",
          "yref": "paper"
         },
         {
          "font": {},
          "showarrow": false,
          "text": "region=South Asia",
          "x": 0.9781249999999998,
          "xanchor": "center",
          "xref": "paper",
          "y": 1,
          "yanchor": "bottom",
          "yref": "paper"
         }
        ],
        "legend": {
         "title": {
          "text": "region"
         },
         "tracegroupgap": 0
        },
        "margin": {
         "t": 60
        },
        "sliders": [
         {
          "active": 0,
          "currentvalue": {
           "prefix": "year="
          },
          "len": 0.9,
          "pad": {
           "b": 10,
           "t": 60
          },
          "steps": [
           {
            "args": [
             [
              "2015"
             ],
             {
              "frame": {
               "duration": 0,
               "redraw": false
              },
              "fromcurrent": true,
              "mode": "immediate",
              "transition": {
               "duration": 0,
               "easing": "linear"
              }
             }
            ],
            "label": "2015",
            "method": "animate"
           },
           {
            "args": [
             [
              "2016"
             ],
             {
              "frame": {
               "duration": 0,
               "redraw": false
              },
              "fromcurrent": true,
              "mode": "immediate",
              "transition": {
               "duration": 0,
               "easing": "linear"
              }
             }
            ],
            "label": "2016",
            "method": "animate"
           },
           {
            "args": [
             [
              "2017"
             ],
             {
              "frame": {
               "duration": 0,
               "redraw": false
              },
              "fromcurrent": true,
              "mode": "immediate",
              "transition": {
               "duration": 0,
               "easing": "linear"
              }
             }
            ],
            "label": "2017",
            "method": "animate"
           },
           {
            "args": [
             [
              "2018"
             ],
             {
              "frame": {
               "duration": 0,
               "redraw": false
              },
              "fromcurrent": true,
              "mode": "immediate",
              "transition": {
               "duration": 0,
               "easing": "linear"
              }
             }
            ],
            "label": "2018",
            "method": "animate"
           },
           {
            "args": [
             [
              "2019"
             ],
             {
              "frame": {
               "duration": 0,
               "redraw": false
              },
              "fromcurrent": true,
              "mode": "immediate",
              "transition": {
               "duration": 0,
               "easing": "linear"
              }
             }
            ],
            "label": "2019",
            "method": "animate"
           },
           {
            "args": [
             [
              "2020"
             ],
             {
              "frame": {
               "duration": 0,
               "redraw": false
              },
              "fromcurrent": true,
              "mode": "immediate",
              "transition": {
               "duration": 0,
               "easing": "linear"
              }
             }
            ],
            "label": "2020",
            "method": "animate"
           },
           {
            "args": [
             [
              "2021"
             ],
             {
              "frame": {
               "duration": 0,
               "redraw": false
              },
              "fromcurrent": true,
              "mode": "immediate",
              "transition": {
               "duration": 0,
               "easing": "linear"
              }
             }
            ],
            "label": "2021",
            "method": "animate"
           }
          ],
          "x": 0.1,
          "xanchor": "left",
          "y": 0,
          "yanchor": "top"
         }
        ],
        "template": {
         "data": {
          "bar": [
           {
            "error_x": {
             "color": "#2a3f5f"
            },
            "error_y": {
             "color": "#2a3f5f"
            },
            "marker": {
             "line": {
              "color": "#E5ECF6",
              "width": 0.5
             },
             "pattern": {
              "fillmode": "overlay",
              "size": 10,
              "solidity": 0.2
             }
            },
            "type": "bar"
           }
          ],
          "barpolar": [
           {
            "marker": {
             "line": {
              "color": "#E5ECF6",
              "width": 0.5
             },
             "pattern": {
              "fillmode": "overlay",
              "size": 10,
              "solidity": 0.2
             }
            },
            "type": "barpolar"
           }
          ],
          "carpet": [
           {
            "aaxis": {
             "endlinecolor": "#2a3f5f",
             "gridcolor": "white",
             "linecolor": "white",
             "minorgridcolor": "white",
             "startlinecolor": "#2a3f5f"
            },
            "baxis": {
             "endlinecolor": "#2a3f5f",
             "gridcolor": "white",
             "linecolor": "white",
             "minorgridcolor": "white",
             "startlinecolor": "#2a3f5f"
            },
            "type": "carpet"
           }
          ],
          "choropleth": [
           {
            "colorbar": {
             "outlinewidth": 0,
             "ticks": ""
            },
            "type": "choropleth"
           }
          ],
          "contour": [
           {
            "colorbar": {
             "outlinewidth": 0,
             "ticks": ""
            },
            "colorscale": [
             [
              0,
              "#0d0887"
             ],
             [
              0.1111111111111111,
              "#46039f"
             ],
             [
              0.2222222222222222,
              "#7201a8"
             ],
             [
              0.3333333333333333,
              "#9c179e"
             ],
             [
              0.4444444444444444,
              "#bd3786"
             ],
             [
              0.5555555555555556,
              "#d8576b"
             ],
             [
              0.6666666666666666,
              "#ed7953"
             ],
             [
              0.7777777777777778,
              "#fb9f3a"
             ],
             [
              0.8888888888888888,
              "#fdca26"
             ],
             [
              1,
              "#f0f921"
             ]
            ],
            "type": "contour"
           }
          ],
          "contourcarpet": [
           {
            "colorbar": {
             "outlinewidth": 0,
             "ticks": ""
            },
            "type": "contourcarpet"
           }
          ],
          "heatmap": [
           {
            "colorbar": {
             "outlinewidth": 0,
             "ticks": ""
            },
            "colorscale": [
             [
              0,
              "#0d0887"
             ],
             [
              0.1111111111111111,
              "#46039f"
             ],
             [
              0.2222222222222222,
              "#7201a8"
             ],
             [
              0.3333333333333333,
              "#9c179e"
             ],
             [
              0.4444444444444444,
              "#bd3786"
             ],
             [
              0.5555555555555556,
              "#d8576b"
             ],
             [
              0.6666666666666666,
              "#ed7953"
             ],
             [
              0.7777777777777778,
              "#fb9f3a"
             ],
             [
              0.8888888888888888,
              "#fdca26"
             ],
             [
              1,
              "#f0f921"
             ]
            ],
            "type": "heatmap"
           }
          ],
          "heatmapgl": [
           {
            "colorbar": {
             "outlinewidth": 0,
             "ticks": ""
            },
            "colorscale": [
             [
              0,
              "#0d0887"
             ],
             [
              0.1111111111111111,
              "#46039f"
             ],
             [
              0.2222222222222222,
              "#7201a8"
             ],
             [
              0.3333333333333333,
              "#9c179e"
             ],
             [
              0.4444444444444444,
              "#bd3786"
             ],
             [
              0.5555555555555556,
              "#d8576b"
             ],
             [
              0.6666666666666666,
              "#ed7953"
             ],
             [
              0.7777777777777778,
              "#fb9f3a"
             ],
             [
              0.8888888888888888,
              "#fdca26"
             ],
             [
              1,
              "#f0f921"
             ]
            ],
            "type": "heatmapgl"
           }
          ],
          "histogram": [
           {
            "marker": {
             "pattern": {
              "fillmode": "overlay",
              "size": 10,
              "solidity": 0.2
             }
            },
            "type": "histogram"
           }
          ],
          "histogram2d": [
           {
            "colorbar": {
             "outlinewidth": 0,
             "ticks": ""
            },
            "colorscale": [
             [
              0,
              "#0d0887"
             ],
             [
              0.1111111111111111,
              "#46039f"
             ],
             [
              0.2222222222222222,
              "#7201a8"
             ],
             [
              0.3333333333333333,
              "#9c179e"
             ],
             [
              0.4444444444444444,
              "#bd3786"
             ],
             [
              0.5555555555555556,
              "#d8576b"
             ],
             [
              0.6666666666666666,
              "#ed7953"
             ],
             [
              0.7777777777777778,
              "#fb9f3a"
             ],
             [
              0.8888888888888888,
              "#fdca26"
             ],
             [
              1,
              "#f0f921"
             ]
            ],
            "type": "histogram2d"
           }
          ],
          "histogram2dcontour": [
           {
            "colorbar": {
             "outlinewidth": 0,
             "ticks": ""
            },
            "colorscale": [
             [
              0,
              "#0d0887"
             ],
             [
              0.1111111111111111,
              "#46039f"
             ],
             [
              0.2222222222222222,
              "#7201a8"
             ],
             [
              0.3333333333333333,
              "#9c179e"
             ],
             [
              0.4444444444444444,
              "#bd3786"
             ],
             [
              0.5555555555555556,
              "#d8576b"
             ],
             [
              0.6666666666666666,
              "#ed7953"
             ],
             [
              0.7777777777777778,
              "#fb9f3a"
             ],
             [
              0.8888888888888888,
              "#fdca26"
             ],
             [
              1,
              "#f0f921"
             ]
            ],
            "type": "histogram2dcontour"
           }
          ],
          "mesh3d": [
           {
            "colorbar": {
             "outlinewidth": 0,
             "ticks": ""
            },
            "type": "mesh3d"
           }
          ],
          "parcoords": [
           {
            "line": {
             "colorbar": {
              "outlinewidth": 0,
              "ticks": ""
             }
            },
            "type": "parcoords"
           }
          ],
          "pie": [
           {
            "automargin": true,
            "type": "pie"
           }
          ],
          "scatter": [
           {
            "marker": {
             "colorbar": {
              "outlinewidth": 0,
              "ticks": ""
             }
            },
            "type": "scatter"
           }
          ],
          "scatter3d": [
           {
            "line": {
             "colorbar": {
              "outlinewidth": 0,
              "ticks": ""
             }
            },
            "marker": {
             "colorbar": {
              "outlinewidth": 0,
              "ticks": ""
             }
            },
            "type": "scatter3d"
           }
          ],
          "scattercarpet": [
           {
            "marker": {
             "colorbar": {
              "outlinewidth": 0,
              "ticks": ""
             }
            },
            "type": "scattercarpet"
           }
          ],
          "scattergeo": [
           {
            "marker": {
             "colorbar": {
              "outlinewidth": 0,
              "ticks": ""
             }
            },
            "type": "scattergeo"
           }
          ],
          "scattergl": [
           {
            "marker": {
             "colorbar": {
              "outlinewidth": 0,
              "ticks": ""
             }
            },
            "type": "scattergl"
           }
          ],
          "scattermapbox": [
           {
            "marker": {
             "colorbar": {
              "outlinewidth": 0,
              "ticks": ""
             }
            },
            "type": "scattermapbox"
           }
          ],
          "scatterpolar": [
           {
            "marker": {
             "colorbar": {
              "outlinewidth": 0,
              "ticks": ""
             }
            },
            "type": "scatterpolar"
           }
          ],
          "scatterpolargl": [
           {
            "marker": {
             "colorbar": {
              "outlinewidth": 0,
              "ticks": ""
             }
            },
            "type": "scatterpolargl"
           }
          ],
          "scatterternary": [
           {
            "marker": {
             "colorbar": {
              "outlinewidth": 0,
              "ticks": ""
             }
            },
            "type": "scatterternary"
           }
          ],
          "surface": [
           {
            "colorbar": {
             "outlinewidth": 0,
             "ticks": ""
            },
            "colorscale": [
             [
              0,
              "#0d0887"
             ],
             [
              0.1111111111111111,
              "#46039f"
             ],
             [
              0.2222222222222222,
              "#7201a8"
             ],
             [
              0.3333333333333333,
              "#9c179e"
             ],
             [
              0.4444444444444444,
              "#bd3786"
             ],
             [
              0.5555555555555556,
              "#d8576b"
             ],
             [
              0.6666666666666666,
              "#ed7953"
             ],
             [
              0.7777777777777778,
              "#fb9f3a"
             ],
             [
              0.8888888888888888,
              "#fdca26"
             ],
             [
              1,
              "#f0f921"
             ]
            ],
            "type": "surface"
           }
          ],
          "table": [
           {
            "cells": {
             "fill": {
              "color": "#EBF0F8"
             },
             "line": {
              "color": "white"
             }
            },
            "header": {
             "fill": {
              "color": "#C8D4E3"
             },
             "line": {
              "color": "white"
             }
            },
            "type": "table"
           }
          ]
         },
         "layout": {
          "annotationdefaults": {
           "arrowcolor": "#2a3f5f",
           "arrowhead": 0,
           "arrowwidth": 1
          },
          "autotypenumbers": "strict",
          "coloraxis": {
           "colorbar": {
            "outlinewidth": 0,
            "ticks": ""
           }
          },
          "colorscale": {
           "diverging": [
            [
             0,
             "#8e0152"
            ],
            [
             0.1,
             "#c51b7d"
            ],
            [
             0.2,
             "#de77ae"
            ],
            [
             0.3,
             "#f1b6da"
            ],
            [
             0.4,
             "#fde0ef"
            ],
            [
             0.5,
             "#f7f7f7"
            ],
            [
             0.6,
             "#e6f5d0"
            ],
            [
             0.7,
             "#b8e186"
            ],
            [
             0.8,
             "#7fbc41"
            ],
            [
             0.9,
             "#4d9221"
            ],
            [
             1,
             "#276419"
            ]
           ],
           "sequential": [
            [
             0,
             "#0d0887"
            ],
            [
             0.1111111111111111,
             "#46039f"
            ],
            [
             0.2222222222222222,
             "#7201a8"
            ],
            [
             0.3333333333333333,
             "#9c179e"
            ],
            [
             0.4444444444444444,
             "#bd3786"
            ],
            [
             0.5555555555555556,
             "#d8576b"
            ],
            [
             0.6666666666666666,
             "#ed7953"
            ],
            [
             0.7777777777777778,
             "#fb9f3a"
            ],
            [
             0.8888888888888888,
             "#fdca26"
            ],
            [
             1,
             "#f0f921"
            ]
           ],
           "sequentialminus": [
            [
             0,
             "#0d0887"
            ],
            [
             0.1111111111111111,
             "#46039f"
            ],
            [
             0.2222222222222222,
             "#7201a8"
            ],
            [
             0.3333333333333333,
             "#9c179e"
            ],
            [
             0.4444444444444444,
             "#bd3786"
            ],
            [
             0.5555555555555556,
             "#d8576b"
            ],
            [
             0.6666666666666666,
             "#ed7953"
            ],
            [
             0.7777777777777778,
             "#fb9f3a"
            ],
            [
             0.8888888888888888,
             "#fdca26"
            ],
            [
             1,
             "#f0f921"
            ]
           ]
          },
          "colorway": [
           "#636efa",
           "#EF553B",
           "#00cc96",
           "#ab63fa",
           "#FFA15A",
           "#19d3f3",
           "#FF6692",
           "#B6E880",
           "#FF97FF",
           "#FECB52"
          ],
          "font": {
           "color": "#2a3f5f"
          },
          "geo": {
           "bgcolor": "white",
           "lakecolor": "white",
           "landcolor": "#E5ECF6",
           "showlakes": true,
           "showland": true,
           "subunitcolor": "white"
          },
          "hoverlabel": {
           "align": "left"
          },
          "hovermode": "closest",
          "mapbox": {
           "style": "light"
          },
          "paper_bgcolor": "white",
          "plot_bgcolor": "#E5ECF6",
          "polar": {
           "angularaxis": {
            "gridcolor": "white",
            "linecolor": "white",
            "ticks": ""
           },
           "bgcolor": "#E5ECF6",
           "radialaxis": {
            "gridcolor": "white",
            "linecolor": "white",
            "ticks": ""
           }
          },
          "scene": {
           "xaxis": {
            "backgroundcolor": "#E5ECF6",
            "gridcolor": "white",
            "gridwidth": 2,
            "linecolor": "white",
            "showbackground": true,
            "ticks": "",
            "zerolinecolor": "white"
           },
           "yaxis": {
            "backgroundcolor": "#E5ECF6",
            "gridcolor": "white",
            "gridwidth": 2,
            "linecolor": "white",
            "showbackground": true,
            "ticks": "",
            "zerolinecolor": "white"
           },
           "zaxis": {
            "backgroundcolor": "#E5ECF6",
            "gridcolor": "white",
            "gridwidth": 2,
            "linecolor": "white",
            "showbackground": true,
            "ticks": "",
            "zerolinecolor": "white"
           }
          },
          "shapedefaults": {
           "line": {
            "color": "#2a3f5f"
           }
          },
          "ternary": {
           "aaxis": {
            "gridcolor": "white",
            "linecolor": "white",
            "ticks": ""
           },
           "baxis": {
            "gridcolor": "white",
            "linecolor": "white",
            "ticks": ""
           },
           "bgcolor": "#E5ECF6",
           "caxis": {
            "gridcolor": "white",
            "linecolor": "white",
            "ticks": ""
           }
          },
          "title": {
           "x": 0.05
          },
          "xaxis": {
           "automargin": true,
           "gridcolor": "white",
           "linecolor": "white",
           "ticks": "",
           "title": {
            "standoff": 15
           },
           "zerolinecolor": "white",
           "zerolinewidth": 2
          },
          "yaxis": {
           "automargin": true,
           "gridcolor": "white",
           "linecolor": "white",
           "ticks": "",
           "title": {
            "standoff": 15
           },
           "zerolinecolor": "white",
           "zerolinewidth": 2
          }
         }
        },
        "updatemenus": [
         {
          "buttons": [
           {
            "args": [
             null,
             {
              "frame": {
               "duration": 500,
               "redraw": false
              },
              "fromcurrent": true,
              "mode": "immediate",
              "transition": {
               "duration": 500,
               "easing": "linear"
              }
             }
            ],
            "label": "&#9654;",
            "method": "animate"
           },
           {
            "args": [
             [
              null
             ],
             {
              "frame": {
               "duration": 0,
               "redraw": false
              },
              "fromcurrent": true,
              "mode": "immediate",
              "transition": {
               "duration": 0,
               "easing": "linear"
              }
             }
            ],
            "label": "&#9724;",
            "method": "animate"
           }
          ],
          "direction": "left",
          "pad": {
           "r": 10,
           "t": 70
          },
          "showactive": false,
          "type": "buttons",
          "x": 0.1,
          "xanchor": "right",
          "y": 0,
          "yanchor": "top"
         }
        ],
        "xaxis": {
         "anchor": "y",
         "domain": [
          0,
          0.04375
         ],
         "range": [
          -10,
          10
         ],
         "title": {
          "text": "gdp_std"
         }
        },
        "xaxis10": {
         "anchor": "y10",
         "domain": [
          0.57375,
          0.6174999999999999
         ],
         "matches": "x",
         "range": [
          -10,
          10
         ],
         "title": {
          "text": "gdp_std"
         }
        },
        "xaxis11": {
         "anchor": "y11",
         "domain": [
          0.6375000000000001,
          0.68125
         ],
         "matches": "x",
         "range": [
          -10,
          10
         ],
         "title": {
          "text": "gdp_std"
         }
        },
        "xaxis12": {
         "anchor": "y12",
         "domain": [
          0.70125,
          0.745
         ],
         "matches": "x",
         "range": [
          -10,
          10
         ],
         "title": {
          "text": "gdp_std"
         }
        },
        "xaxis13": {
         "anchor": "y13",
         "domain": [
          0.765,
          0.80875
         ],
         "matches": "x",
         "range": [
          -10,
          10
         ],
         "title": {
          "text": "gdp_std"
         }
        },
        "xaxis14": {
         "anchor": "y14",
         "domain": [
          0.82875,
          0.8724999999999999
         ],
         "matches": "x",
         "range": [
          -10,
          10
         ],
         "title": {
          "text": "gdp_std"
         }
        },
        "xaxis15": {
         "anchor": "y15",
         "domain": [
          0.8925,
          0.9362499999999999
         ],
         "matches": "x",
         "range": [
          -10,
          10
         ],
         "title": {
          "text": "gdp_std"
         }
        },
        "xaxis16": {
         "anchor": "y16",
         "domain": [
          0.9562499999999998,
          0.9999999999999998
         ],
         "matches": "x",
         "range": [
          -10,
          10
         ],
         "title": {
          "text": "gdp_std"
         }
        },
        "xaxis2": {
         "anchor": "y2",
         "domain": [
          0.06375,
          0.1075
         ],
         "matches": "x",
         "range": [
          -10,
          10
         ],
         "title": {
          "text": "gdp_std"
         }
        },
        "xaxis3": {
         "anchor": "y3",
         "domain": [
          0.1275,
          0.17125
         ],
         "matches": "x",
         "range": [
          -10,
          10
         ],
         "title": {
          "text": "gdp_std"
         }
        },
        "xaxis4": {
         "anchor": "y4",
         "domain": [
          0.19124999999999998,
          0.235
         ],
         "matches": "x",
         "range": [
          -10,
          10
         ],
         "title": {
          "text": "gdp_std"
         }
        },
        "xaxis5": {
         "anchor": "y5",
         "domain": [
          0.255,
          0.29875
         ],
         "matches": "x",
         "range": [
          -10,
          10
         ],
         "title": {
          "text": "gdp_std"
         }
        },
        "xaxis6": {
         "anchor": "y6",
         "domain": [
          0.31875,
          0.3625
         ],
         "matches": "x",
         "range": [
          -10,
          10
         ],
         "title": {
          "text": "gdp_std"
         }
        },
        "xaxis7": {
         "anchor": "y7",
         "domain": [
          0.3825,
          0.42625
         ],
         "matches": "x",
         "range": [
          -10,
          10
         ],
         "title": {
          "text": "gdp_std"
         }
        },
        "xaxis8": {
         "anchor": "y8",
         "domain": [
          0.44625000000000004,
          0.49000000000000005
         ],
         "matches": "x",
         "range": [
          -10,
          10
         ],
         "title": {
          "text": "gdp_std"
         }
        },
        "xaxis9": {
         "anchor": "y9",
         "domain": [
          0.51,
          0.55375
         ],
         "matches": "x",
         "range": [
          -10,
          10
         ],
         "title": {
          "text": "gdp_std"
         }
        },
        "yaxis": {
         "anchor": "x",
         "domain": [
          0,
          1
         ],
         "range": [
          -10,
          10
         ],
         "title": {
          "text": "score_std"
         }
        },
        "yaxis10": {
         "anchor": "x10",
         "domain": [
          0,
          1
         ],
         "matches": "y",
         "showticklabels": false
        },
        "yaxis11": {
         "anchor": "x11",
         "domain": [
          0,
          1
         ],
         "matches": "y",
         "showticklabels": false
        },
        "yaxis12": {
         "anchor": "x12",
         "domain": [
          0,
          1
         ],
         "matches": "y",
         "showticklabels": false
        },
        "yaxis13": {
         "anchor": "x13",
         "domain": [
          0,
          1
         ],
         "matches": "y",
         "showticklabels": false
        },
        "yaxis14": {
         "anchor": "x14",
         "domain": [
          0,
          1
         ],
         "matches": "y",
         "showticklabels": false
        },
        "yaxis15": {
         "anchor": "x15",
         "domain": [
          0,
          1
         ],
         "matches": "y",
         "showticklabels": false
        },
        "yaxis16": {
         "anchor": "x16",
         "domain": [
          0,
          1
         ],
         "matches": "y",
         "showticklabels": false
        },
        "yaxis2": {
         "anchor": "x2",
         "domain": [
          0,
          1
         ],
         "matches": "y",
         "showticklabels": false
        },
        "yaxis3": {
         "anchor": "x3",
         "domain": [
          0,
          1
         ],
         "matches": "y",
         "showticklabels": false
        },
        "yaxis4": {
         "anchor": "x4",
         "domain": [
          0,
          1
         ],
         "matches": "y",
         "showticklabels": false
        },
        "yaxis5": {
         "anchor": "x5",
         "domain": [
          0,
          1
         ],
         "matches": "y",
         "showticklabels": false
        },
        "yaxis6": {
         "anchor": "x6",
         "domain": [
          0,
          1
         ],
         "matches": "y",
         "showticklabels": false
        },
        "yaxis7": {
         "anchor": "x7",
         "domain": [
          0,
          1
         ],
         "matches": "y",
         "showticklabels": false
        },
        "yaxis8": {
         "anchor": "x8",
         "domain": [
          0,
          1
         ],
         "matches": "y",
         "showticklabels": false
        },
        "yaxis9": {
         "anchor": "x9",
         "domain": [
          0,
          1
         ],
         "matches": "y",
         "showticklabels": false
        }
       }
      },
      "text/html": [
       "<div>                            <div id=\"842e1265-81c2-421a-9cf4-582b8f3b5b64\" class=\"plotly-graph-div\" style=\"height:525px; width:100%;\"></div>            <script type=\"text/javascript\">                require([\"plotly\"], function(Plotly) {                    window.PLOTLYENV=window.PLOTLYENV || {};                                    if (document.getElementById(\"842e1265-81c2-421a-9cf4-582b8f3b5b64\")) {                    Plotly.newPlot(                        \"842e1265-81c2-421a-9cf4-582b8f3b5b64\",                        [{\"hovertemplate\":\"<b>%{hovertext}</b><br><br>region=Western Europe<br>year=2015<br>gdp_std=%{x}<br>score_std=%{y}<extra></extra>\",\"hovertext\":[\"Switzerland\",\"Iceland\",\"Denmark\",\"Norway\",\"Finland\",\"Netherlands\",\"Sweden\",\"Austria\",\"Luxembourg\",\"Ireland\",\"Belgium\",\"United Kingdom\",\"Germany\",\"France\",\"Spain\",\"Malta\",\"Italy\",\"North Cyprus\",\"Cyprus\",\"Portugal\",\"Greece\"],\"ids\":[\"Switzerland\",\"Iceland\",\"Denmark\",\"Norway\",\"Finland\",\"Netherlands\",\"Sweden\",\"Austria\",\"Luxembourg\",\"Ireland\",\"Belgium\",\"United Kingdom\",\"Germany\",\"France\",\"Spain\",\"Malta\",\"Italy\",\"North Cyprus\",\"Cyprus\",\"Portugal\",\"Greece\"],\"legendgroup\":\"Western Europe\",\"marker\":{\"color\":\"#636efa\",\"symbol\":\"circle\"},\"mode\":\"markers\",\"name\":\"Western Europe\",\"orientation\":\"v\",\"showlegend\":true,\"type\":\"scatter\",\"x\":[1.3696212439986155,1.1352262511271294,1.1928606925211591,1.5251297173454594,1.1051896488980304,1.202715286127392,1.2083642577148033,1.2221009639537943,1.7862017918984652,1.2189405261053312,1.148913186691342,1.0457634632119592,1.1989327148441915,1.0741576331733522,0.9555292298377144,0.8990146286262116,1.0078630943677849,0.9006570608939168,0.9008312582556433,0.7808341613635841,0.7662762389907402],\"xaxis\":\"x\",\"y\":[1.9373600501113448,1.9145806263153118,1.884792149043579,1.8804114906212652,1.7787802152235888,1.75424852805863,1.741982684476152,1.598297088224263,1.3757596403707284,1.370502850263951,1.3678744552105626,1.3065452372981714,1.20403783021603,1.0507147854350507,0.8351863910572163,0.8115308355767229,0.5013802192769129,0.27971890310783953,0.2744621130010629,-0.23982718577856524,-0.4544794484719366],\"yaxis\":\"y\"},{\"hovertemplate\":\"<b>%{hovertext}</b><br><br>region=North America<br>year=2015<br>gdp_std=%{x}<br>score_std=%{y}<extra></extra>\",\"hovertext\":[\"Canada\",\"United States\"],\"ids\":[\"Canada\",\"United States\"],\"legendgroup\":\"North America\",\"marker\":{\"color\":\"#EF553B\",\"symbol\":\"circle\"},\"mode\":\"markers\",\"name\":\"North America\",\"orientation\":\"v\",\"showlegend\":true,\"type\":\"scatter\",\"x\":[1.1948764048497065,1.3646441765207202],\"xaxis\":\"x2\",\"y\":[1.7971789805973046,1.5273304217827808],\"yaxis\":\"y2\"},{\"hovertemplate\":\"<b>%{hovertext}</b><br><br>region=Australia and New Zealand<br>year=2015<br>gdp_std=%{x}<br>score_std=%{y}<extra></extra>\",\"hovertext\":[\"New Zealand\",\"Australia\"],\"ids\":[\"New Zealand\",\"Australia\"],\"legendgroup\":\"Australia and New Zealand\",\"marker\":{\"color\":\"#00cc96\",\"symbol\":\"circle\"},\"mode\":\"markers\",\"name\":\"Australia and New Zealand\",\"orientation\":\"v\",\"showlegend\":true,\"type\":\"scatter\",\"x\":[1.0054741019783948,1.2130178158066356],\"xaxis\":\"x3\",\"y\":[1.673644413088058,1.671892149719133],\"yaxis\":\"y3\"},{\"hovertemplate\":\"<b>%{hovertext}</b><br><br>region=Middle East and Northern Africa<br>year=2015<br>gdp_std=%{x}<br>score_std=%{y}<extra></extra>\",\"hovertext\":[\"Israel\",\"United Arab Emirates\",\"Oman\",\"Qatar\",\"Saudi Arabia\",\"Kuwait\",\"Bahrain\",\"Libya\",\"Algeria\",\"Turkey\",\"Jordan\",\"Morocco\",\"Lebanon\",\"Tunisia\",\"Palestinian Territories\",\"Iran\",\"Iraq\",\"Egypt\",\"Yemen\",\"Syria\"],\"ids\":[\"Israel\",\"United Arab Emirates\",\"Oman\",\"Qatar\",\"Saudi Arabia\",\"Kuwait\",\"Bahrain\",\"Libya\",\"Algeria\",\"Turkey\",\"Jordan\",\"Morocco\",\"Lebanon\",\"Tunisia\",\"Palestinian Territories\",\"Iran\",\"Iraq\",\"Egypt\",\"Yemen\",\"Syria\"],\"legendgroup\":\"Middle East and Northern Africa\",\"marker\":{\"color\":\"#ab63fa\",\"symbol\":\"circle\"},\"mode\":\"markers\",\"name\":\"Middle East and Northern Africa\",\"orientation\":\"v\",\"showlegend\":true,\"type\":\"scatter\",\"x\":[0.9516968878797354,1.446168541808648,1.2790386159009186,2.101026195212742,1.3668838568857735,1.7620878999680618,1.188580414490169,0.710010491153132,0.23181384787693685,0.5346435185694858,0.13896665407679734,-0.277091301737873,0.4466987362350733,0.08708072561973718,-0.6158305142834372,0.4047918280711931,0.3467841066163218,0.0887480432248323,-0.7456822047817298,-0.4552454321091405],\"xaxis\":\"x4\",\"y\":[1.6666353596123562,1.3363337145699037,1.2942793937156922,1.0822555260757103,0.9070291891831616,0.8053979137854832,0.5118937994904653,0.3314106724911406,0.20086705150619308,-0.03831689835213389,-0.16097533417691876,-0.3178029056957494,-0.4702498187922658,-0.5578629872385402,-0.578890147665646,-0.6042979665150654,-0.6121831516752303,-1.0353547552707334,-1.137862162352874,-2.076199196412469],\"yaxis\":\"y4\"},{\"hovertemplate\":\"<b>%{hovertext}</b><br><br>region=Latin America and Caribbean<br>year=2015<br>gdp_std=%{x}<br>score_std=%{y}<extra></extra>\",\"hovertext\":[\"Costa Rica\",\"Mexico\",\"Brazil\",\"Venezuela\",\"Panama\",\"Chile\",\"Argentina\",\"Uruguay\",\"Colombia\",\"Suriname\",\"Trinidad and Tobago\",\"El Salvador\",\"Guatemala\",\"Ecuador\",\"Bolivia\",\"Paraguay\",\"Nicaragua\",\"Peru\",\"Jamaica\",\"Dominican Republic\",\"Honduras\",\"Haiti\"],\"ids\":[\"Costa Rica\",\"Mexico\",\"Brazil\",\"Venezuela\",\"Panama\",\"Chile\",\"Argentina\",\"Uruguay\",\"Colombia\",\"Suriname\",\"Trinidad and Tobago\",\"El Salvador\",\"Guatemala\",\"Ecuador\",\"Bolivia\",\"Paraguay\",\"Nicaragua\",\"Peru\",\"Jamaica\",\"Dominican Republic\",\"Honduras\",\"Haiti\"],\"legendgroup\":\"Latin America and Caribbean\",\"marker\":{\"color\":\"#FFA15A\",\"symbol\":\"circle\"},\"mode\":\"markers\",\"name\":\"Latin America and Caribbean\",\"orientation\":\"v\",\"showlegend\":true,\"type\":\"scatter\",\"x\":[0.27284976923218485,0.4340072141664397,0.33620783822579403,0.4929854637795009,0.5409892796038026,0.6495391212967023,0.516054171539546,0.5363357215119702,0.18035097015549809,0.37129616394495696,0.91003883308975,-0.20305742300417806,-0.2503644493815742,0.04450191334634198,-0.4101283154220183,-0.2147286462398428,-0.6293183671485337,0.13451217868408075,-0.08898303641081433,0.12251744606235315,-0.6241671023089123,-1.441874403589745],\"xaxis\":\"x5\",\"y\":[1.621076512020294,1.5869073763262476,1.408176512695848,1.256605731283794,1.2355785708566889,1.1339472954590106,1.0498386537505875,0.9718629338334042,0.9648538803577024,0.7826184899894522,0.6941291898587139,0.6608361858491311,0.6547032640578906,0.5250357747574061,0.4505645815780733,0.44005100136452,0.3962444171413824,0.39273989040353263,0.2919847466903173,-0.42994776130698026,-0.5149325346998657,-0.7514880895048058],\"yaxis\":\"y5\"},{\"hovertemplate\":\"<b>%{hovertext}</b><br><br>region=Southeastern Asia<br>year=2015<br>gdp_std=%{x}<br>score_std=%{y}<extra></extra>\",\"hovertext\":[\"Singapore\",\"Thailand\",\"Malaysia\",\"Indonesia\",\"Vietnam\",\"Philippines\",\"Laos\",\"Myanmar\",\"Cambodia\"],\"ids\":[\"Singapore\",\"Thailand\",\"Malaysia\",\"Indonesia\",\"Vietnam\",\"Philippines\",\"Laos\",\"Myanmar\",\"Cambodia\"],\"legendgroup\":\"Southeastern Asia\",\"marker\":{\"color\":\"#19d3f3\",\"symbol\":\"circle\"},\"mode\":\"markers\",\"name\":\"Southeastern Asia\",\"orientation\":\"v\",\"showlegend\":true,\"type\":\"scatter\",\"x\":[1.6815589481757132,0.3005222644092836,0.6936110538134663,-0.04446316782103935,-0.5324895193660778,-0.35042839102466244,-0.6357636695324084,-1.4310492818253224,-0.959969845042518],\"xaxis\":\"x6\",\"y\":[1.2460921510702407,0.9455789832995216,0.3454287794425444,0.020383924506868288,-0.01378521118717831,-0.2652350046279846,-0.4378329464671444,-0.9363518749264436,-1.3639041369442608],\"yaxis\":\"y6\"},{\"hovertemplate\":\"<b>%{hovertext}</b><br><br>region=Central and Eastern Europe<br>year=2015<br>gdp_std=%{x}<br>score_std=%{y}<extra></extra>\",\"hovertext\":[\"Czech Republic\",\"Uzbekistan\",\"Slovakia\",\"Moldova\",\"Kazakhstan\",\"Slovenia\",\"Lithuania\",\"Belarus\",\"Poland\",\"Croatia\",\"Russia\",\"Kosovo\",\"Turkmenistan\",\"Estonia\",\"Kyrgyzstan\",\"Azerbaijan\",\"Montenegro\",\"Romania\",\"Serbia\",\"Latvia\",\"Macedonia\",\"Albania\",\"Bosnia and Herzegovina\",\"Hungary\",\"Tajikistan\",\"Ukraine\",\"Armenia\",\"Georgia\",\"Bulgaria\"],\"ids\":[\"Czech Republic\",\"Uzbekistan\",\"Slovakia\",\"Moldova\",\"Kazakhstan\",\"Slovenia\",\"Lithuania\",\"Belarus\",\"Poland\",\"Croatia\",\"Russia\",\"Kosovo\",\"Turkmenistan\",\"Estonia\",\"Kyrgyzstan\",\"Azerbaijan\",\"Montenegro\",\"Romania\",\"Serbia\",\"Latvia\",\"Macedonia\",\"Albania\",\"Bosnia and Herzegovina\",\"Hungary\",\"Tajikistan\",\"Ukraine\",\"Armenia\",\"Georgia\",\"Bulgaria\"],\"legendgroup\":\"Central and Eastern Europe\",\"marker\":{\"color\":\"#FF6692\",\"symbol\":\"circle\"},\"mode\":\"markers\",\"name\":\"Central and Eastern Europe\",\"orientation\":\"v\",\"showlegend\":true,\"type\":\"scatter\",\"x\":[0.828290499765317,-0.5317927299191726,0.8032309650141134,-0.6262574706496282,0.6878376555391078,0.8432217021990034,0.7492795535537269,0.4623267281156652,0.6953281420933404,0.5882963059811988,0.7254145149972182,-0.11113098668744914,0.27954392498995445,0.7605028407163812,-0.9253792260711448,0.4423438021919144,0.3191364967766127,0.4910195221257321,0.18512895493427756,0.6643956677182203,0.18010211678160334,0.08095893262192601,-0.034608574214806724,0.6838560015567914,-1.1339432387323536,-0.1171283529983132,-0.19392450418223972,-0.2593978268539545,0.4131533014340576],\"xaxis\":\"x7\",\"y\":[0.9893855675226586,0.5495674619223625,0.5425584084466614,0.4496884498936095,0.4198999726218781,0.4137670508306384,0.400625075563696,0.3831024418744424,0.36382754481626267,0.33579133091345503,0.298117668481557,0.18684894455478926,0.15092754549181578,0.046667875040749145,-0.07861895583742093,-0.14345270048766276,-0.16097533417691876,-0.22055228872038551,-0.22142842040484934,-0.24333171251641655,-0.3230596958025261,-0.3651140166567377,-0.3738753335013649,-0.5044189544863131,-0.5166847980687909,-0.608678624937379,-0.8986782124945463,-0.9451131917710714,-1.0143275948436277],\"yaxis\":\"y7\"},{\"hovertemplate\":\"<b>%{hovertext}</b><br><br>region=Eastern Asia<br>year=2015<br>gdp_std=%{x}<br>score_std=%{y}<extra></extra>\",\"hovertext\":[\"Taiwan\",\"Japan\",\"South Korea\",\"Hong Kong\",\"China\",\"Mongolia\"],\"ids\":[\"Taiwan\",\"Japan\",\"South Korea\",\"Hong Kong\",\"China\",\"Mongolia\"],\"legendgroup\":\"Eastern Asia\",\"marker\":{\"color\":\"#B6E880\",\"symbol\":\"circle\"},\"mode\":\"markers\",\"name\":\"Eastern Asia\",\"orientation\":\"v\",\"showlegend\":true,\"type\":\"scatter\",\"x\":[1.1070062785274626,1.0566383556511605,0.9916129690524564,1.343566295751833,0.10945264393287736,-0.044662250520155364],\"xaxis\":\"x8\",\"y\":[0.8080263088388707,0.5355493549709595,0.5329209599175712,0.08609380084157395,-0.20653418176898167,-0.4395852098360705],\"yaxis\":\"y8\"},{\"hovertemplate\":\"<b>%{hovertext}</b><br><br>region=Sub-Saharan Africa<br>year=2015<br>gdp_std=%{x}<br>score_std=%{y}<extra></extra>\",\"hovertext\":[\"Mauritius\",\"Nigeria\",\"Zambia\",\"Somaliland region\",\"Mozambique\",\"Lesotho\",\"Swaziland\",\"South Africa\",\"Ghana\",\"Zimbabwe\",\"Liberia\",\"Sudan\",\"Congo (Kinshasa)\",\"Ethiopia\",\"Sierra Leone\",\"Mauritania\",\"Kenya\",\"Djibouti\",\"Botswana\",\"Malawi\",\"Cameroon\",\"Angola\",\"Mali\",\"Congo (Brazzaville)\",\"Comoros\",\"Uganda\",\"Senegal\",\"Gabon\",\"Niger\",\"Tanzania\",\"Madagascar\",\"Central African Republic\",\"Chad\",\"Guinea\",\"Ivory Coast\",\"Burkina Faso\",\"Rwanda\",\"Benin\",\"Burundi\",\"Togo\"],\"ids\":[\"Mauritius\",\"Nigeria\",\"Zambia\",\"Somaliland region\",\"Mozambique\",\"Lesotho\",\"Swaziland\",\"South Africa\",\"Ghana\",\"Zimbabwe\",\"Liberia\",\"Sudan\",\"Congo (Kinshasa)\",\"Ethiopia\",\"Sierra Leone\",\"Mauritania\",\"Kenya\",\"Djibouti\",\"Botswana\",\"Malawi\",\"Cameroon\",\"Angola\",\"Mali\",\"Congo (Brazzaville)\",\"Comoros\",\"Uganda\",\"Senegal\",\"Gabon\",\"Niger\",\"Tanzania\",\"Madagascar\",\"Central African Republic\",\"Chad\",\"Guinea\",\"Ivory Coast\",\"Burkina Faso\",\"Rwanda\",\"Benin\",\"Burundi\",\"Togo\"],\"legendgroup\":\"Sub-Saharan Africa\",\"marker\":{\"color\":\"#FF97FF\",\"symbol\":\"circle\"},\"mode\":\"markers\",\"name\":\"Sub-Saharan Africa\",\"orientation\":\"v\",\"showlegend\":true,\"type\":\"scatter\",\"x\":[0.4018304729218453,-0.4772689556988279,-0.9350845076530409,-1.6366270539997938,-1.8988936247474948,-1.1713210154913485,-0.3336556736241546,0.1850294135847198,-0.7479467704841718,-1.4312483645244385,-1.9284574055661936,-0.8089407324257807,-2.105641007779272,-1.6310029677497724,-1.2838276258291752,-0.9756724929352784,-1.1980478678476472,-1.0100640292075358,0.36684168855224064,-2.0657249266065505,-1.054235503073858,-0.21987991107946464,-1.456780720686042,-0.4167727005050086,-1.5107321321464289,-1.5805106181865234,-1.1973759637381312,0.5328020036026645,-1.9329367662963,-1.3959111854313806,-1.5874287419807978,-1.9102911092718755,-1.2547366664208763,-1.6722130864667466,-0.9476267176973376,-1.4633006790820848,-1.552987435033761,-1.3923028115099063,-2.067566441573372,-1.5863337871356606],\"xaxis\":\"x9\",\"y\":[0.08872219589496226,-0.09438932615775084,-0.2161716302980719,-0.2792531115793885,-0.35460043644318434,-0.4185580494089648,-0.4457181316273094,-0.6428477606314256,-0.6507329457915906,-0.6708839745342333,-0.7050531102282791,-0.7234518756019981,-0.7523642211892679,-0.7567448796115824,-0.7611255380338959,-0.8233308876307504,-0.8382251262666173,-0.882031710489754,-0.9144485828148754,-0.9494938501933852,-0.9845391175718948,-1.176411956469234,-1.2097049604788186,-1.2149617505855952,-1.2438740961728656,-1.265777388284434,-1.289432943764928,-1.29644199724063,-1.3411247131482296,-1.3971971409538448,-1.4848103094001193,-1.4874387044535071,-1.4970761529825976,-1.506713601511687,-1.5075897331961503,-1.5671666877396164,-1.674054753244071,-1.7835712138019135,-2.164688496543205,-2.2225131877177464],\"yaxis\":\"y9\"},{\"hovertemplate\":\"<b>%{hovertext}</b><br><br>region=Southern Asia<br>year=2015<br>gdp_std=%{x}<br>score_std=%{y}<extra></extra>\",\"hovertext\":[\"Bhutan\",\"Pakistan\",\"Bangladesh\",\"India\",\"Nepal\",\"Sri Lanka\",\"Afghanistan\"],\"ids\":[\"Bhutan\",\"Pakistan\",\"Bangladesh\",\"India\",\"Nepal\",\"Sri Lanka\",\"Afghanistan\"],\"legendgroup\":\"Southern Asia\",\"marker\":{\"color\":\"#FECB52\",\"symbol\":\"circle\"},\"mode\":\"markers\",\"name\":\"Southern Asia\",\"orientation\":\"v\",\"showlegend\":true,\"type\":\"scatter\",\"x\":[-0.18842484461916545,-0.6238933635976278,-1.1163741905353828,-0.5005616314953787,-1.2098435177702591,-0.0271180876605739,-1.3097581473890103],\"xaxis\":\"x10\",\"y\":[-0.10753130142469244,-0.15922307080799347,-0.5972889130393635,-0.7103099003350565,-0.7549926162426579,-0.9678926155671024,-1.5776802679531692],\"yaxis\":\"y10\"}],                        {\"annotations\":[{\"font\":{},\"showarrow\":false,\"text\":\"region=Western Europe\",\"x\":0.021875,\"xanchor\":\"center\",\"xref\":\"paper\",\"y\":1.0,\"yanchor\":\"bottom\",\"yref\":\"paper\"},{\"font\":{},\"showarrow\":false,\"text\":\"region=North America\",\"x\":0.085625,\"xanchor\":\"center\",\"xref\":\"paper\",\"y\":1.0,\"yanchor\":\"bottom\",\"yref\":\"paper\"},{\"font\":{},\"showarrow\":false,\"text\":\"region=Australia and New Zealand\",\"x\":0.149375,\"xanchor\":\"center\",\"xref\":\"paper\",\"y\":1.0,\"yanchor\":\"bottom\",\"yref\":\"paper\"},{\"font\":{},\"showarrow\":false,\"text\":\"region=Middle East and Northern Africa\",\"x\":0.21312499999999998,\"xanchor\":\"center\",\"xref\":\"paper\",\"y\":1.0,\"yanchor\":\"bottom\",\"yref\":\"paper\"},{\"font\":{},\"showarrow\":false,\"text\":\"region=Latin America and Caribbean\",\"x\":0.276875,\"xanchor\":\"center\",\"xref\":\"paper\",\"y\":1.0,\"yanchor\":\"bottom\",\"yref\":\"paper\"},{\"font\":{},\"showarrow\":false,\"text\":\"region=Southeastern Asia\",\"x\":0.34062499999999996,\"xanchor\":\"center\",\"xref\":\"paper\",\"y\":1.0,\"yanchor\":\"bottom\",\"yref\":\"paper\"},{\"font\":{},\"showarrow\":false,\"text\":\"region=Central and Eastern Europe\",\"x\":0.40437500000000004,\"xanchor\":\"center\",\"xref\":\"paper\",\"y\":1.0,\"yanchor\":\"bottom\",\"yref\":\"paper\"},{\"font\":{},\"showarrow\":false,\"text\":\"region=Eastern Asia\",\"x\":0.468125,\"xanchor\":\"center\",\"xref\":\"paper\",\"y\":1.0,\"yanchor\":\"bottom\",\"yref\":\"paper\"},{\"font\":{},\"showarrow\":false,\"text\":\"region=Sub-Saharan Africa\",\"x\":0.531875,\"xanchor\":\"center\",\"xref\":\"paper\",\"y\":1.0,\"yanchor\":\"bottom\",\"yref\":\"paper\"},{\"font\":{},\"showarrow\":false,\"text\":\"region=Southern Asia\",\"x\":0.595625,\"xanchor\":\"center\",\"xref\":\"paper\",\"y\":1.0,\"yanchor\":\"bottom\",\"yref\":\"paper\"},{\"font\":{},\"showarrow\":false,\"text\":\"region=North America and ANZ\",\"x\":0.659375,\"xanchor\":\"center\",\"xref\":\"paper\",\"y\":1.0,\"yanchor\":\"bottom\",\"yref\":\"paper\"},{\"font\":{},\"showarrow\":false,\"text\":\"region=Middle East and North Africa\",\"x\":0.723125,\"xanchor\":\"center\",\"xref\":\"paper\",\"y\":1.0,\"yanchor\":\"bottom\",\"yref\":\"paper\"},{\"font\":{},\"showarrow\":false,\"text\":\"region=East Asia\",\"x\":0.786875,\"xanchor\":\"center\",\"xref\":\"paper\",\"y\":1.0,\"yanchor\":\"bottom\",\"yref\":\"paper\"},{\"font\":{},\"showarrow\":false,\"text\":\"region=Southeast Asia\",\"x\":0.850625,\"xanchor\":\"center\",\"xref\":\"paper\",\"y\":1.0,\"yanchor\":\"bottom\",\"yref\":\"paper\"},{\"font\":{},\"showarrow\":false,\"text\":\"region=Commonwealth of Independent States\",\"x\":0.9143749999999999,\"xanchor\":\"center\",\"xref\":\"paper\",\"y\":1.0,\"yanchor\":\"bottom\",\"yref\":\"paper\"},{\"font\":{},\"showarrow\":false,\"text\":\"region=South Asia\",\"x\":0.9781249999999998,\"xanchor\":\"center\",\"xref\":\"paper\",\"y\":1.0,\"yanchor\":\"bottom\",\"yref\":\"paper\"}],\"legend\":{\"title\":{\"text\":\"region\"},\"tracegroupgap\":0},\"margin\":{\"t\":60},\"sliders\":[{\"active\":0,\"currentvalue\":{\"prefix\":\"year=\"},\"len\":0.9,\"pad\":{\"b\":10,\"t\":60},\"steps\":[{\"args\":[[\"2015\"],{\"frame\":{\"duration\":0,\"redraw\":false},\"fromcurrent\":true,\"mode\":\"immediate\",\"transition\":{\"duration\":0,\"easing\":\"linear\"}}],\"label\":\"2015\",\"method\":\"animate\"},{\"args\":[[\"2016\"],{\"frame\":{\"duration\":0,\"redraw\":false},\"fromcurrent\":true,\"mode\":\"immediate\",\"transition\":{\"duration\":0,\"easing\":\"linear\"}}],\"label\":\"2016\",\"method\":\"animate\"},{\"args\":[[\"2017\"],{\"frame\":{\"duration\":0,\"redraw\":false},\"fromcurrent\":true,\"mode\":\"immediate\",\"transition\":{\"duration\":0,\"easing\":\"linear\"}}],\"label\":\"2017\",\"method\":\"animate\"},{\"args\":[[\"2018\"],{\"frame\":{\"duration\":0,\"redraw\":false},\"fromcurrent\":true,\"mode\":\"immediate\",\"transition\":{\"duration\":0,\"easing\":\"linear\"}}],\"label\":\"2018\",\"method\":\"animate\"},{\"args\":[[\"2019\"],{\"frame\":{\"duration\":0,\"redraw\":false},\"fromcurrent\":true,\"mode\":\"immediate\",\"transition\":{\"duration\":0,\"easing\":\"linear\"}}],\"label\":\"2019\",\"method\":\"animate\"},{\"args\":[[\"2020\"],{\"frame\":{\"duration\":0,\"redraw\":false},\"fromcurrent\":true,\"mode\":\"immediate\",\"transition\":{\"duration\":0,\"easing\":\"linear\"}}],\"label\":\"2020\",\"method\":\"animate\"},{\"args\":[[\"2021\"],{\"frame\":{\"duration\":0,\"redraw\":false},\"fromcurrent\":true,\"mode\":\"immediate\",\"transition\":{\"duration\":0,\"easing\":\"linear\"}}],\"label\":\"2021\",\"method\":\"animate\"}],\"x\":0.1,\"xanchor\":\"left\",\"y\":0,\"yanchor\":\"top\"}],\"template\":{\"data\":{\"bar\":[{\"error_x\":{\"color\":\"#2a3f5f\"},\"error_y\":{\"color\":\"#2a3f5f\"},\"marker\":{\"line\":{\"color\":\"#E5ECF6\",\"width\":0.5},\"pattern\":{\"fillmode\":\"overlay\",\"size\":10,\"solidity\":0.2}},\"type\":\"bar\"}],\"barpolar\":[{\"marker\":{\"line\":{\"color\":\"#E5ECF6\",\"width\":0.5},\"pattern\":{\"fillmode\":\"overlay\",\"size\":10,\"solidity\":0.2}},\"type\":\"barpolar\"}],\"carpet\":[{\"aaxis\":{\"endlinecolor\":\"#2a3f5f\",\"gridcolor\":\"white\",\"linecolor\":\"white\",\"minorgridcolor\":\"white\",\"startlinecolor\":\"#2a3f5f\"},\"baxis\":{\"endlinecolor\":\"#2a3f5f\",\"gridcolor\":\"white\",\"linecolor\":\"white\",\"minorgridcolor\":\"white\",\"startlinecolor\":\"#2a3f5f\"},\"type\":\"carpet\"}],\"choropleth\":[{\"colorbar\":{\"outlinewidth\":0,\"ticks\":\"\"},\"type\":\"choropleth\"}],\"contour\":[{\"colorbar\":{\"outlinewidth\":0,\"ticks\":\"\"},\"colorscale\":[[0.0,\"#0d0887\"],[0.1111111111111111,\"#46039f\"],[0.2222222222222222,\"#7201a8\"],[0.3333333333333333,\"#9c179e\"],[0.4444444444444444,\"#bd3786\"],[0.5555555555555556,\"#d8576b\"],[0.6666666666666666,\"#ed7953\"],[0.7777777777777778,\"#fb9f3a\"],[0.8888888888888888,\"#fdca26\"],[1.0,\"#f0f921\"]],\"type\":\"contour\"}],\"contourcarpet\":[{\"colorbar\":{\"outlinewidth\":0,\"ticks\":\"\"},\"type\":\"contourcarpet\"}],\"heatmap\":[{\"colorbar\":{\"outlinewidth\":0,\"ticks\":\"\"},\"colorscale\":[[0.0,\"#0d0887\"],[0.1111111111111111,\"#46039f\"],[0.2222222222222222,\"#7201a8\"],[0.3333333333333333,\"#9c179e\"],[0.4444444444444444,\"#bd3786\"],[0.5555555555555556,\"#d8576b\"],[0.6666666666666666,\"#ed7953\"],[0.7777777777777778,\"#fb9f3a\"],[0.8888888888888888,\"#fdca26\"],[1.0,\"#f0f921\"]],\"type\":\"heatmap\"}],\"heatmapgl\":[{\"colorbar\":{\"outlinewidth\":0,\"ticks\":\"\"},\"colorscale\":[[0.0,\"#0d0887\"],[0.1111111111111111,\"#46039f\"],[0.2222222222222222,\"#7201a8\"],[0.3333333333333333,\"#9c179e\"],[0.4444444444444444,\"#bd3786\"],[0.5555555555555556,\"#d8576b\"],[0.6666666666666666,\"#ed7953\"],[0.7777777777777778,\"#fb9f3a\"],[0.8888888888888888,\"#fdca26\"],[1.0,\"#f0f921\"]],\"type\":\"heatmapgl\"}],\"histogram\":[{\"marker\":{\"pattern\":{\"fillmode\":\"overlay\",\"size\":10,\"solidity\":0.2}},\"type\":\"histogram\"}],\"histogram2d\":[{\"colorbar\":{\"outlinewidth\":0,\"ticks\":\"\"},\"colorscale\":[[0.0,\"#0d0887\"],[0.1111111111111111,\"#46039f\"],[0.2222222222222222,\"#7201a8\"],[0.3333333333333333,\"#9c179e\"],[0.4444444444444444,\"#bd3786\"],[0.5555555555555556,\"#d8576b\"],[0.6666666666666666,\"#ed7953\"],[0.7777777777777778,\"#fb9f3a\"],[0.8888888888888888,\"#fdca26\"],[1.0,\"#f0f921\"]],\"type\":\"histogram2d\"}],\"histogram2dcontour\":[{\"colorbar\":{\"outlinewidth\":0,\"ticks\":\"\"},\"colorscale\":[[0.0,\"#0d0887\"],[0.1111111111111111,\"#46039f\"],[0.2222222222222222,\"#7201a8\"],[0.3333333333333333,\"#9c179e\"],[0.4444444444444444,\"#bd3786\"],[0.5555555555555556,\"#d8576b\"],[0.6666666666666666,\"#ed7953\"],[0.7777777777777778,\"#fb9f3a\"],[0.8888888888888888,\"#fdca26\"],[1.0,\"#f0f921\"]],\"type\":\"histogram2dcontour\"}],\"mesh3d\":[{\"colorbar\":{\"outlinewidth\":0,\"ticks\":\"\"},\"type\":\"mesh3d\"}],\"parcoords\":[{\"line\":{\"colorbar\":{\"outlinewidth\":0,\"ticks\":\"\"}},\"type\":\"parcoords\"}],\"pie\":[{\"automargin\":true,\"type\":\"pie\"}],\"scatter\":[{\"marker\":{\"colorbar\":{\"outlinewidth\":0,\"ticks\":\"\"}},\"type\":\"scatter\"}],\"scatter3d\":[{\"line\":{\"colorbar\":{\"outlinewidth\":0,\"ticks\":\"\"}},\"marker\":{\"colorbar\":{\"outlinewidth\":0,\"ticks\":\"\"}},\"type\":\"scatter3d\"}],\"scattercarpet\":[{\"marker\":{\"colorbar\":{\"outlinewidth\":0,\"ticks\":\"\"}},\"type\":\"scattercarpet\"}],\"scattergeo\":[{\"marker\":{\"colorbar\":{\"outlinewidth\":0,\"ticks\":\"\"}},\"type\":\"scattergeo\"}],\"scattergl\":[{\"marker\":{\"colorbar\":{\"outlinewidth\":0,\"ticks\":\"\"}},\"type\":\"scattergl\"}],\"scattermapbox\":[{\"marker\":{\"colorbar\":{\"outlinewidth\":0,\"ticks\":\"\"}},\"type\":\"scattermapbox\"}],\"scatterpolar\":[{\"marker\":{\"colorbar\":{\"outlinewidth\":0,\"ticks\":\"\"}},\"type\":\"scatterpolar\"}],\"scatterpolargl\":[{\"marker\":{\"colorbar\":{\"outlinewidth\":0,\"ticks\":\"\"}},\"type\":\"scatterpolargl\"}],\"scatterternary\":[{\"marker\":{\"colorbar\":{\"outlinewidth\":0,\"ticks\":\"\"}},\"type\":\"scatterternary\"}],\"surface\":[{\"colorbar\":{\"outlinewidth\":0,\"ticks\":\"\"},\"colorscale\":[[0.0,\"#0d0887\"],[0.1111111111111111,\"#46039f\"],[0.2222222222222222,\"#7201a8\"],[0.3333333333333333,\"#9c179e\"],[0.4444444444444444,\"#bd3786\"],[0.5555555555555556,\"#d8576b\"],[0.6666666666666666,\"#ed7953\"],[0.7777777777777778,\"#fb9f3a\"],[0.8888888888888888,\"#fdca26\"],[1.0,\"#f0f921\"]],\"type\":\"surface\"}],\"table\":[{\"cells\":{\"fill\":{\"color\":\"#EBF0F8\"},\"line\":{\"color\":\"white\"}},\"header\":{\"fill\":{\"color\":\"#C8D4E3\"},\"line\":{\"color\":\"white\"}},\"type\":\"table\"}]},\"layout\":{\"annotationdefaults\":{\"arrowcolor\":\"#2a3f5f\",\"arrowhead\":0,\"arrowwidth\":1},\"autotypenumbers\":\"strict\",\"coloraxis\":{\"colorbar\":{\"outlinewidth\":0,\"ticks\":\"\"}},\"colorscale\":{\"diverging\":[[0,\"#8e0152\"],[0.1,\"#c51b7d\"],[0.2,\"#de77ae\"],[0.3,\"#f1b6da\"],[0.4,\"#fde0ef\"],[0.5,\"#f7f7f7\"],[0.6,\"#e6f5d0\"],[0.7,\"#b8e186\"],[0.8,\"#7fbc41\"],[0.9,\"#4d9221\"],[1,\"#276419\"]],\"sequential\":[[0.0,\"#0d0887\"],[0.1111111111111111,\"#46039f\"],[0.2222222222222222,\"#7201a8\"],[0.3333333333333333,\"#9c179e\"],[0.4444444444444444,\"#bd3786\"],[0.5555555555555556,\"#d8576b\"],[0.6666666666666666,\"#ed7953\"],[0.7777777777777778,\"#fb9f3a\"],[0.8888888888888888,\"#fdca26\"],[1.0,\"#f0f921\"]],\"sequentialminus\":[[0.0,\"#0d0887\"],[0.1111111111111111,\"#46039f\"],[0.2222222222222222,\"#7201a8\"],[0.3333333333333333,\"#9c179e\"],[0.4444444444444444,\"#bd3786\"],[0.5555555555555556,\"#d8576b\"],[0.6666666666666666,\"#ed7953\"],[0.7777777777777778,\"#fb9f3a\"],[0.8888888888888888,\"#fdca26\"],[1.0,\"#f0f921\"]]},\"colorway\":[\"#636efa\",\"#EF553B\",\"#00cc96\",\"#ab63fa\",\"#FFA15A\",\"#19d3f3\",\"#FF6692\",\"#B6E880\",\"#FF97FF\",\"#FECB52\"],\"font\":{\"color\":\"#2a3f5f\"},\"geo\":{\"bgcolor\":\"white\",\"lakecolor\":\"white\",\"landcolor\":\"#E5ECF6\",\"showlakes\":true,\"showland\":true,\"subunitcolor\":\"white\"},\"hoverlabel\":{\"align\":\"left\"},\"hovermode\":\"closest\",\"mapbox\":{\"style\":\"light\"},\"paper_bgcolor\":\"white\",\"plot_bgcolor\":\"#E5ECF6\",\"polar\":{\"angularaxis\":{\"gridcolor\":\"white\",\"linecolor\":\"white\",\"ticks\":\"\"},\"bgcolor\":\"#E5ECF6\",\"radialaxis\":{\"gridcolor\":\"white\",\"linecolor\":\"white\",\"ticks\":\"\"}},\"scene\":{\"xaxis\":{\"backgroundcolor\":\"#E5ECF6\",\"gridcolor\":\"white\",\"gridwidth\":2,\"linecolor\":\"white\",\"showbackground\":true,\"ticks\":\"\",\"zerolinecolor\":\"white\"},\"yaxis\":{\"backgroundcolor\":\"#E5ECF6\",\"gridcolor\":\"white\",\"gridwidth\":2,\"linecolor\":\"white\",\"showbackground\":true,\"ticks\":\"\",\"zerolinecolor\":\"white\"},\"zaxis\":{\"backgroundcolor\":\"#E5ECF6\",\"gridcolor\":\"white\",\"gridwidth\":2,\"linecolor\":\"white\",\"showbackground\":true,\"ticks\":\"\",\"zerolinecolor\":\"white\"}},\"shapedefaults\":{\"line\":{\"color\":\"#2a3f5f\"}},\"ternary\":{\"aaxis\":{\"gridcolor\":\"white\",\"linecolor\":\"white\",\"ticks\":\"\"},\"baxis\":{\"gridcolor\":\"white\",\"linecolor\":\"white\",\"ticks\":\"\"},\"bgcolor\":\"#E5ECF6\",\"caxis\":{\"gridcolor\":\"white\",\"linecolor\":\"white\",\"ticks\":\"\"}},\"title\":{\"x\":0.05},\"xaxis\":{\"automargin\":true,\"gridcolor\":\"white\",\"linecolor\":\"white\",\"ticks\":\"\",\"title\":{\"standoff\":15},\"zerolinecolor\":\"white\",\"zerolinewidth\":2},\"yaxis\":{\"automargin\":true,\"gridcolor\":\"white\",\"linecolor\":\"white\",\"ticks\":\"\",\"title\":{\"standoff\":15},\"zerolinecolor\":\"white\",\"zerolinewidth\":2}}},\"updatemenus\":[{\"buttons\":[{\"args\":[null,{\"frame\":{\"duration\":500,\"redraw\":false},\"fromcurrent\":true,\"mode\":\"immediate\",\"transition\":{\"duration\":500,\"easing\":\"linear\"}}],\"label\":\"&#9654;\",\"method\":\"animate\"},{\"args\":[[null],{\"frame\":{\"duration\":0,\"redraw\":false},\"fromcurrent\":true,\"mode\":\"immediate\",\"transition\":{\"duration\":0,\"easing\":\"linear\"}}],\"label\":\"&#9724;\",\"method\":\"animate\"}],\"direction\":\"left\",\"pad\":{\"r\":10,\"t\":70},\"showactive\":false,\"type\":\"buttons\",\"x\":0.1,\"xanchor\":\"right\",\"y\":0,\"yanchor\":\"top\"}],\"xaxis\":{\"anchor\":\"y\",\"domain\":[0.0,0.04375],\"range\":[-10,10],\"title\":{\"text\":\"gdp_std\"}},\"xaxis10\":{\"anchor\":\"y10\",\"domain\":[0.57375,0.6174999999999999],\"matches\":\"x\",\"range\":[-10,10],\"title\":{\"text\":\"gdp_std\"}},\"xaxis11\":{\"anchor\":\"y11\",\"domain\":[0.6375000000000001,0.68125],\"matches\":\"x\",\"range\":[-10,10],\"title\":{\"text\":\"gdp_std\"}},\"xaxis12\":{\"anchor\":\"y12\",\"domain\":[0.70125,0.745],\"matches\":\"x\",\"range\":[-10,10],\"title\":{\"text\":\"gdp_std\"}},\"xaxis13\":{\"anchor\":\"y13\",\"domain\":[0.765,0.80875],\"matches\":\"x\",\"range\":[-10,10],\"title\":{\"text\":\"gdp_std\"}},\"xaxis14\":{\"anchor\":\"y14\",\"domain\":[0.82875,0.8724999999999999],\"matches\":\"x\",\"range\":[-10,10],\"title\":{\"text\":\"gdp_std\"}},\"xaxis15\":{\"anchor\":\"y15\",\"domain\":[0.8925,0.9362499999999999],\"matches\":\"x\",\"range\":[-10,10],\"title\":{\"text\":\"gdp_std\"}},\"xaxis16\":{\"anchor\":\"y16\",\"domain\":[0.9562499999999998,0.9999999999999998],\"matches\":\"x\",\"range\":[-10,10],\"title\":{\"text\":\"gdp_std\"}},\"xaxis2\":{\"anchor\":\"y2\",\"domain\":[0.06375,0.1075],\"matches\":\"x\",\"range\":[-10,10],\"title\":{\"text\":\"gdp_std\"}},\"xaxis3\":{\"anchor\":\"y3\",\"domain\":[0.1275,0.17125],\"matches\":\"x\",\"range\":[-10,10],\"title\":{\"text\":\"gdp_std\"}},\"xaxis4\":{\"anchor\":\"y4\",\"domain\":[0.19124999999999998,0.235],\"matches\":\"x\",\"range\":[-10,10],\"title\":{\"text\":\"gdp_std\"}},\"xaxis5\":{\"anchor\":\"y5\",\"domain\":[0.255,0.29875],\"matches\":\"x\",\"range\":[-10,10],\"title\":{\"text\":\"gdp_std\"}},\"xaxis6\":{\"anchor\":\"y6\",\"domain\":[0.31875,0.3625],\"matches\":\"x\",\"range\":[-10,10],\"title\":{\"text\":\"gdp_std\"}},\"xaxis7\":{\"anchor\":\"y7\",\"domain\":[0.3825,0.42625],\"matches\":\"x\",\"range\":[-10,10],\"title\":{\"text\":\"gdp_std\"}},\"xaxis8\":{\"anchor\":\"y8\",\"domain\":[0.44625000000000004,0.49000000000000005],\"matches\":\"x\",\"range\":[-10,10],\"title\":{\"text\":\"gdp_std\"}},\"xaxis9\":{\"anchor\":\"y9\",\"domain\":[0.51,0.55375],\"matches\":\"x\",\"range\":[-10,10],\"title\":{\"text\":\"gdp_std\"}},\"yaxis\":{\"anchor\":\"x\",\"domain\":[0.0,1.0],\"range\":[-10,10],\"title\":{\"text\":\"score_std\"}},\"yaxis10\":{\"anchor\":\"x10\",\"domain\":[0.0,1.0],\"matches\":\"y\",\"showticklabels\":false},\"yaxis11\":{\"anchor\":\"x11\",\"domain\":[0.0,1.0],\"matches\":\"y\",\"showticklabels\":false},\"yaxis12\":{\"anchor\":\"x12\",\"domain\":[0.0,1.0],\"matches\":\"y\",\"showticklabels\":false},\"yaxis13\":{\"anchor\":\"x13\",\"domain\":[0.0,1.0],\"matches\":\"y\",\"showticklabels\":false},\"yaxis14\":{\"anchor\":\"x14\",\"domain\":[0.0,1.0],\"matches\":\"y\",\"showticklabels\":false},\"yaxis15\":{\"anchor\":\"x15\",\"domain\":[0.0,1.0],\"matches\":\"y\",\"showticklabels\":false},\"yaxis16\":{\"anchor\":\"x16\",\"domain\":[0.0,1.0],\"matches\":\"y\",\"showticklabels\":false},\"yaxis2\":{\"anchor\":\"x2\",\"domain\":[0.0,1.0],\"matches\":\"y\",\"showticklabels\":false},\"yaxis3\":{\"anchor\":\"x3\",\"domain\":[0.0,1.0],\"matches\":\"y\",\"showticklabels\":false},\"yaxis4\":{\"anchor\":\"x4\",\"domain\":[0.0,1.0],\"matches\":\"y\",\"showticklabels\":false},\"yaxis5\":{\"anchor\":\"x5\",\"domain\":[0.0,1.0],\"matches\":\"y\",\"showticklabels\":false},\"yaxis6\":{\"anchor\":\"x6\",\"domain\":[0.0,1.0],\"matches\":\"y\",\"showticklabels\":false},\"yaxis7\":{\"anchor\":\"x7\",\"domain\":[0.0,1.0],\"matches\":\"y\",\"showticklabels\":false},\"yaxis8\":{\"anchor\":\"x8\",\"domain\":[0.0,1.0],\"matches\":\"y\",\"showticklabels\":false},\"yaxis9\":{\"anchor\":\"x9\",\"domain\":[0.0,1.0],\"matches\":\"y\",\"showticklabels\":false}},                        {\"responsive\": true}                    ).then(function(){\n",
       "                            Plotly.addFrames('842e1265-81c2-421a-9cf4-582b8f3b5b64', [{\"data\":[{\"hovertemplate\":\"<b>%{hovertext}</b><br><br>region=Western Europe<br>year=2015<br>gdp_std=%{x}<br>score_std=%{y}<extra></extra>\",\"hovertext\":[\"Switzerland\",\"Iceland\",\"Denmark\",\"Norway\",\"Finland\",\"Netherlands\",\"Sweden\",\"Austria\",\"Luxembourg\",\"Ireland\",\"Belgium\",\"United Kingdom\",\"Germany\",\"France\",\"Spain\",\"Malta\",\"Italy\",\"North Cyprus\",\"Cyprus\",\"Portugal\",\"Greece\"],\"ids\":[\"Switzerland\",\"Iceland\",\"Denmark\",\"Norway\",\"Finland\",\"Netherlands\",\"Sweden\",\"Austria\",\"Luxembourg\",\"Ireland\",\"Belgium\",\"United Kingdom\",\"Germany\",\"France\",\"Spain\",\"Malta\",\"Italy\",\"North Cyprus\",\"Cyprus\",\"Portugal\",\"Greece\"],\"legendgroup\":\"Western Europe\",\"marker\":{\"color\":\"#636efa\",\"symbol\":\"circle\"},\"mode\":\"markers\",\"name\":\"Western Europe\",\"orientation\":\"v\",\"showlegend\":true,\"type\":\"scatter\",\"x\":[1.3696212439986155,1.1352262511271294,1.1928606925211591,1.5251297173454594,1.1051896488980304,1.202715286127392,1.2083642577148033,1.2221009639537943,1.7862017918984652,1.2189405261053312,1.148913186691342,1.0457634632119592,1.1989327148441915,1.0741576331733522,0.9555292298377144,0.8990146286262116,1.0078630943677849,0.9006570608939168,0.9008312582556433,0.7808341613635841,0.7662762389907402],\"xaxis\":\"x\",\"y\":[1.9373600501113448,1.9145806263153118,1.884792149043579,1.8804114906212652,1.7787802152235888,1.75424852805863,1.741982684476152,1.598297088224263,1.3757596403707284,1.370502850263951,1.3678744552105626,1.3065452372981714,1.20403783021603,1.0507147854350507,0.8351863910572163,0.8115308355767229,0.5013802192769129,0.27971890310783953,0.2744621130010629,-0.23982718577856524,-0.4544794484719366],\"yaxis\":\"y\"},{\"hovertemplate\":\"<b>%{hovertext}</b><br><br>region=North America<br>year=2015<br>gdp_std=%{x}<br>score_std=%{y}<extra></extra>\",\"hovertext\":[\"Canada\",\"United States\"],\"ids\":[\"Canada\",\"United States\"],\"legendgroup\":\"North America\",\"marker\":{\"color\":\"#EF553B\",\"symbol\":\"circle\"},\"mode\":\"markers\",\"name\":\"North America\",\"orientation\":\"v\",\"showlegend\":true,\"type\":\"scatter\",\"x\":[1.1948764048497065,1.3646441765207202],\"xaxis\":\"x2\",\"y\":[1.7971789805973046,1.5273304217827808],\"yaxis\":\"y2\"},{\"hovertemplate\":\"<b>%{hovertext}</b><br><br>region=Australia and New Zealand<br>year=2015<br>gdp_std=%{x}<br>score_std=%{y}<extra></extra>\",\"hovertext\":[\"New Zealand\",\"Australia\"],\"ids\":[\"New Zealand\",\"Australia\"],\"legendgroup\":\"Australia and New Zealand\",\"marker\":{\"color\":\"#00cc96\",\"symbol\":\"circle\"},\"mode\":\"markers\",\"name\":\"Australia and New Zealand\",\"orientation\":\"v\",\"showlegend\":true,\"type\":\"scatter\",\"x\":[1.0054741019783948,1.2130178158066356],\"xaxis\":\"x3\",\"y\":[1.673644413088058,1.671892149719133],\"yaxis\":\"y3\"},{\"hovertemplate\":\"<b>%{hovertext}</b><br><br>region=Middle East and Northern Africa<br>year=2015<br>gdp_std=%{x}<br>score_std=%{y}<extra></extra>\",\"hovertext\":[\"Israel\",\"United Arab Emirates\",\"Oman\",\"Qatar\",\"Saudi Arabia\",\"Kuwait\",\"Bahrain\",\"Libya\",\"Algeria\",\"Turkey\",\"Jordan\",\"Morocco\",\"Lebanon\",\"Tunisia\",\"Palestinian Territories\",\"Iran\",\"Iraq\",\"Egypt\",\"Yemen\",\"Syria\"],\"ids\":[\"Israel\",\"United Arab Emirates\",\"Oman\",\"Qatar\",\"Saudi Arabia\",\"Kuwait\",\"Bahrain\",\"Libya\",\"Algeria\",\"Turkey\",\"Jordan\",\"Morocco\",\"Lebanon\",\"Tunisia\",\"Palestinian Territories\",\"Iran\",\"Iraq\",\"Egypt\",\"Yemen\",\"Syria\"],\"legendgroup\":\"Middle East and Northern Africa\",\"marker\":{\"color\":\"#ab63fa\",\"symbol\":\"circle\"},\"mode\":\"markers\",\"name\":\"Middle East and Northern Africa\",\"orientation\":\"v\",\"showlegend\":true,\"type\":\"scatter\",\"x\":[0.9516968878797354,1.446168541808648,1.2790386159009186,2.101026195212742,1.3668838568857735,1.7620878999680618,1.188580414490169,0.710010491153132,0.23181384787693685,0.5346435185694858,0.13896665407679734,-0.277091301737873,0.4466987362350733,0.08708072561973718,-0.6158305142834372,0.4047918280711931,0.3467841066163218,0.0887480432248323,-0.7456822047817298,-0.4552454321091405],\"xaxis\":\"x4\",\"y\":[1.6666353596123562,1.3363337145699037,1.2942793937156922,1.0822555260757103,0.9070291891831616,0.8053979137854832,0.5118937994904653,0.3314106724911406,0.20086705150619308,-0.03831689835213389,-0.16097533417691876,-0.3178029056957494,-0.4702498187922658,-0.5578629872385402,-0.578890147665646,-0.6042979665150654,-0.6121831516752303,-1.0353547552707334,-1.137862162352874,-2.076199196412469],\"yaxis\":\"y4\"},{\"hovertemplate\":\"<b>%{hovertext}</b><br><br>region=Latin America and Caribbean<br>year=2015<br>gdp_std=%{x}<br>score_std=%{y}<extra></extra>\",\"hovertext\":[\"Costa Rica\",\"Mexico\",\"Brazil\",\"Venezuela\",\"Panama\",\"Chile\",\"Argentina\",\"Uruguay\",\"Colombia\",\"Suriname\",\"Trinidad and Tobago\",\"El Salvador\",\"Guatemala\",\"Ecuador\",\"Bolivia\",\"Paraguay\",\"Nicaragua\",\"Peru\",\"Jamaica\",\"Dominican Republic\",\"Honduras\",\"Haiti\"],\"ids\":[\"Costa Rica\",\"Mexico\",\"Brazil\",\"Venezuela\",\"Panama\",\"Chile\",\"Argentina\",\"Uruguay\",\"Colombia\",\"Suriname\",\"Trinidad and Tobago\",\"El Salvador\",\"Guatemala\",\"Ecuador\",\"Bolivia\",\"Paraguay\",\"Nicaragua\",\"Peru\",\"Jamaica\",\"Dominican Republic\",\"Honduras\",\"Haiti\"],\"legendgroup\":\"Latin America and Caribbean\",\"marker\":{\"color\":\"#FFA15A\",\"symbol\":\"circle\"},\"mode\":\"markers\",\"name\":\"Latin America and Caribbean\",\"orientation\":\"v\",\"showlegend\":true,\"type\":\"scatter\",\"x\":[0.27284976923218485,0.4340072141664397,0.33620783822579403,0.4929854637795009,0.5409892796038026,0.6495391212967023,0.516054171539546,0.5363357215119702,0.18035097015549809,0.37129616394495696,0.91003883308975,-0.20305742300417806,-0.2503644493815742,0.04450191334634198,-0.4101283154220183,-0.2147286462398428,-0.6293183671485337,0.13451217868408075,-0.08898303641081433,0.12251744606235315,-0.6241671023089123,-1.441874403589745],\"xaxis\":\"x5\",\"y\":[1.621076512020294,1.5869073763262476,1.408176512695848,1.256605731283794,1.2355785708566889,1.1339472954590106,1.0498386537505875,0.9718629338334042,0.9648538803577024,0.7826184899894522,0.6941291898587139,0.6608361858491311,0.6547032640578906,0.5250357747574061,0.4505645815780733,0.44005100136452,0.3962444171413824,0.39273989040353263,0.2919847466903173,-0.42994776130698026,-0.5149325346998657,-0.7514880895048058],\"yaxis\":\"y5\"},{\"hovertemplate\":\"<b>%{hovertext}</b><br><br>region=Southeastern Asia<br>year=2015<br>gdp_std=%{x}<br>score_std=%{y}<extra></extra>\",\"hovertext\":[\"Singapore\",\"Thailand\",\"Malaysia\",\"Indonesia\",\"Vietnam\",\"Philippines\",\"Laos\",\"Myanmar\",\"Cambodia\"],\"ids\":[\"Singapore\",\"Thailand\",\"Malaysia\",\"Indonesia\",\"Vietnam\",\"Philippines\",\"Laos\",\"Myanmar\",\"Cambodia\"],\"legendgroup\":\"Southeastern Asia\",\"marker\":{\"color\":\"#19d3f3\",\"symbol\":\"circle\"},\"mode\":\"markers\",\"name\":\"Southeastern Asia\",\"orientation\":\"v\",\"showlegend\":true,\"type\":\"scatter\",\"x\":[1.6815589481757132,0.3005222644092836,0.6936110538134663,-0.04446316782103935,-0.5324895193660778,-0.35042839102466244,-0.6357636695324084,-1.4310492818253224,-0.959969845042518],\"xaxis\":\"x6\",\"y\":[1.2460921510702407,0.9455789832995216,0.3454287794425444,0.020383924506868288,-0.01378521118717831,-0.2652350046279846,-0.4378329464671444,-0.9363518749264436,-1.3639041369442608],\"yaxis\":\"y6\"},{\"hovertemplate\":\"<b>%{hovertext}</b><br><br>region=Central and Eastern Europe<br>year=2015<br>gdp_std=%{x}<br>score_std=%{y}<extra></extra>\",\"hovertext\":[\"Czech Republic\",\"Uzbekistan\",\"Slovakia\",\"Moldova\",\"Kazakhstan\",\"Slovenia\",\"Lithuania\",\"Belarus\",\"Poland\",\"Croatia\",\"Russia\",\"Kosovo\",\"Turkmenistan\",\"Estonia\",\"Kyrgyzstan\",\"Azerbaijan\",\"Montenegro\",\"Romania\",\"Serbia\",\"Latvia\",\"Macedonia\",\"Albania\",\"Bosnia and Herzegovina\",\"Hungary\",\"Tajikistan\",\"Ukraine\",\"Armenia\",\"Georgia\",\"Bulgaria\"],\"ids\":[\"Czech Republic\",\"Uzbekistan\",\"Slovakia\",\"Moldova\",\"Kazakhstan\",\"Slovenia\",\"Lithuania\",\"Belarus\",\"Poland\",\"Croatia\",\"Russia\",\"Kosovo\",\"Turkmenistan\",\"Estonia\",\"Kyrgyzstan\",\"Azerbaijan\",\"Montenegro\",\"Romania\",\"Serbia\",\"Latvia\",\"Macedonia\",\"Albania\",\"Bosnia and Herzegovina\",\"Hungary\",\"Tajikistan\",\"Ukraine\",\"Armenia\",\"Georgia\",\"Bulgaria\"],\"legendgroup\":\"Central and Eastern Europe\",\"marker\":{\"color\":\"#FF6692\",\"symbol\":\"circle\"},\"mode\":\"markers\",\"name\":\"Central and Eastern Europe\",\"orientation\":\"v\",\"showlegend\":true,\"type\":\"scatter\",\"x\":[0.828290499765317,-0.5317927299191726,0.8032309650141134,-0.6262574706496282,0.6878376555391078,0.8432217021990034,0.7492795535537269,0.4623267281156652,0.6953281420933404,0.5882963059811988,0.7254145149972182,-0.11113098668744914,0.27954392498995445,0.7605028407163812,-0.9253792260711448,0.4423438021919144,0.3191364967766127,0.4910195221257321,0.18512895493427756,0.6643956677182203,0.18010211678160334,0.08095893262192601,-0.034608574214806724,0.6838560015567914,-1.1339432387323536,-0.1171283529983132,-0.19392450418223972,-0.2593978268539545,0.4131533014340576],\"xaxis\":\"x7\",\"y\":[0.9893855675226586,0.5495674619223625,0.5425584084466614,0.4496884498936095,0.4198999726218781,0.4137670508306384,0.400625075563696,0.3831024418744424,0.36382754481626267,0.33579133091345503,0.298117668481557,0.18684894455478926,0.15092754549181578,0.046667875040749145,-0.07861895583742093,-0.14345270048766276,-0.16097533417691876,-0.22055228872038551,-0.22142842040484934,-0.24333171251641655,-0.3230596958025261,-0.3651140166567377,-0.3738753335013649,-0.5044189544863131,-0.5166847980687909,-0.608678624937379,-0.8986782124945463,-0.9451131917710714,-1.0143275948436277],\"yaxis\":\"y7\"},{\"hovertemplate\":\"<b>%{hovertext}</b><br><br>region=Eastern Asia<br>year=2015<br>gdp_std=%{x}<br>score_std=%{y}<extra></extra>\",\"hovertext\":[\"Taiwan\",\"Japan\",\"South Korea\",\"Hong Kong\",\"China\",\"Mongolia\"],\"ids\":[\"Taiwan\",\"Japan\",\"South Korea\",\"Hong Kong\",\"China\",\"Mongolia\"],\"legendgroup\":\"Eastern Asia\",\"marker\":{\"color\":\"#B6E880\",\"symbol\":\"circle\"},\"mode\":\"markers\",\"name\":\"Eastern Asia\",\"orientation\":\"v\",\"showlegend\":true,\"type\":\"scatter\",\"x\":[1.1070062785274626,1.0566383556511605,0.9916129690524564,1.343566295751833,0.10945264393287736,-0.044662250520155364],\"xaxis\":\"x8\",\"y\":[0.8080263088388707,0.5355493549709595,0.5329209599175712,0.08609380084157395,-0.20653418176898167,-0.4395852098360705],\"yaxis\":\"y8\"},{\"hovertemplate\":\"<b>%{hovertext}</b><br><br>region=Sub-Saharan Africa<br>year=2015<br>gdp_std=%{x}<br>score_std=%{y}<extra></extra>\",\"hovertext\":[\"Mauritius\",\"Nigeria\",\"Zambia\",\"Somaliland region\",\"Mozambique\",\"Lesotho\",\"Swaziland\",\"South Africa\",\"Ghana\",\"Zimbabwe\",\"Liberia\",\"Sudan\",\"Congo (Kinshasa)\",\"Ethiopia\",\"Sierra Leone\",\"Mauritania\",\"Kenya\",\"Djibouti\",\"Botswana\",\"Malawi\",\"Cameroon\",\"Angola\",\"Mali\",\"Congo (Brazzaville)\",\"Comoros\",\"Uganda\",\"Senegal\",\"Gabon\",\"Niger\",\"Tanzania\",\"Madagascar\",\"Central African Republic\",\"Chad\",\"Guinea\",\"Ivory Coast\",\"Burkina Faso\",\"Rwanda\",\"Benin\",\"Burundi\",\"Togo\"],\"ids\":[\"Mauritius\",\"Nigeria\",\"Zambia\",\"Somaliland region\",\"Mozambique\",\"Lesotho\",\"Swaziland\",\"South Africa\",\"Ghana\",\"Zimbabwe\",\"Liberia\",\"Sudan\",\"Congo (Kinshasa)\",\"Ethiopia\",\"Sierra Leone\",\"Mauritania\",\"Kenya\",\"Djibouti\",\"Botswana\",\"Malawi\",\"Cameroon\",\"Angola\",\"Mali\",\"Congo (Brazzaville)\",\"Comoros\",\"Uganda\",\"Senegal\",\"Gabon\",\"Niger\",\"Tanzania\",\"Madagascar\",\"Central African Republic\",\"Chad\",\"Guinea\",\"Ivory Coast\",\"Burkina Faso\",\"Rwanda\",\"Benin\",\"Burundi\",\"Togo\"],\"legendgroup\":\"Sub-Saharan Africa\",\"marker\":{\"color\":\"#FF97FF\",\"symbol\":\"circle\"},\"mode\":\"markers\",\"name\":\"Sub-Saharan Africa\",\"orientation\":\"v\",\"showlegend\":true,\"type\":\"scatter\",\"x\":[0.4018304729218453,-0.4772689556988279,-0.9350845076530409,-1.6366270539997938,-1.8988936247474948,-1.1713210154913485,-0.3336556736241546,0.1850294135847198,-0.7479467704841718,-1.4312483645244385,-1.9284574055661936,-0.8089407324257807,-2.105641007779272,-1.6310029677497724,-1.2838276258291752,-0.9756724929352784,-1.1980478678476472,-1.0100640292075358,0.36684168855224064,-2.0657249266065505,-1.054235503073858,-0.21987991107946464,-1.456780720686042,-0.4167727005050086,-1.5107321321464289,-1.5805106181865234,-1.1973759637381312,0.5328020036026645,-1.9329367662963,-1.3959111854313806,-1.5874287419807978,-1.9102911092718755,-1.2547366664208763,-1.6722130864667466,-0.9476267176973376,-1.4633006790820848,-1.552987435033761,-1.3923028115099063,-2.067566441573372,-1.5863337871356606],\"xaxis\":\"x9\",\"y\":[0.08872219589496226,-0.09438932615775084,-0.2161716302980719,-0.2792531115793885,-0.35460043644318434,-0.4185580494089648,-0.4457181316273094,-0.6428477606314256,-0.6507329457915906,-0.6708839745342333,-0.7050531102282791,-0.7234518756019981,-0.7523642211892679,-0.7567448796115824,-0.7611255380338959,-0.8233308876307504,-0.8382251262666173,-0.882031710489754,-0.9144485828148754,-0.9494938501933852,-0.9845391175718948,-1.176411956469234,-1.2097049604788186,-1.2149617505855952,-1.2438740961728656,-1.265777388284434,-1.289432943764928,-1.29644199724063,-1.3411247131482296,-1.3971971409538448,-1.4848103094001193,-1.4874387044535071,-1.4970761529825976,-1.506713601511687,-1.5075897331961503,-1.5671666877396164,-1.674054753244071,-1.7835712138019135,-2.164688496543205,-2.2225131877177464],\"yaxis\":\"y9\"},{\"hovertemplate\":\"<b>%{hovertext}</b><br><br>region=Southern Asia<br>year=2015<br>gdp_std=%{x}<br>score_std=%{y}<extra></extra>\",\"hovertext\":[\"Bhutan\",\"Pakistan\",\"Bangladesh\",\"India\",\"Nepal\",\"Sri Lanka\",\"Afghanistan\"],\"ids\":[\"Bhutan\",\"Pakistan\",\"Bangladesh\",\"India\",\"Nepal\",\"Sri Lanka\",\"Afghanistan\"],\"legendgroup\":\"Southern Asia\",\"marker\":{\"color\":\"#FECB52\",\"symbol\":\"circle\"},\"mode\":\"markers\",\"name\":\"Southern Asia\",\"orientation\":\"v\",\"showlegend\":true,\"type\":\"scatter\",\"x\":[-0.18842484461916545,-0.6238933635976278,-1.1163741905353828,-0.5005616314953787,-1.2098435177702591,-0.0271180876605739,-1.3097581473890103],\"xaxis\":\"x10\",\"y\":[-0.10753130142469244,-0.15922307080799347,-0.5972889130393635,-0.7103099003350565,-0.7549926162426579,-0.9678926155671024,-1.5776802679531692],\"yaxis\":\"y10\"}],\"name\":\"2015\"},{\"data\":[{\"hovertemplate\":\"<b>%{hovertext}</b><br><br>region=Western Europe<br>year=2016<br>gdp_std=%{x}<br>score_std=%{y}<extra></extra>\",\"hovertext\":[\"Denmark\",\"Switzerland\",\"Iceland\",\"Norway\",\"Finland\",\"Netherlands\",\"Sweden\",\"Austria\",\"Germany\",\"Belgium\",\"Ireland\",\"Luxembourg\",\"United Kingdom\",\"Malta\",\"France\",\"Spain\",\"Italy\",\"North Cyprus\",\"Cyprus\",\"Portugal\",\"Greece\"],\"ids\":[\"Denmark\",\"Switzerland\",\"Iceland\",\"Norway\",\"Finland\",\"Netherlands\",\"Sweden\",\"Austria\",\"Germany\",\"Belgium\",\"Ireland\",\"Luxembourg\",\"United Kingdom\",\"Malta\",\"France\",\"Spain\",\"Italy\",\"North Cyprus\",\"Cyprus\",\"Portugal\",\"Greece\"],\"legendgroup\":\"Western Europe\",\"marker\":{\"color\":\"#636efa\",\"symbol\":\"circle\"},\"mode\":\"markers\",\"name\":\"Western Europe\",\"orientation\":\"v\",\"showlegend\":true,\"type\":\"scatter\",\"x\":[1.1862989011294092,1.3943083933298284,1.1495355636417377,1.5161477346993544,1.0992534327392869,1.2419788236471136,1.2106862209046312,1.2072092650443549,1.2011063565063884,1.146447637807786,1.2875196511037337,1.8081147694559443,1.091594404096022,0.8605835115891629,1.0722644746630197,0.9449787129249496,0.9751771687183944,0.8693123728048205,0.8867214664828452,0.7833853657403812,0.7172259468885591],\"xaxis\":\"x\",\"y\":[1.883792064823923,1.868853993758837,1.8618243132576229,1.859188183069665,1.7844978277442431,1.7194732831079933,1.6772952001006978,1.5261570693245492,1.4163183114930458,1.3592021574206632,1.3398705360423202,1.3082369737868471,1.1799453046396509,0.971691019791122,0.9629039191646009,0.8600948418343157,0.5226701777759372,0.3416559048696197,0.14394614077291445,-0.2277482157288936,-0.3068321213675741],\"yaxis\":\"y\"},{\"hovertemplate\":\"<b>%{hovertext}</b><br><br>region=North America<br>year=2016<br>gdp_std=%{x}<br>score_std=%{y}<extra></extra>\",\"hovertext\":[\"Canada\",\"United States\"],\"ids\":[\"Canada\",\"United States\"],\"legendgroup\":\"North America\",\"marker\":{\"color\":\"#EF553B\",\"symbol\":\"circle\"},\"mode\":\"markers\",\"name\":\"North America\",\"orientation\":\"v\",\"showlegend\":true,\"type\":\"scatter\",\"x\":[1.182335657736228,1.34721144576791],\"xaxis\":\"x2\",\"y\":[1.776589437180376,1.5129764183847687],\"yaxis\":\"y2\"},{\"hovertemplate\":\"<b>%{hovertext}</b><br><br>region=Australia and New Zealand<br>year=2016<br>gdp_std=%{x}<br>score_std=%{y}<extra></extra>\",\"hovertext\":[\"New Zealand\",\"Australia\"],\"ids\":[\"New Zealand\",\"Australia\"],\"legendgroup\":\"Australia and New Zealand\",\"marker\":{\"color\":\"#00cc96\",\"symbol\":\"circle\"},\"mode\":\"markers\",\"name\":\"Australia and New Zealand\",\"orientation\":\"v\",\"showlegend\":true,\"type\":\"scatter\",\"x\":[0.9890606777828524,1.1927422109404104],\"xaxis\":\"x3\",\"y\":[1.7150797327947342,1.6966268214790416],\"yaxis\":\"y3\"},{\"hovertemplate\":\"<b>%{hovertext}</b><br><br>region=Middle East and Northern Africa<br>year=2016<br>gdp_std=%{x}<br>score_std=%{y}<extra></extra>\",\"hovertext\":[\"Israel\",\"United Arab Emirates\",\"Saudi Arabia\",\"Qatar\",\"Algeria\",\"Kuwait\",\"Bahrain\",\"Libya\",\"Turkey\",\"Jordan\",\"Morocco\",\"Lebanon\",\"Tunisia\",\"Iran\",\"Palestinian Territories\",\"Iraq\",\"Egypt\",\"Yemen\",\"Syria\"],\"ids\":[\"Israel\",\"United Arab Emirates\",\"Saudi Arabia\",\"Qatar\",\"Algeria\",\"Kuwait\",\"Bahrain\",\"Libya\",\"Turkey\",\"Jordan\",\"Morocco\",\"Lebanon\",\"Tunisia\",\"Iran\",\"Palestinian Territories\",\"Iraq\",\"Egypt\",\"Yemen\",\"Syria\"],\"legendgroup\":\"Middle East and Northern Africa\",\"marker\":{\"color\":\"#ab63fa\",\"symbol\":\"circle\"},\"mode\":\"markers\",\"name\":\"Middle East and Northern Africa\",\"orientation\":\"v\",\"showlegend\":true,\"type\":\"scatter\",\"x\":[0.9331376114986956,1.5066164990544026,1.3024000496106485,2.11629949343494,0.2401778771080545,1.6126758099811385,1.1825544871260354,0.2747529206976504,0.5131310693280317,0.10418756853097208,-0.2754814227851635,0.4104271423783445,0.05679884844931034,0.3980268102892491,-0.689652514560959,0.29386402074084544,0.0001706652424400035,-0.9105486263833791,-0.5025533862754861],\"xaxis\":\"x4\",\"y\":[1.6562061585970491,1.046381375116544,0.8759116229620504,0.8723967827114427,0.8548225814584026,0.7528922141907672,0.7344393028750748,0.2045771350959041,0.005988660936544972,-0.06958040445152787,-0.20314433397463572,-0.22247595535298048,-0.2962876006157503,-0.5001483351510202,-0.5519922288474898,-0.7092813300622016,-0.896446573407083,-1.4570635933790748,-2.0326186844161507],\"yaxis\":\"y4\"},{\"hovertemplate\":\"<b>%{hovertext}</b><br><br>region=Latin America and Caribbean<br>year=2016<br>gdp_std=%{x}<br>score_std=%{y}<extra></extra>\",\"hovertext\":[\"Costa Rica\",\"Puerto Rico\",\"Brazil\",\"Mexico\",\"Chile\",\"Panama\",\"Argentina\",\"Uruguay\",\"Colombia\",\"Guatemala\",\"Suriname\",\"Trinidad and Tobago\",\"Venezuela\",\"El Salvador\",\"Nicaragua\",\"Ecuador\",\"Belize\",\"Bolivia\",\"Peru\",\"Paraguay\",\"Jamaica\",\"Dominican Republic\",\"Honduras\",\"Haiti\"],\"ids\":[\"Costa Rica\",\"Puerto Rico\",\"Brazil\",\"Mexico\",\"Chile\",\"Panama\",\"Argentina\",\"Uruguay\",\"Colombia\",\"Guatemala\",\"Suriname\",\"Trinidad and Tobago\",\"Venezuela\",\"El Salvador\",\"Nicaragua\",\"Ecuador\",\"Belize\",\"Bolivia\",\"Peru\",\"Paraguay\",\"Jamaica\",\"Dominican Republic\",\"Honduras\",\"Haiti\"],\"legendgroup\":\"Latin America and Caribbean\",\"marker\":{\"color\":\"#FFA15A\",\"symbol\":\"circle\"},\"mode\":\"markers\",\"name\":\"Latin America and Caribbean\",\"orientation\":\"v\",\"showlegend\":true,\"type\":\"scatter\",\"x\":[0.27939696663690017,0.986070009455482,0.32498642284681084,0.3919482161279272,0.6390309115973201,0.5572373485625794,0.4801850889736693,0.5536145064424318,0.1858595596824863,-0.29016730627891585,0.3476474218802171,0.9041062457842244,0.4371486423115141,-0.1949522073359771,-0.6322705856780847,0.046635439011581035,-0.1889708706812368,-0.3882028729127074,0.1024612477891568,-0.14625051091547026,-0.14722308598128156,0.1799025374043917,-0.6311764387290469,-1.4902519943602792],\"xaxis\":\"x5\",\"y\":[1.4980383473196857,1.4558602643123868,1.3794124888616617,1.2265169379602083,1.1623711033866109,1.158856263136003,1.1140420499407495,1.021777493362287,0.9655400493525572,0.8275825695161894,0.7792535160703282,0.6905037997424721,0.6166921544797032,0.6026327934772708,0.535850828715718,0.5217914677132848,0.5042172664602447,0.3864701180648731,0.3170520231153618,0.13691646027169668,0.11231257851744113,-0.19962949372402725,-0.4491831515172021,-1.1899357343328592],\"yaxis\":\"y5\"},{\"hovertemplate\":\"<b>%{hovertext}</b><br><br>region=Southeastern Asia<br>year=2016<br>gdp_std=%{x}<br>score_std=%{y}<extra></extra>\",\"hovertext\":[\"Singapore\",\"Thailand\",\"Malaysia\",\"Indonesia\",\"Philippines\",\"Vietnam\",\"Laos\",\"Myanmar\",\"Cambodia\"],\"ids\":[\"Singapore\",\"Thailand\",\"Malaysia\",\"Indonesia\",\"Philippines\",\"Vietnam\",\"Laos\",\"Myanmar\",\"Cambodia\"],\"legendgroup\":\"Southeastern Asia\",\"marker\":{\"color\":\"#19d3f3\",\"symbol\":\"circle\"},\"mode\":\"markers\",\"name\":\"Southeastern Asia\",\"orientation\":\"v\",\"showlegend\":true,\"type\":\"scatter\",\"x\":[1.6817529540303953,0.3292657531363811,0.7234504273097521,-0.006904818361338039,-0.3445585668344199,-0.5191357911475707,-0.664900479136058,-1.4898872787106001,-0.9673226958501208],\"xaxis\":\"x6\",\"y\":[1.1922472455167796,0.9593890789139932,0.5472740595301935,-0.05991459376235547,-0.09066944595517648,-0.28222823961331783,-0.4447896012039421,-0.8674491413395666,-1.2962596519137544],\"yaxis\":\"y6\"},{\"hovertemplate\":\"<b>%{hovertext}</b><br><br>region=Central and Eastern Europe<br>year=2016<br>gdp_std=%{x}<br>score_std=%{y}<extra></extra>\",\"hovertext\":[\"Czech Republic\",\"Slovakia\",\"Uzbekistan\",\"Kazakhstan\",\"Moldova\",\"Russia\",\"Poland\",\"Lithuania\",\"Belarus\",\"Slovenia\",\"Turkmenistan\",\"Latvia\",\"Romania\",\"Estonia\",\"Croatia\",\"Kosovo\",\"Azerbaijan\",\"Kyrgyzstan\",\"Serbia\",\"Bosnia and Herzegovina\",\"Montenegro\",\"Hungary\",\"Macedonia\",\"Tajikistan\",\"Albania\",\"Armenia\",\"Ukraine\",\"Georgia\",\"Bulgaria\"],\"ids\":[\"Czech Republic\",\"Slovakia\",\"Uzbekistan\",\"Kazakhstan\",\"Moldova\",\"Russia\",\"Poland\",\"Lithuania\",\"Belarus\",\"Slovenia\",\"Turkmenistan\",\"Latvia\",\"Romania\",\"Estonia\",\"Croatia\",\"Kosovo\",\"Azerbaijan\",\"Kyrgyzstan\",\"Serbia\",\"Bosnia and Herzegovina\",\"Montenegro\",\"Hungary\",\"Macedonia\",\"Tajikistan\",\"Albania\",\"Armenia\",\"Ukraine\",\"Georgia\",\"Bulgaria\"],\"legendgroup\":\"Central and Eastern Europe\",\"marker\":{\"color\":\"#FF6692\",\"symbol\":\"circle\"},\"mode\":\"markers\",\"name\":\"Central and Eastern Europe\",\"orientation\":\"v\",\"showlegend\":true,\"type\":\"scatter\",\"x\":[0.8638173236829861,0.7922844275925558,-0.5299800031313678,0.6699831130667689,-0.6373036616436588,0.6769127104106749,0.7099073195183278,0.7666813889850702,0.429732757434702,0.8402810070903494,0.3070667272592356,0.6419000080414642,0.5247533413644777,0.7920655982027484,0.5655771797519125,-0.1274798121453096,0.4129801519260993,-0.9566243701261952,0.19570688222382726,-0.0487498605678745,0.30271445383972906,0.6991360506644664,0.159065116619382,-1.1319067113620591,0.0034531060895537434,-0.2261718669485238,-0.1969703005975358,-0.2819490469728089,0.38703671204557977],\"xaxis\":\"x7\",\"y\":[1.0665917065575403,0.61141989410379,0.5314572784024572,0.4717049941421191,0.4523733727637751,0.4163462601950418,0.39789334887934935,0.3785617275010046,0.3688959168118329,0.3390197746816635,0.2423616677899413,0.15624808165004225,0.12812935964517738,0.1184635489560058,0.09298095713909717,0.01653318168837045,-0.08012492520335178,-0.17326819184446707,-0.18029787234568248,-0.1925998132228126,-0.1943572333481149,-0.20841659435054807,-0.2295056358541959,-0.33934439368569896,-0.6389845250500396,-0.8982039935323869,-0.92983755578786,-0.993104680298806,-1.0238595324916269],\"yaxis\":\"y7\"},{\"hovertemplate\":\"<b>%{hovertext}</b><br><br>region=Eastern Asia<br>year=2016<br>gdp_std=%{x}<br>score_std=%{y}<extra></extra>\",\"hovertext\":[\"Taiwan\",\"Japan\",\"South Korea\",\"Hong Kong\",\"China\",\"Mongolia\"],\"ids\":[\"Taiwan\",\"Japan\",\"South Korea\",\"Hong Kong\",\"China\",\"Mongolia\"],\"legendgroup\":\"Eastern Asia\",\"marker\":{\"color\":\"#B6E880\",\"symbol\":\"circle\"},\"mode\":\"markers\",\"name\":\"Eastern Asia\",\"orientation\":\"v\",\"showlegend\":true,\"type\":\"scatter\",\"x\":[1.0781242394345336,1.0362548828513516,0.9861915813387088,1.353873584968718,0.17973233676787467,0.08424977968183789],\"xaxis\":\"x8\",\"y\":[0.8759116229620504,0.4734624142674237,0.39789334887934935,0.06661965525953463,-0.12054558808534516,-0.4175495892617296],\"yaxis\":\"y8\"},{\"hovertemplate\":\"<b>%{hovertext}</b><br><br>region=Sub-Saharan Africa<br>year=2016<br>gdp_std=%{x}<br>score_std=%{y}<extra></extra>\",\"hovertext\":[\"Mauritius\",\"Somalia\",\"Somaliland Region\",\"Nigeria\",\"Zambia\",\"Sierra Leone\",\"Namibia\",\"Cameroon\",\"Ethiopia\",\"South Africa\",\"Kenya\",\"Ghana\",\"Congo (Kinshasa)\",\"Congo (Brazzaville)\",\"Senegal\",\"Mauritania\",\"Zimbabwe\",\"Malawi\",\"Sudan\",\"Gabon\",\"Mali\",\"Botswana\",\"Comoros\",\"Ivory Coast\",\"Angola\",\"Niger\",\"South Sudan\",\"Chad\",\"Burkina Faso\",\"Uganda\",\"Madagascar\",\"Tanzania\",\"Liberia\",\"Guinea\",\"Rwanda\",\"Benin\",\"Togo\",\"Burundi\"],\"ids\":[\"Mauritius\",\"Somalia\",\"Somaliland Region\",\"Nigeria\",\"Zambia\",\"Sierra Leone\",\"Namibia\",\"Cameroon\",\"Ethiopia\",\"South Africa\",\"Kenya\",\"Ghana\",\"Congo (Kinshasa)\",\"Congo (Brazzaville)\",\"Senegal\",\"Mauritania\",\"Zimbabwe\",\"Malawi\",\"Sudan\",\"Gabon\",\"Mali\",\"Botswana\",\"Comoros\",\"Ivory Coast\",\"Angola\",\"Niger\",\"South Sudan\",\"Chad\",\"Burkina Faso\",\"Uganda\",\"Madagascar\",\"Tanzania\",\"Liberia\",\"Guinea\",\"Rwanda\",\"Benin\",\"Togo\",\"Burundi\"],\"legendgroup\":\"Sub-Saharan Africa\",\"marker\":{\"color\":\"#FF97FF\",\"symbol\":\"circle\"},\"mode\":\"markers\",\"name\":\"Sub-Saharan Africa\",\"orientation\":\"v\",\"showlegend\":true,\"type\":\"scatter\",\"x\":[0.4615845908400258,-2.3192992948345834,-1.6978724565343732,-0.4904691410827787,-0.8312108153898118,-1.432189262931337,-0.0510840407258221,-1.0428674640870237,-1.607301403530684,0.17088190366899048,-1.048459770715439,-0.7848919278805426,-2.1816556086456216,-0.4444420260932533,-1.2418320081753955,-0.8266153982038527,-1.4672992228071295,-2.107545388630791,-0.7858158741930636,0.497545553898403,-1.5584538208503054,0.3413256839524429,-1.6504351076994208,-0.9696811903847136,-0.25911784730288595,-1.996647516751643,-1.3614587412702008,-1.2928921991304954,-1.5413608140686694,-1.4751284520869117,-1.6396152100922687,-1.1727548641261392,-2.0589895784701557,-1.7742925423305058,-1.5206692795435317,-1.358905731722446,-1.6355060804392156,-2.1532077879706373],\"xaxis\":\"x9\",\"y\":[0.23357456716342045,0.05080287413179993,-0.28574307986392555,-0.4456683112665944,-0.5159651162787564,-0.6565587263030805,-0.710160040124854,-0.7637613539466275,-0.7681549042598874,-0.8112116973298371,-0.9017188337829952,-0.9720156387951574,-0.9755304790457652,-1.0071640413012368,-1.022102112366324,-1.0379188934940586,-1.0449485739952749,-1.0774608463133988,-1.092398917378486,-1.1082156985062206,-1.1503937815135181,-1.2373860777160686,-1.2532028588438051,-1.2883512613498862,-1.3322867644824872,-1.3410738651090075,-1.3621629066126564,-1.422793900935646,-1.4438829424392945,-1.4438829424392945,-1.4825461851959838,-1.5080287770128924,-1.5466920197695817,-1.5598726707093615,-1.6407139964733481,-1.6679540084155609,-1.8270005297555771,-2.1767271346910837],\"yaxis\":\"y9\"},{\"hovertemplate\":\"<b>%{hovertext}</b><br><br>region=Southern Asia<br>year=2016<br>gdp_std=%{x}<br>score_std=%{y}<extra></extra>\",\"hovertext\":[\"Bhutan\",\"Pakistan\",\"Nepal\",\"Bangladesh\",\"Sri Lanka\",\"India\",\"Afghanistan\"],\"ids\":[\"Bhutan\",\"Pakistan\",\"Nepal\",\"Bangladesh\",\"Sri Lanka\",\"India\",\"Afghanistan\"],\"legendgroup\":\"Southern Asia\",\"marker\":{\"color\":\"#FECB52\",\"symbol\":\"circle\"},\"mode\":\"markers\",\"name\":\"Southern Asia\",\"orientation\":\"v\",\"showlegend\":true,\"type\":\"scatter\",\"x\":[-0.246012398291077,-0.6460811516126069,-1.2342459226620663,-1.0020193113229434,0.04692721153132449,-0.5191601055242159,-1.3898336188152494],\"xaxis\":\"x10\",\"y\":[-0.16360238115529313,-0.2198398251650228,-0.5177225364040603,-0.6495290458018643,-0.8498749400865258,-0.8595407507756981,-1.776914056184412],\"yaxis\":\"y10\"}],\"name\":\"2016\"},{\"data\":[{\"hovertemplate\":\"<b>%{hovertext}</b><br><br>region=Western Europe<br>year=2017<br>gdp_std=%{x}<br>score_std=%{y}<extra></extra>\",\"hovertext\":[\"Norway\",\"Denmark\",\"Iceland\",\"Switzerland\",\"Finland\",\"Netherlands\",\"Sweden\",\"Austria\",\"Ireland\",\"Germany\",\"Belgium\",\"Luxembourg\",\"United Kingdom\",\"Malta\",\"France\",\"Spain\",\"Italy\",\"North Cyprus\",\"Cyprus\",\"Greece\",\"Portugal\"],\"ids\":[\"Norway\",\"Denmark\",\"Iceland\",\"Switzerland\",\"Finland\",\"Netherlands\",\"Sweden\",\"Austria\",\"Ireland\",\"Germany\",\"Belgium\",\"Luxembourg\",\"United Kingdom\",\"Malta\",\"France\",\"Spain\",\"Italy\",\"North Cyprus\",\"Cyprus\",\"Greece\",\"Portugal\"],\"legendgroup\":\"Western Europe\",\"marker\":{\"color\":\"#636efa\",\"symbol\":\"circle\"},\"mode\":\"markers\",\"name\":\"Western Europe\",\"orientation\":\"v\",\"showlegend\":true,\"type\":\"scatter\",\"x\":[1.5061876523392312,1.1865176846957697,1.1823454032800014,1.383441906020501,1.0939854396021416,1.2379242644731816,1.21513787587306,1.1977572597479458,1.3136502925297202,1.199726872938099,1.142166747114287,1.8053543343631393,1.0893649532347462,0.8548720222533878,1.0638293491989637,0.9529043981317946,0.9783405274282436,0.863530070106997,0.8850514179216941,0.7266218774849604,0.7878660018694021],\"xaxis\":\"x\",\"y\":[1.9359960224893675,1.9226928344471281,1.9067296851150561,1.8978608927912757,1.8756893354569624,1.7940983074177002,1.71162048519583,1.4650738127128269,1.4393550768743677,1.4162967244705875,1.3630848165913239,1.3382528749354732,1.2061111694018976,1.040268306856985,0.9648852646751148,0.9302977365128744,0.5409669769204447,0.4043904526367024,0.23677400083971614,-0.11264803891568917,-0.14102758210739458],\"yaxis\":\"y\"},{\"hovertemplate\":\"<b>%{hovertext}</b><br><br>region=North America<br>year=2017<br>gdp_std=%{x}<br>score_std=%{y}<extra></extra>\",\"hovertext\":[\"Canada\",\"United States\"],\"ids\":[\"Canada\",\"United States\"],\"legendgroup\":\"North America\",\"marker\":{\"color\":\"#EF553B\",\"symbol\":\"circle\"},\"mode\":\"markers\",\"name\":\"North America\",\"orientation\":\"v\",\"showlegend\":true,\"type\":\"scatter\",\"x\":[1.1789393679874651,1.3388095958073312],\"xaxis\":\"x2\",\"y\":[1.7400000283875354,1.4535446369543668],\"yaxis\":\"y2\"},{\"hovertemplate\":\"<b>%{hovertext}</b><br><br>region=Australia and New Zealand<br>year=2017<br>gdp_std=%{x}<br>score_std=%{y}<extra></extra>\",\"hovertext\":[\"New Zealand\",\"Australia\"],\"ids\":[\"New Zealand\",\"Australia\"],\"legendgroup\":\"Australia and New Zealand\",\"marker\":{\"color\":\"#00cc96\",\"symbol\":\"circle\"},\"mode\":\"markers\",\"name\":\"Australia and New Zealand\",\"orientation\":\"v\",\"showlegend\":true,\"type\":\"scatter\",\"x\":[1.0037067385451353,1.1913621328729278],\"xaxis\":\"x3\",\"y\":[1.738226439135462,1.71162048519583],\"yaxis\":\"y3\"},{\"hovertemplate\":\"<b>%{hovertext}</b><br><br>region=Middle East and Northern Africa<br>year=2017<br>gdp_std=%{x}<br>score_std=%{y}<extra></extra>\",\"hovertext\":[\"Israel\",\"United Arab Emirates\",\"Qatar\",\"Saudi Arabia\",\"Kuwait\",\"Bahrain\",\"Algeria\",\"Libya\",\"Turkey\",\"Jordan\",\"Morocco\",\"Lebanon\",\"Tunisia\",\"Palestinian Territories\",\"Egypt\",\"Iran\",\"Iraq\",\"Yemen\",\"Syria\"],\"ids\":[\"Israel\",\"United Arab Emirates\",\"Qatar\",\"Saudi Arabia\",\"Kuwait\",\"Bahrain\",\"Algeria\",\"Libya\",\"Turkey\",\"Jordan\",\"Morocco\",\"Lebanon\",\"Tunisia\",\"Palestinian Territories\",\"Egypt\",\"Iran\",\"Iraq\",\"Yemen\",\"Syria\"],\"legendgroup\":\"Middle East and Northern Africa\",\"marker\":{\"color\":\"#ab63fa\",\"symbol\":\"circle\"},\"mode\":\"markers\",\"name\":\"Middle East and Northern Africa\",\"orientation\":\"v\",\"showlegend\":true,\"type\":\"scatter\",\"x\":[0.9314100510462621,1.529743696426178,2.1124881364428147,1.3015313543922606,1.5455008761269924,1.2008924389841895,0.2554549478799601,0.27915025612514005,0.5091542926371633,0.015006426131833537,-0.25416119171620444,0.21521745754262508,0.053757329038541794,-0.6400757663337105,0.011881763470984654,0.4104466195817024,0.2813137023643978,-0.9370618074818272,-0.4948704797117204],\"xaxis\":\"x4\",\"y\":[1.6486534138418858,1.1475780707347063,0.9054657948570228,0.8779730467347833,0.6660139024140179,0.6500503300502399,0.4593759488811816,0.1516357942963075,0.1294642369619945,-0.01598065661381979,-0.10555325887568992,-0.11442205119946948,-0.4869028672772202,-0.5135083981851454,-0.5489827205299919,-0.5871178511149426,-0.7600550706681487,-1.5617757874333429,-1.6779543436348447],\"yaxis\":\"y4\"},{\"hovertemplate\":\"<b>%{hovertext}</b><br><br>region=Latin America and Caribbean<br>year=2017<br>gdp_std=%{x}<br>score_std=%{y}<extra></extra>\",\"hovertext\":[\"Costa Rica\",\"Chile\",\"Brazil\",\"Argentina\",\"Mexico\",\"Uruguay\",\"Guatemala\",\"Panama\",\"Colombia\",\"Trinidad and Tobago\",\"Nicaragua\",\"Ecuador\",\"El Salvador\",\"Belize\",\"Bolivia\",\"Peru\",\"Paraguay\",\"Jamaica\",\"Venezuela\",\"Dominican Republic\",\"Honduras\",\"Haiti\"],\"ids\":[\"Costa Rica\",\"Chile\",\"Brazil\",\"Argentina\",\"Mexico\",\"Uruguay\",\"Guatemala\",\"Panama\",\"Colombia\",\"Trinidad and Tobago\",\"Nicaragua\",\"Ecuador\",\"El Salvador\",\"Belize\",\"Bolivia\",\"Peru\",\"Paraguay\",\"Jamaica\",\"Venezuela\",\"Dominican Republic\",\"Honduras\",\"Haiti\"],\"legendgroup\":\"Latin America and Caribbean\",\"marker\":{\"color\":\"#FFA15A\",\"symbol\":\"circle\"},\"mode\":\"markers\",\"name\":\"Latin America and Caribbean\",\"orientation\":\"v\",\"showlegend\":true,\"type\":\"scatter\",\"x\":[0.2979928765004464,0.6391159808450152,0.2923827496325991,0.4782103579115929,0.4016507261512161,0.5551337830725074,-0.26873475481724124,0.5937304992987893,0.20481006284458966,0.8979684332406709,-0.5898890377769902,0.038390378419058686,-0.1786547195226301,-0.1829681128286484,-0.3599182556729486,0.12041745875711488,-0.12440811841360057,-0.14099719475228567,0.3426362707215536,0.22567515823495385,-0.6059251725607617,-1.4689062776936381],\"xaxis\":\"x5\",\"y\":[1.5298144733188446,1.1511256722705605,1.1360493180079534,1.104122173280395,1.085498217481935,0.9755276462509672,0.9755276462509672,0.9737540569988936,0.889502222493244,0.7218861937279653,0.6358607699702407,0.5799884786562964,0.5755540829378358,0.5338717738487387,0.4159196283951632,0.3201390411627589,0.12325625199146108,-0.0381522148349918,-0.09225049386515646,-0.10998765548100957,-0.15344355293532114,-1.5529072061819873],\"yaxis\":\"y5\"},{\"hovertemplate\":\"<b>%{hovertext}</b><br><br>region=Southeastern Asia<br>year=2017<br>gdp_std=%{x}<br>score_std=%{y}<extra></extra>\",\"hovertext\":[\"Singapore\",\"Thailand\",\"Malaysia\",\"Philippines\",\"Indonesia\",\"Vietnam\",\"Myanmar\",\"Cambodia\"],\"ids\":[\"Singapore\",\"Thailand\",\"Malaysia\",\"Philippines\",\"Indonesia\",\"Vietnam\",\"Myanmar\",\"Cambodia\"],\"legendgroup\":\"Southeastern Asia\",\"marker\":{\"color\":\"#19d3f3\",\"symbol\":\"circle\"},\"mode\":\"markers\",\"name\":\"Southeastern Asia\",\"orientation\":\"v\",\"showlegend\":true,\"type\":\"scatter\",\"x\":[1.6869423016342835,0.3412953441781968,0.730741578407924,-0.30283490192984525,0.02579765318216248,-0.467704191373788,-1.4724818489552862,-0.9130254389003556],\"xaxis\":\"x6\",\"y\":[1.0801770266940092,0.9489216923113352,0.6473899466155595,0.06738395979065714,-0.08160811228930417,-0.2483377690168238,-0.7174859673964441,-1.0518316528892424],\"yaxis\":\"y6\"},{\"hovertemplate\":\"<b>%{hovertext}</b><br><br>region=Central and Eastern Europe<br>year=2017<br>gdp_std=%{x}<br>score_std=%{y}<extra></extra>\",\"hovertext\":[\"Czech Republic\",\"Slovakia\",\"Poland\",\"Uzbekistan\",\"Russia\",\"Lithuania\",\"Latvia\",\"Moldova\",\"Romania\",\"Turkmenistan\",\"Kazakhstan\",\"Slovenia\",\"Estonia\",\"Belarus\",\"Serbia\",\"Hungary\",\"Croatia\",\"Kosovo\",\"Montenegro\",\"Azerbaijan\",\"Bosnia and Herzegovina\",\"Macedonia\",\"Tajikistan\",\"Kyrgyzstan\",\"Bulgaria\",\"Albania\",\"Armenia\",\"Georgia\",\"Ukraine\"],\"ids\":[\"Czech Republic\",\"Slovakia\",\"Poland\",\"Uzbekistan\",\"Russia\",\"Lithuania\",\"Latvia\",\"Moldova\",\"Romania\",\"Turkmenistan\",\"Kazakhstan\",\"Slovenia\",\"Estonia\",\"Belarus\",\"Serbia\",\"Hungary\",\"Croatia\",\"Kosovo\",\"Montenegro\",\"Azerbaijan\",\"Bosnia and Herzegovina\",\"Macedonia\",\"Tajikistan\",\"Kyrgyzstan\",\"Bulgaria\",\"Albania\",\"Armenia\",\"Georgia\",\"Ukraine\"],\"legendgroup\":\"Central and Eastern Europe\",\"marker\":{\"color\":\"#FF6692\",\"symbol\":\"circle\"},\"mode\":\"markers\",\"name\":\"Central and Eastern Europe\",\"orientation\":\"v\",\"showlegend\":true,\"type\":\"scatter\",\"x\":[0.8772892149229675,0.8122280814984802,0.7321063800331228,-0.4727264152127727,0.7082413927686105,0.7864523152154357,0.6581035492406584,-0.6099841939642577,0.5554299351761676,0.34822849008593504,0.7148650304504117,0.8499275295201832,0.8014654168088929,0.4096943017816304,0.20169932612273,0.7183355813925028,0.5670463808032284,-0.079235087902709,0.32522666546920626,0.4026471853788571,-0.005504534132063012,0.19039921221713524,-1.0967292473087702,-0.9262457111506226,0.4213803794878075,0.02735728443967029,-0.20055989968962115,-0.08131341210811452,-0.21473328933481453],\"xaxis\":\"x7\",\"y\":[1.1129909656041743,0.6598059174434854,0.5489485520299099,0.5471749627778372,0.5400797597061311,0.4859814797891074,0.4398647758684079,0.4292223942925557,0.4176932176472367,0.4150328342125563,0.4123720268593102,0.3582737478291455,0.22790563154764415,0.1906572960321592,0.036344033164272926,-0.02662303818967286,-0.05411536416706385,-0.0665317580266972,-0.1037796696236164,-0.10644005394515578,-0.15255675875271352,-0.15876474372324692,-0.27760410727799506,-0.3104176231564544,-0.56760667721531,-0.6296869543866473,-0.8673652566907192,-0.9471826954779086,-1.115685518425795],\"yaxis\":\"y7\"},{\"hovertemplate\":\"<b>%{hovertext}</b><br><br>region=Eastern Asia<br>year=2017<br>gdp_std=%{x}<br>score_std=%{y}<extra></extra>\",\"hovertext\":[\"Taiwan Province of China\",\"Japan\",\"South Korea\",\"Hong Kong S.A.R., China\",\"China\",\"Mongolia\"],\"ids\":[\"Taiwan Province of China\",\"Japan\",\"South Korea\",\"Hong Kong S.A.R., China\",\"China\",\"Mongolia\"],\"legendgroup\":\"Eastern Asia\",\"marker\":{\"color\":\"#B6E880\",\"symbol\":\"circle\"},\"mode\":\"markers\",\"name\":\"Eastern Asia\",\"orientation\":\"v\",\"showlegend\":true,\"type\":\"scatter\",\"x\":[1.070273930919463,1.030431213892138,0.9941042421399764,1.3517212109804744,0.22994748182259775,0.10136935389222396],\"xaxis\":\"x8\",\"y\":[0.9471481030592616,0.5019450521528862,0.4292223942925557,0.10463229530614288,-0.07185294881462295,-0.3538739436424728],\"yaxis\":\"y8\"},{\"hovertemplate\":\"<b>%{hovertext}</b><br><br>region=Sub-Saharan Africa<br>year=2017<br>gdp_std=%{x}<br>score_std=%{y}<extra></extra>\",\"hovertext\":[\"Mauritius\",\"Somalia\",\"Nigeria\",\"South Africa\",\"Sierra Leone\",\"Cameroon\",\"Namibia\",\"Kenya\",\"Mozambique\",\"Senegal\",\"Zambia\",\"Gabon\",\"Ethiopia\",\"Mauritania\",\"Congo (Brazzaville)\",\"Congo (Kinshasa)\",\"Mali\",\"Ivory Coast\",\"Sudan\",\"Ghana\",\"Uganda\",\"Burkina Faso\",\"Niger\",\"Malawi\",\"Chad\",\"Zimbabwe\",\"Lesotho\",\"Angola\",\"Botswana\",\"Benin\",\"Madagascar\",\"South Sudan\",\"Liberia\",\"Guinea\",\"Togo\",\"Rwanda\",\"Tanzania\",\"Burundi\",\"Central African Republic\"],\"ids\":[\"Mauritius\",\"Somalia\",\"Nigeria\",\"South Africa\",\"Sierra Leone\",\"Cameroon\",\"Namibia\",\"Kenya\",\"Mozambique\",\"Senegal\",\"Zambia\",\"Gabon\",\"Ethiopia\",\"Mauritania\",\"Congo (Brazzaville)\",\"Congo (Kinshasa)\",\"Mali\",\"Ivory Coast\",\"Sudan\",\"Ghana\",\"Uganda\",\"Burkina Faso\",\"Niger\",\"Malawi\",\"Chad\",\"Zimbabwe\",\"Lesotho\",\"Angola\",\"Botswana\",\"Benin\",\"Madagascar\",\"South Sudan\",\"Liberia\",\"Guinea\",\"Togo\",\"Rwanda\",\"Tanzania\",\"Burundi\",\"Central African Republic\"],\"legendgroup\":\"Sub-Saharan Africa\",\"marker\":{\"color\":\"#FF97FF\",\"symbol\":\"circle\"},\"mode\":\"markers\",\"name\":\"Sub-Saharan Africa\",\"orientation\":\"v\",\"showlegend\":true,\"type\":\"scatter\",\"x\":[0.4879856565992372,-2.293750728030988,-0.4791275120503367,0.16684544262869788,-1.4693576822018692,-1.002335818708141,-0.04836021543954176,-1.0114574231862334,-1.7891113532978271,-1.2049815791809746,-0.8304337655669062,0.5090013838720425,-1.5389446623518794,-0.8017032969744459,-0.4190273555128237,-2.1281482466014867,-1.2124405228642403,-0.9099645814062982,-0.7753357963007927,-0.7569582965657163,-1.4383401362168753,-1.5127334058976611,-1.961678363469327,-1.7911703514184107,-1.3034383612226177,-1.4516537725778793,-1.1055325292831577,-0.3010969251937982,0.3275276711848997,-1.3199548896418536,-1.6186359185505144,-1.4006275418798857,-2.0639200230872667,-1.7646872447088653,-1.6195036993362582,-1.468582912669652,-1.1291009376775176,-2.1292921238499427,-2.3477359358558267],\"xaxis\":\"x9\",\"y\":[0.24386920391142375,-0.18004950687495305,-0.2483377690168238,-0.4656181041255141,-0.5720410729337707,-0.5844570437616965,-0.6917672306711257,-0.7103911873564439,-0.7130515707911242,-0.7263547597202236,-0.7449787155186836,-0.7884346129729951,-0.7928690095783141,-0.941861504689982,-0.9427482997594481,-0.9525034632341284,-1.032320902021318,-1.0411896943450976,-1.0775508117594101,-1.0944011783057963,-1.1289887073548934,-1.172444604809206,-1.1759922063450587,-1.2274298899812606,-1.257583022425039,-1.3116815134144866,-1.3711009832325778,-1.3826301598778967,-1.4083491076756391,-1.5050167010499322,-1.5165458776952512,-1.5635493766854165,-1.6149872722809004,-1.6380456246846793,-1.6486880053736732,-1.669972557452955,-1.7781693274725674,-2.171934694742741,-2.35994869159026],\"yaxis\":\"y9\"},{\"hovertemplate\":\"<b>%{hovertext}</b><br><br>region=Southern Asia<br>year=2017<br>gdp_std=%{x}<br>score_std=%{y}<extra></extra>\",\"hovertext\":[\"Pakistan\",\"Bhutan\",\"Nepal\",\"Bangladesh\",\"Sri Lanka\",\"India\",\"Afghanistan\"],\"ids\":[\"Pakistan\",\"Bhutan\",\"Nepal\",\"Bangladesh\",\"Sri Lanka\",\"India\",\"Afghanistan\"],\"legendgroup\":\"Southern Asia\",\"marker\":{\"color\":\"#FECB52\",\"symbol\":\"circle\"},\"mode\":\"markers\",\"name\":\"Southern Asia\",\"orientation\":\"v\",\"showlegend\":true,\"type\":\"scatter\",\"x\":[-0.6147217764740114,-0.2367524376126703,-1.2037628628253674,-0.9489837845386886,0.0599188310613861,-0.45894552914742,-1.3905458582294568],\"xaxis\":\"x10\",\"y\":[-0.07540012731876998,-0.30420963818592023,-0.3476659586719393,-0.6616140982273467,-0.8106061711941671,-0.9214635366077426,-1.3835171660197865],\"yaxis\":\"y10\"}],\"name\":\"2017\"},{\"data\":[{\"hovertemplate\":\"<b>%{hovertext}</b><br><br>region=Western Europe<br>year=2018<br>gdp_std=%{x}<br>score_std=%{y}<extra></extra>\",\"hovertext\":[\"Finland\",\"Norway\",\"Denmark\",\"Iceland\",\"Switzerland\",\"Netherlands\",\"Sweden\",\"United Kingdom\",\"Austria\",\"Ireland\",\"Germany\",\"Belgium\",\"Luxembourg\",\"Malta\",\"France\",\"Spain\",\"Italy\",\"Cyprus\",\"Portugal\",\"Greece\"],\"ids\":[\"Finland\",\"Norway\",\"Denmark\",\"Iceland\",\"Switzerland\",\"Netherlands\",\"Sweden\",\"United Kingdom\",\"Austria\",\"Ireland\",\"Germany\",\"Belgium\",\"Luxembourg\",\"Malta\",\"France\",\"Spain\",\"Italy\",\"Cyprus\",\"Portugal\",\"Greece\"],\"legendgroup\":\"Western Europe\",\"marker\":{\"color\":\"#636efa\",\"symbol\":\"circle\"},\"mode\":\"markers\",\"name\":\"Western Europe\",\"orientation\":\"v\",\"showlegend\":true,\"type\":\"scatter\",\"x\":[1.0585889211280433,1.4451115460790958,1.1763375353515428,1.155859515486587,1.352960456686792,1.2019350601827383,1.1865765452840211,0.9024440196577508,1.1507400105203474,1.42463352621414,1.148180258037228,1.1072242183073149,1.7522818440534418,0.9689975842188592,1.0278718913306086,0.9203622870395874,0.953639069320142,0.8640477324109578,0.7590978806030558,0.672066296176991],\"xaxis\":\"x\",\"y\":[2.02173960545946,1.987686738762397,1.9527377439943627,1.8989700597358468,1.8918010351680448,1.8505791439031818,1.7367708788893228,1.6256509980883895,1.5799484664686492,1.4347757189706567,1.4240221821189532,1.3899693154218933,1.3747351382153137,1.121130894129313,0.9974652203347242,0.8370582956301504,0.5592585936278168,0.3459801127357027,0.03054303175240707,-0.01605562793830746],\"yaxis\":\"y\"},{\"hovertemplate\":\"<b>%{hovertext}</b><br><br>region=North America<br>year=2018<br>gdp_std=%{x}<br>score_std=%{y}<extra></extra>\",\"hovertext\":[\"Canada\",\"United States\"],\"ids\":[\"Canada\",\"United States\"],\"legendgroup\":\"North America\",\"marker\":{\"color\":\"#EF553B\",\"symbol\":\"circle\"},\"mode\":\"markers\",\"name\":\"North America\",\"orientation\":\"v\",\"showlegend\":true,\"type\":\"scatter\",\"x\":[1.1225827332060323,1.2966459020581615],\"xaxis\":\"x2\",\"y\":[1.7493166718829751,1.353228064511907],\"yaxis\":\"y2\"},{\"hovertemplate\":\"<b>%{hovertext}</b><br><br>region=Australia and New Zealand<br>year=2018<br>gdp_std=%{x}<br>score_std=%{y}<extra></extra>\",\"hovertext\":[\"New Zealand\",\"Australia\"],\"ids\":[\"New Zealand\",\"Australia\"],\"legendgroup\":\"Australia and New Zealand\",\"marker\":{\"color\":\"#00cc96\",\"symbol\":\"circle\"},\"mode\":\"markers\",\"name\":\"Australia and New Zealand\",\"orientation\":\"v\",\"showlegend\":true,\"type\":\"scatter\",\"x\":[0.96387807925262,1.148180258037228],\"xaxis\":\"x3\",\"y\":[1.7457321595990754,1.6991334999083616],\"yaxis\":\"y3\"},{\"hovertemplate\":\"<b>%{hovertext}</b><br><br>region=Middle East and Northern Africa<br>year=2018<br>gdp_std=%{x}<br>score_std=%{y}<extra></extra>\",\"hovertext\":[\"Israel\",\"United Arab Emirates\",\"Qatar\",\"Saudi Arabia\",\"Bahrain\",\"Kuwait\",\"Northern Cyprus\",\"Libya\",\"Turkey\",\"Lebanon\",\"Algeria\",\"Morocco\",\"Jordan\",\"Palestinian Territories\",\"Iran\",\"Tunisia\",\"Iraq\",\"Egypt\",\"Syria\",\"Yemen\"],\"ids\":[\"Israel\",\"United Arab Emirates\",\"Qatar\",\"Saudi Arabia\",\"Bahrain\",\"Kuwait\",\"Northern Cyprus\",\"Libya\",\"Turkey\",\"Lebanon\",\"Algeria\",\"Morocco\",\"Jordan\",\"Palestinian Territories\",\"Iran\",\"Tunisia\",\"Iraq\",\"Egypt\",\"Syria\",\"Yemen\"],\"legendgroup\":\"Middle East and Northern Africa\",\"marker\":{\"color\":\"#ab63fa\",\"symbol\":\"circle\"},\"mode\":\"markers\",\"name\":\"Middle East and Northern Africa\",\"orientation\":\"v\",\"showlegend\":true,\"type\":\"scatter\",\"x\":[1.0483499111955652,3.0833531352756096,1.939143775321169,1.2480106048788904,1.1430607530709889,1.4911870907752478,0.8640477324109578,0.2394681265297868,0.6567077812782736,0.18827307686739567,0.2241096116310695,-0.28784088499284083,-0.17777152821870004,-0.6385269751802195,0.4288898102806341,0.02188916546462497,0.30346193860777565,-0.016507121782168347,-0.5182186084736005,-1.15047747180413],\"xaxis\":\"x4\",\"y\":[1.2887068434016873,1.2528617205626764,0.8944104921725679,0.8917221079596427,0.6533520410802206,0.6336372235187628,0.4113974619168971,0.17033901082454905,0.0959603809336014,-0.01605562793830746,-0.07251169640974928,-0.10925294731973573,-0.1925928579204351,-0.5671743915880985,-0.5994350021432087,-0.702489730305365,-0.8243631479580011,-0.8575198865840871,-1.7151144505074207,-1.8110001541017748],\"yaxis\":\"y4\"},{\"hovertemplate\":\"<b>%{hovertext}</b><br><br>region=Latin America and Caribbean<br>year=2018<br>gdp_std=%{x}<br>score_std=%{y}<extra></extra>\",\"hovertext\":[\"Costa Rica\",\"Mexico\",\"Chile\",\"Panama\",\"Brazil\",\"Argentina\",\"Guatemala\",\"Uruguay\",\"Colombia\",\"Trinidad & Tobago\",\"El Salvador\",\"Nicaragua\",\"Ecuador\",\"Belize\",\"Jamaica\",\"Bolivia\",\"Paraguay\",\"Peru\",\"Honduras\",\"Dominican Republic\",\"Venezuela\",\"Haiti\"],\"ids\":[\"Costa Rica\",\"Mexico\",\"Chile\",\"Panama\",\"Brazil\",\"Argentina\",\"Guatemala\",\"Uruguay\",\"Colombia\",\"Trinidad & Tobago\",\"El Salvador\",\"Nicaragua\",\"Ecuador\",\"Belize\",\"Jamaica\",\"Bolivia\",\"Paraguay\",\"Peru\",\"Honduras\",\"Dominican Republic\",\"Venezuela\",\"Haiti\"],\"legendgroup\":\"Latin America and Caribbean\",\"marker\":{\"color\":\"#FFA15A\",\"symbol\":\"circle\"},\"mode\":\"markers\",\"name\":\"Latin America and Caribbean\",\"orientation\":\"v\",\"showlegend\":true,\"type\":\"scatter\",\"x\":[0.30346193860777565,0.3751350081351232,0.6131919890652414,0.5645566918859702,0.2420278790129064,0.4647263450443073,-0.282721380026602,0.5159213947066984,0.17547431445179795,0.8486892175122405,-0.21872756794861314,-0.5719734106191113,-0.006268111849690129,-0.2161678154654933,-0.18545078566805864,-0.35951395452018864,-0.14449474593814607,0.10892074989068982,-0.6948415298088497,0.2317888690804281,0.2676254038441019,-1.4755660371603132],\"xaxis\":\"x5\",\"y\":[1.5199078857133073,0.9965690922637492,0.9858155554120456,0.944593664147183,0.934736255366455,0.9069562851662218,0.9015795167403716,0.8988911325274441,0.792251892081387,0.7313151832550691,0.7089119814806885,0.68561265163533,0.5350631357114843,0.5198289585049052,0.4606845058205367,0.337018832025951,0.2733937389867054,0.2572634337091491,0.11477907042408203,-0.06623879991292188,-0.5107183231166567,-1.6075790819903883],\"yaxis\":\"y5\"},{\"hovertemplate\":\"<b>%{hovertext}</b><br><br>region=Southeastern Asia<br>year=2018<br>gdp_std=%{x}<br>score_std=%{y}<extra></extra>\",\"hovertext\":[\"Singapore\",\"Malaysia\",\"Thailand\",\"Philippines\",\"Vietnam\",\"Indonesia\",\"Laos\",\"Cambodia\",\"Myanmar\"],\"ids\":[\"Singapore\",\"Malaysia\",\"Thailand\",\"Philippines\",\"Vietnam\",\"Indonesia\",\"Laos\",\"Cambodia\",\"Myanmar\"],\"legendgroup\":\"Southeastern Asia\",\"marker\":{\"color\":\"#19d3f3\",\"symbol\":\"circle\"},\"mode\":\"markers\",\"name\":\"Southeastern Asia\",\"orientation\":\"v\",\"showlegend\":true,\"type\":\"scatter\",\"x\":[1.6319734773468233,0.6899845635588281,0.31882045350649296,-0.29807989492531906,-0.4516650439124923,0.019329412981505416,-0.43886628149689455,-0.876583956110338,-0.5361368758554373],\"xaxis\":\"x6\",\"y\":[0.8666305219723347,0.8478118324818541,0.6237798147380363,0.13270163184358785,-0.24456828603700145,-0.25352956674675403,-0.6747097601051311,-0.8449740935904329,-0.9569901024623416],\"yaxis\":\"y6\"},{\"hovertemplate\":\"<b>%{hovertext}</b><br><br>region=Central and Eastern Europe<br>year=2018<br>gdp_std=%{x}<br>score_std=%{y}<extra></extra>\",\"hovertext\":[\"Czech Republic\",\"Slovakia\",\"Poland\",\"Uzbekistan\",\"Lithuania\",\"Slovenia\",\"Romania\",\"Latvia\",\"Russia\",\"Kazakhstan\",\"Estonia\",\"Kosovo\",\"Moldova\",\"Turkmenistan\",\"Hungary\",\"Belarus\",\"Serbia\",\"Montenegro\",\"Croatia\",\"Azerbaijan\",\"Tajikistan\",\"Macedonia\",\"Kyrgyzstan\",\"Bosnia and Herzegovina\",\"Bulgaria\",\"Albania\",\"Georgia\",\"Armenia\",\"Ukraine\"],\"ids\":[\"Czech Republic\",\"Slovakia\",\"Poland\",\"Uzbekistan\",\"Lithuania\",\"Slovenia\",\"Romania\",\"Latvia\",\"Russia\",\"Kazakhstan\",\"Estonia\",\"Kosovo\",\"Moldova\",\"Turkmenistan\",\"Hungary\",\"Belarus\",\"Serbia\",\"Montenegro\",\"Croatia\",\"Azerbaijan\",\"Tajikistan\",\"Macedonia\",\"Kyrgyzstan\",\"Bosnia and Herzegovina\",\"Bulgaria\",\"Albania\",\"Georgia\",\"Armenia\",\"Ukraine\"],\"legendgroup\":\"Central and Eastern Europe\",\"marker\":{\"color\":\"#FF6692\",\"symbol\":\"circle\"},\"mode\":\"markers\",\"name\":\"Central and Eastern Europe\",\"orientation\":\"v\",\"showlegend\":true,\"type\":\"scatter\",\"x\":[0.8742867423434361,0.8154124352316859,0.7283808508056211,-0.4414260339800138,0.7821356529511321,0.8384502075797623,0.5747957018184484,0.6567077812782736,0.6643870387276326,0.6439090188626762,0.7898149104004905,-0.09329969627575498,-0.6001306879334262,0.31882045350649296,0.7155820883900237,0.3776947606182425,0.21387060169859126,0.32138020598961226,0.5722359493353286,0.3392984733714494,-1.0685653923443044,0.17291456196867838,-0.9252192532896092,0.06028545271141829,0.416091047865036,0.06284520519453785,-0.09841920124199408,-0.1931300431174176,-0.2520043502291673],\"xaxis\":\"x7\",\"y\":[1.1964056520912347,0.7142887499065379,0.6694823463577737,0.6452868884414429,0.5162444462210045,0.5126599339371031,0.5099715497241771,0.4992180128724735,0.388994260142515,0.3710716987230099,0.32536916710327096,0.25636730563817595,0.23665248807671896,0.2330679757928183,0.21872992665721394,0.0959603809336014,0.01978949490070341,-0.02591303671903475,-0.04921236656439082,-0.15674773508142426,-0.15853999122337534,-0.17108578421702936,-0.21947670004969344,-0.22126895619164455,-0.3969100581027975,-0.7078664987312159,-0.9283140041911332,-0.9453404375396618,-1.1406963570122723],\"yaxis\":\"y7\"},{\"hovertemplate\":\"<b>%{hovertext}</b><br><br>region=Eastern Asia<br>year=2018<br>gdp_std=%{x}<br>score_std=%{y}<extra></extra>\",\"hovertext\":[\"Taiwan\",\"Japan\",\"South Korea\",\"Hong Kong\",\"China\",\"Mongolia\"],\"ids\":[\"Taiwan\",\"Japan\",\"South Korea\",\"Hong Kong\",\"China\",\"Mongolia\"],\"legendgroup\":\"Eastern Asia\",\"marker\":{\"color\":\"#B6E880\",\"symbol\":\"circle\"},\"mode\":\"markers\",\"name\":\"Eastern Asia\",\"orientation\":\"v\",\"showlegend\":true,\"type\":\"scatter\",\"x\":[1.2121740701152166,1.0304316438137286,0.958758574286381,1.3145641694399988,0.24970713646226506,0.057725700228298725],\"xaxis\":\"x8\",\"y\":[0.9544510729279112,0.4830877075949188,0.447242584755908,0.0484655931719121,-0.1164219718875371,-0.22485346847554527],\"yaxis\":\"y8\"},{\"hovertemplate\":\"<b>%{hovertext}</b><br><br>region=Sub-Saharan Africa<br>year=2018<br>gdp_std=%{x}<br>score_std=%{y}<extra></extra>\",\"hovertext\":[\"Mauritius\",\"Nigeria\",\"Somalia\",\"Cameroon\",\"Gabon\",\"South Africa\",\"Ivory Coast\",\"Ghana\",\"Senegal\",\"Sierra Leone\",\"Congo (Brazzaville)\",\"Mali\",\"Namibia\",\"Burkina Faso\",\"Mozambique\",\"Kenya\",\"Zambia\",\"Mauritania\",\"Ethiopia\",\"Chad\",\"Congo (Kinshasa)\",\"Niger\",\"Uganda\",\"Benin\",\"Sudan\",\"Togo\",\"Guinea\",\"Lesotho\",\"Angola\",\"Madagascar\",\"Zimbabwe\",\"Botswana\",\"Malawi\",\"Liberia\",\"Rwanda\",\"Tanzania\",\"South Sudan\",\"Central African Republic\",\"Burundi\"],\"ids\":[\"Mauritius\",\"Nigeria\",\"Somalia\",\"Cameroon\",\"Gabon\",\"South Africa\",\"Ivory Coast\",\"Ghana\",\"Senegal\",\"Sierra Leone\",\"Congo (Brazzaville)\",\"Mali\",\"Namibia\",\"Burkina Faso\",\"Mozambique\",\"Kenya\",\"Zambia\",\"Mauritania\",\"Ethiopia\",\"Chad\",\"Congo (Kinshasa)\",\"Niger\",\"Uganda\",\"Benin\",\"Sudan\",\"Togo\",\"Guinea\",\"Lesotho\",\"Angola\",\"Madagascar\",\"Zimbabwe\",\"Botswana\",\"Malawi\",\"Liberia\",\"Rwanda\",\"Tanzania\",\"South Sudan\",\"Central African Republic\",\"Burundi\"],\"legendgroup\":\"Sub-Saharan Africa\",\"marker\":{\"color\":\"#FF97FF\",\"symbol\":\"circle\"},\"mode\":\"markers\",\"name\":\"Sub-Saharan Africa\",\"orientation\":\"v\",\"showlegend\":true,\"type\":\"scatter\",\"x\":[0.50824213725734,-0.5182186084736005,-2.2818880693429717,-0.9124204908740116,0.3700155031688841,0.12427926478940685,-0.8970619759752942,-0.7665145993361969,-1.1837542540846842,-1.6265914336643663,-0.5361368758554373,-1.3347796505887377,-0.04466439909648316,-1.4781257896434328,-1.7750570776853003,-1.0199300951650327,-0.8433071738297836,-0.8561059362453813,-1.4934843045421502,-1.3654966803861723,-2.1052651480077227,-1.9465604940543104,-1.4576477697784764,-1.3143016307237814,-0.7332378170556431,-1.6189121762150083,-1.401333215149846,-1.0736848973105435,-0.41326875666569896,-1.6112329187656491,-1.3680564328692917,0.32138020598961226,-1.8057741074827351,-2.087346880625886,-1.4320502449472807,-1.1172006895235758,-1.4192514825316829,-2.2204540097481025,-2.048950593379093],\"xaxis\":\"x9\",\"y\":[0.4615806338915122,-0.19796962634628693,-0.3529997826250088,-0.35927267912183625,-0.5537324705234697,-0.5842008249366287,-0.6316956126983181,-0.6442414056919721,-0.667540735537329,-0.7213084197958441,-0.7320619566475485,-0.8324283005967789,-0.8378050690226307,-0.8530392462292099,-0.8593121427260373,-0.8655850392228639,-0.8951572655650482,-0.9139759550555288,-0.9193527234813804,-0.9632629989591684,-1.0134461709337836,-1.0842402885408298,-1.088720928895706,-1.1066434903152118,-1.1084357464571637,-1.2338936763937003,-1.2652581588778349,-1.4050541379499772,-1.4167038028726555,-1.4355224923631362,-1.5090049941831083,-1.6004100574225864,-1.603098441635512,-1.6855422241652367,-1.7635053663400857,-1.8575988137924888,-1.9015090892702766,-2.0547469894070485,-2.2142577860406467],\"yaxis\":\"y9\"},{\"hovertemplate\":\"<b>%{hovertext}</b><br><br>region=Southern Asia<br>year=2018<br>gdp_std=%{x}<br>score_std=%{y}<extra></extra>\",\"hovertext\":[\"Pakistan\",\"Bhutan\",\"Nepal\",\"Bangladesh\",\"Sri Lanka\",\"India\",\"Afghanistan\"],\"ids\":[\"Pakistan\",\"Bhutan\",\"Nepal\",\"Bangladesh\",\"Sri Lanka\",\"India\",\"Afghanistan\"],\"legendgroup\":\"Southern Asia\",\"marker\":{\"color\":\"#FECB52\",\"symbol\":\"circle\"},\"mode\":\"markers\",\"name\":\"Southern Asia\",\"orientation\":\"v\",\"showlegend\":true,\"type\":\"scatter\",\"x\":[-0.6129294503490239,-0.2443250927798087,-1.1939932640171624,-0.9200997483233702,0.06796471016077693,-0.436306529013775,-1.4320502449472807],\"xaxis\":\"x10\",\"y\":[0.08610297215287413,-0.2633869755274821,-0.4444048458644868,-0.7849335128350896,-0.8109212268933724,-1.0627332148374231,-1.5627726784416247],\"yaxis\":\"y10\"}],\"name\":\"2018\"},{\"data\":[{\"hovertemplate\":\"<b>%{hovertext}</b><br><br>region=Western Europe<br>year=2019<br>gdp_std=%{x}<br>score_std=%{y}<extra></extra>\",\"hovertext\":[\"Finland\",\"Denmark\",\"Norway\",\"Iceland\",\"Netherlands\",\"Switzerland\",\"Sweden\",\"Austria\",\"Luxembourg\",\"United Kingdom\",\"Ireland\",\"Germany\",\"Belgium\",\"Malta\",\"France\",\"Spain\",\"Italy\",\"Cyprus\",\"Portugal\",\"Greece\"],\"ids\":[\"Finland\",\"Denmark\",\"Norway\",\"Iceland\",\"Netherlands\",\"Switzerland\",\"Sweden\",\"Austria\",\"Luxembourg\",\"United Kingdom\",\"Ireland\",\"Germany\",\"Belgium\",\"Malta\",\"France\",\"Spain\",\"Italy\",\"Cyprus\",\"Portugal\",\"Greece\"],\"legendgroup\":\"Western Europe\",\"marker\":{\"color\":\"#636efa\",\"symbol\":\"circle\"},\"mode\":\"markers\",\"name\":\"Western Europe\",\"orientation\":\"v\",\"showlegend\":true,\"type\":\"scatter\",\"x\":[1.0950416570576833,1.203323854612748,1.467733871898372,1.1957692826903012,1.2360603329433488,1.3770790088290148,1.213396617176009,1.1856965201270395,1.7724349394370429,1.0774143225719752,1.4954339689473417,1.1781419482045938,1.1353327073107309,0.9943140314250648,1.054750606804636,0.9590593624536482,0.979204887580172,0.9011409777148922,0.7953769708006432,0.6946493451680246],\"xaxis\":\"x\",\"y\":[2.1287111190306165,1.9763966293014936,1.934938247481732,1.8808620972820445,1.8754544822620745,1.8682443289021176,1.7447704526128291,1.6573473431233332,1.5167493526041431,1.4843036624843289,1.4545617798745012,1.4221160897546885,1.3662374012150096,1.1886873747260336,1.06791730594673,0.8534152434879658,0.735348982218646,0.5758243391295657,0.2576763221213986,-0.10823896089649156],\"yaxis\":\"y\"},{\"hovertemplate\":\"<b>%{hovertext}</b><br><br>region=North America<br>year=2019<br>gdp_std=%{x}<br>score_std=%{y}<extra></extra>\",\"hovertext\":[\"Canada\",\"United States\"],\"ids\":[\"Canada\",\"United States\"],\"legendgroup\":\"North America\",\"marker\":{\"color\":\"#EF553B\",\"symbol\":\"circle\"},\"mode\":\"markers\",\"name\":\"North America\",\"orientation\":\"v\",\"showlegend\":true,\"type\":\"scatter\",\"x\":[1.1579964230780695,1.3292333866535213],\"xaxis\":\"x2\",\"y\":[1.686187956563166,1.3382980569451717],\"yaxis\":\"y2\"},{\"hovertemplate\":\"<b>%{hovertext}</b><br><br>region=Australia and New Zealand<br>year=2019<br>gdp_std=%{x}<br>score_std=%{y}<extra></extra>\",\"hovertext\":[\"New Zealand\",\"Australia\"],\"ids\":[\"New Zealand\",\"Australia\"],\"legendgroup\":\"Australia and New Zealand\",\"marker\":{\"color\":\"#00cc96\",\"symbol\":\"circle\"},\"mode\":\"markers\",\"name\":\"Australia and New Zealand\",\"orientation\":\"v\",\"showlegend\":true,\"type\":\"scatter\",\"x\":[1.0018686033475113,1.1756237575637782],\"xaxis\":\"x3\",\"y\":[1.7123247624930162,1.641124498063426],\"yaxis\":\"y3\"},{\"hovertemplate\":\"<b>%{hovertext}</b><br><br>region=Middle East and Northern Africa<br>year=2019<br>gdp_std=%{x}<br>score_std=%{y}<extra></extra>\",\"hovertext\":[\"Israel\",\"United Arab Emirates\",\"Saudi Arabia\",\"Qatar\",\"Bahrain\",\"Kuwait\",\"Northern Cyprus\",\"Libya\",\"Turkey\",\"Algeria\",\"Morocco\",\"Lebanon\",\"Jordan\",\"Palestinian Territories\",\"Iran\",\"Tunisia\",\"Iraq\",\"Egypt\",\"Syria\",\"Yemen\"],\"ids\":[\"Israel\",\"United Arab Emirates\",\"Saudi Arabia\",\"Qatar\",\"Bahrain\",\"Kuwait\",\"Northern Cyprus\",\"Libya\",\"Turkey\",\"Algeria\",\"Morocco\",\"Lebanon\",\"Jordan\",\"Palestinian Territories\",\"Iran\",\"Tunisia\",\"Iraq\",\"Egypt\",\"Syria\",\"Yemen\"],\"legendgroup\":\"Middle East and Northern Africa\",\"marker\":{\"color\":\"#ab63fa\",\"symbol\":\"circle\"},\"mode\":\"markers\",\"name\":\"Middle East and Northern Africa\",\"orientation\":\"v\",\"showlegend\":true,\"type\":\"scatter\",\"x\":[0.9338774560454934,1.5055067315106034,1.2536876674290574,1.9612992374982028,1.1504418511556236,1.4979521595881573,0.9011409777148922,0.3496572273763061,0.6996857264496554,0.2438932204620565,-0.2622630983418518,0.2061203608498245,-0.17160823527249475,-0.6248825506192783,0.4906759032619722,0.039919778556004065,0.3471390367354903,0.01977425342948033,-0.720573794970266,-1.5566130877209998],\"xaxis\":\"x4\",\"y\":[1.560911541933887,1.2779130225555195,0.8723418960578566,0.8714406268878615,0.7137185221387706,0.5532926098796952,0.2802080513712691,0.10626310156227184,-0.030729812276940383,-0.17673541781609728,-0.1794392253260834,-0.1893531861960248,-0.451622514664512,-0.6408890403634213,-0.7742768775226541,-0.8526872953122018,-0.8743177553920771,-1.1185617004606696,-1.753055196137013,-1.8269592680765876],\"yaxis\":\"y4\"},{\"hovertemplate\":\"<b>%{hovertext}</b><br><br>region=Latin America and Caribbean<br>year=2019<br>gdp_std=%{x}<br>score_std=%{y}<extra></extra>\",\"hovertext\":[\"Costa Rica\",\"Mexico\",\"Chile\",\"Guatemala\",\"Panama\",\"Brazil\",\"Uruguay\",\"El Salvador\",\"Trinidad & Tobago\",\"Colombia\",\"Nicaragua\",\"Argentina\",\"Ecuador\",\"Jamaica\",\"Honduras\",\"Bolivia\",\"Paraguay\",\"Peru\",\"Dominican Republic\",\"Venezuela\",\"Haiti\"],\"ids\":[\"Costa Rica\",\"Mexico\",\"Chile\",\"Guatemala\",\"Panama\",\"Brazil\",\"Uruguay\",\"El Salvador\",\"Trinidad & Tobago\",\"Colombia\",\"Nicaragua\",\"Argentina\",\"Ecuador\",\"Jamaica\",\"Honduras\",\"Bolivia\",\"Paraguay\",\"Peru\",\"Dominican Republic\",\"Venezuela\",\"Haiti\"],\"legendgroup\":\"Latin America and Caribbean\",\"marker\":{\"color\":\"#FFA15A\",\"symbol\":\"circle\"},\"mode\":\"markers\",\"name\":\"Latin America and Caribbean\",\"orientation\":\"v\",\"showlegend\":true,\"type\":\"scatter\",\"x\":[0.3244753209681514,0.4151301840375081,0.6392491510700843,-0.264781288982667,0.6140672446619296,0.24892960174368745,0.5511124786415433,-0.27989043282755977,0.8205588772087978,0.2010839795681936,-0.5317094969091061,0.4705303781354484,0.01725606278866486,-0.18671737911738784,-0.6626554102315103,-0.32521786436223843,-0.12628080373781667,0.13812921354780694,0.27662969879265725,0.13812921354780694,-1.4659582246516432],\"xaxis\":\"x5\",\"y\":[1.5861470786937444,1.0706211134567138,0.9345294687874982,0.9273193154275398,0.8236733608781385,0.804746708308246,0.7984378241182811,0.7623870573184897,0.7074096379488073,0.6470246035591551,0.6289992201592595,0.6118751059293579,0.5596014940696585,0.43522634861037546,0.40818827351053183,0.3351854707409522,0.30273978062113793,0.26128139880137824,0.016136184562790774,-0.6309750794934799,-1.6313838581877145],\"yaxis\":\"y5\"},{\"hovertemplate\":\"<b>%{hovertext}</b><br><br>region=Southeastern Asia<br>year=2019<br>gdp_std=%{x}<br>score_std=%{y}<extra></extra>\",\"hovertext\":[\"Singapore\",\"Thailand\",\"Philippines\",\"Malaysia\",\"Indonesia\",\"Vietnam\",\"Laos\",\"Cambodia\",\"Myanmar\"],\"ids\":[\"Singapore\",\"Thailand\",\"Philippines\",\"Malaysia\",\"Indonesia\",\"Vietnam\",\"Laos\",\"Cambodia\",\"Myanmar\"],\"legendgroup\":\"Southeastern Asia\",\"marker\":{\"color\":\"#19d3f3\",\"symbol\":\"circle\"},\"mode\":\"markers\",\"name\":\"Southeastern Asia\",\"orientation\":\"v\",\"showlegend\":true,\"type\":\"scatter\",\"x\":[1.6792618857268702,0.3647663712211988,-0.24715395449695876,0.7953769708006432,0.0651016849641587,-0.4133545367907795,-0.3554361520520238,-0.8338923738069619,-0.4914184466560589],\"xaxis\":\"x6\",\"y\":[0.7704984798484442,0.5415761106697621,0.2017976335817212,-0.061372964056762014,-0.1938595320459987,-0.20918110793591072,-0.5507621233639418,-0.6372839636834433,-0.9437154814816772],\"yaxis\":\"y6\"},{\"hovertemplate\":\"<b>%{hovertext}</b><br><br>region=Central and Eastern Europe<br>year=2019<br>gdp_std=%{x}<br>score_std=%{y}<extra></extra>\",\"hovertext\":[\"Czech Republic\",\"Slovakia\",\"Poland\",\"Uzbekistan\",\"Lithuania\",\"Slovenia\",\"Kosovo\",\"Romania\",\"Latvia\",\"Estonia\",\"Kazakhstan\",\"Hungary\",\"Russia\",\"Serbia\",\"Moldova\",\"Montenegro\",\"Tajikistan\",\"Croatia\",\"Bosnia and Herzegovina\",\"Belarus\",\"North Macedonia\",\"Kyrgyzstan\",\"Turkmenistan\",\"Azerbaijan\",\"Bulgaria\",\"Albania\",\"Armenia\",\"Georgia\",\"Ukraine\"],\"ids\":[\"Czech Republic\",\"Slovakia\",\"Poland\",\"Uzbekistan\",\"Lithuania\",\"Slovenia\",\"Kosovo\",\"Romania\",\"Latvia\",\"Estonia\",\"Kazakhstan\",\"Hungary\",\"Russia\",\"Serbia\",\"Moldova\",\"Montenegro\",\"Tajikistan\",\"Croatia\",\"Bosnia and Herzegovina\",\"Belarus\",\"North Macedonia\",\"Kyrgyzstan\",\"Turkmenistan\",\"Azerbaijan\",\"Bulgaria\",\"Albania\",\"Armenia\",\"Georgia\",\"Ukraine\"],\"legendgroup\":\"Central and Eastern Europe\",\"marker\":{\"color\":\"#FF6692\",\"symbol\":\"circle\"},\"mode\":\"markers\",\"name\":\"Central and Eastern Europe\",\"orientation\":\"v\",\"showlegend\":true,\"type\":\"scatter\",\"x\":[0.9162501215597848,0.8583317368210295,0.7576041111884109,-0.4032817742275176,0.8381862116945058,0.8885500245108151,-0.0582896564357991,0.6468037229925304,0.7097584890129174,0.8356680210536906,0.6745038200415008,0.7450131579843333,0.6996857264496554,0.24892960174368745,-0.5543732126764452,0.367284561862014,-1.0378658157130145,0.6291763885068224,0.10035635393557496,0.4075756121150615,0.19604759828656265,-0.8918107585457173,0.3698027525028298,0.3471390367354903,0.4705303781354484,0.10539273521720588,-0.13887175694189402,-0.04821689387253752,-0.214417476166358],\"xaxis\":\"x7\",\"y\":[1.3022472901453794,0.7128172529687763,0.6983969462488594,0.691186792888901,0.6686550636390305,0.6407157193691903,0.6244928743092847,0.5974547992094411,0.4802898071101164,0.43793015612036,0.3622235458407966,0.3162588181710605,0.2171192094716324,0.1765620968218662,0.10986817824225067,0.10446056322228164,0.05398948970257327,0.022445068752754926,-0.019013313067006387,-0.07579327077667891,-0.11995546010642474,-0.13167195931635714,-0.14428972769628384,-0.1794392253260834,-0.35698925181505864,-0.6201598494535434,-0.7643629166527109,-0.8004136834525032,-0.9689510182415322],\"yaxis\":\"y7\"},{\"hovertemplate\":\"<b>%{hovertext}</b><br><br>region=Eastern Asia<br>year=2019<br>gdp_std=%{x}<br>score_std=%{y}<extra></extra>\",\"hovertext\":[\"Taiwan\",\"South Korea\",\"Japan\",\"Hong Kong\",\"Mongolia\",\"China\"],\"ids\":[\"Taiwan\",\"South Korea\",\"Japan\",\"Hong Kong\",\"Mongolia\",\"China\"],\"legendgroup\":\"Eastern Asia\",\"marker\":{\"color\":\"#B6E880\",\"symbol\":\"circle\"},\"mode\":\"markers\",\"name\":\"Eastern Asia\",\"orientation\":\"v\",\"showlegend\":true,\"type\":\"scatter\",\"x\":[1.1655509950005165,0.9968322220658798,1.062305178727082,1.3418243398575989,0.10791092585802134,0.3118843677640738],\"xaxis\":\"x8\",\"y\":[0.9363320071274892,0.4397326944603494,0.4316212719303966,0.02064253041276471,-0.11004149923648178,-0.19476080121599385],\"yaxis\":\"y8\"},{\"hovertemplate\":\"<b>%{hovertext}</b><br><br>region=Sub-Saharan Africa<br>year=2019<br>gdp_std=%{x}<br>score_std=%{y}<extra></extra>\",\"hovertext\":[\"Mauritius\",\"Nigeria\",\"Cameroon\",\"Ghana\",\"Ivory Coast\",\"Benin\",\"Congo (Brazzaville)\",\"Gabon\",\"South Africa\",\"Senegal\",\"Somalia\",\"Namibia\",\"Niger\",\"Burkina Faso\",\"Guinea\",\"Gambia\",\"Kenya\",\"Mauritania\",\"Mozambique\",\"Congo (Kinshasa)\",\"Mali\",\"Sierra Leone\",\"Chad\",\"Ethiopia\",\"Swaziland\",\"Uganda\",\"Zambia\",\"Togo\",\"Liberia\",\"Comoros\",\"Madagascar\",\"Lesotho\",\"Burundi\",\"Zimbabwe\",\"Botswana\",\"Malawi\",\"Rwanda\",\"Tanzania\",\"Central African Republic\",\"South Sudan\"],\"ids\":[\"Mauritius\",\"Nigeria\",\"Cameroon\",\"Ghana\",\"Ivory Coast\",\"Benin\",\"Congo (Brazzaville)\",\"Gabon\",\"South Africa\",\"Senegal\",\"Somalia\",\"Namibia\",\"Niger\",\"Burkina Faso\",\"Guinea\",\"Gambia\",\"Kenya\",\"Mauritania\",\"Mozambique\",\"Congo (Kinshasa)\",\"Mali\",\"Sierra Leone\",\"Chad\",\"Ethiopia\",\"Swaziland\",\"Uganda\",\"Zambia\",\"Togo\",\"Liberia\",\"Comoros\",\"Madagascar\",\"Lesotho\",\"Burundi\",\"Zimbabwe\",\"Botswana\",\"Malawi\",\"Rwanda\",\"Tanzania\",\"Central African Republic\",\"South Sudan\"],\"legendgroup\":\"Sub-Saharan Africa\",\"marker\":{\"color\":\"#FF97FF\",\"symbol\":\"circle\"},\"mode\":\"markers\",\"name\":\"Sub-Saharan Africa\",\"orientation\":\"v\",\"showlegend\":true,\"type\":\"scatter\",\"x\":[0.5410397160782814,-0.5266731156274754,-0.8968471398273485,-0.7407193200967898,-0.8464833270110392,-1.2896848797945606,-0.5845915003662311,0.3823937057069069,0.13812921354780694,-1.1461480132680792,-2.2793338016350377,-0.0658442283582455,-1.931823493202504,-1.4458126995251193,-1.3224213581251616,-1.5037310842638751,-0.9900201935375206,-0.8439651363702237,-1.7656229109086834,-2.0426238813983844,-1.3098304049210845,-1.6044587098964935,-1.3979670773496256,-1.4332217463210422,-0.23708119193369714,-1.4432945088843039,-0.8238196112437001,-1.5868313754107852,-2.095505884855509,-1.5893495660516008,-1.5893495660516008,-1.0479385782762762,-2.1634970321575264,-1.3576760270965782,0.3421026554538594,-1.7983593892392844,-1.3753033615822865,-1.0806750566068772,-2.213860844973836,-1.508767465545506],\"xaxis\":\"x9\",\"y\":[0.43342381027038596,-0.1280668826363783,-0.3272473692052305,-0.3705082893649804,-0.4173742862047108,-0.4723517055743939,-0.5363418166440249,-0.5480583158539573,-0.6174560419435573,-0.6544080779133447,-0.6661245771232771,-0.692261383053128,-0.7021753439230694,-0.7391273798928567,-0.7868946459025814,-0.8031174909624877,-0.8094263751524511,-0.8265504893823525,-0.8481809494622279,-0.8914418696219786,-0.9166774063818336,-0.9310977131017504,-0.9527281731816258,-1.0104094000612929,-1.0771033186409091,-1.0978325095507893,-1.1717365814903633,-1.191564503230249,-1.2907041119296776,-1.2925066502696676,-1.3285574170694598,-1.4466236783387791,-1.4709579459286393,-1.571900092968057,-1.7296221977171484,-1.7999211929767431,-1.8684176498963485,-1.961248374405813,-2.0946362115650445,-2.3019281206638498],\"yaxis\":\"y9\"},{\"hovertemplate\":\"<b>%{hovertext}</b><br><br>region=Southern Asia<br>year=2019<br>gdp_std=%{x}<br>score_std=%{y}<extra></extra>\",\"hovertext\":[\"Pakistan\",\"Bhutan\",\"Nepal\",\"Bangladesh\",\"Sri Lanka\",\"India\",\"Afghanistan\"],\"ids\":[\"Pakistan\",\"Bhutan\",\"Nepal\",\"Bangladesh\",\"Sri Lanka\",\"India\",\"Afghanistan\"],\"legendgroup\":\"Southern Asia\",\"marker\":{\"color\":\"#FECB52\",\"symbol\":\"circle\"},\"mode\":\"markers\",\"name\":\"Southern Asia\",\"orientation\":\"v\",\"showlegend\":true,\"type\":\"scatter\",\"x\":[-0.574518737802969,-0.23204481065206625,-1.1562207758313412,-0.8641106614967472,0.1104291164988368,-0.3780998678193629,-1.3979670773496256],\"xaxis\":\"x10\",\"y\":[0.22162555532160635,-0.2929991407454277,-0.4453136304745495,-0.8571936411621757,-0.9383078664617082,-1.2546533451298858,-1.986483911165668],\"yaxis\":\"y10\"}],\"name\":\"2019\"},{\"data\":[{\"hovertemplate\":\"<b>%{hovertext}</b><br><br>region=Western Europe<br>year=2020<br>gdp_std=%{x}<br>score_std=%{y}<extra></extra>\",\"hovertext\":[\"Finland\",\"Denmark\",\"Switzerland\",\"Iceland\",\"Norway\",\"Netherlands\",\"Sweden\",\"Austria\",\"Luxembourg\",\"United Kingdom\",\"Ireland\",\"Germany\",\"Belgium\",\"Malta\",\"France\",\"Spain\",\"Italy\",\"Cyprus\",\"Portugal\",\"North Cyprus\",\"Greece\"],\"ids\":[\"Finland\",\"Denmark\",\"Switzerland\",\"Iceland\",\"Norway\",\"Netherlands\",\"Sweden\",\"Austria\",\"Luxembourg\",\"United Kingdom\",\"Ireland\",\"Germany\",\"Belgium\",\"Malta\",\"France\",\"Spain\",\"Italy\",\"Cyprus\",\"Portugal\",\"North Cyprus\",\"Greece\"],\"legendgroup\":\"Western Europe\",\"marker\":{\"color\":\"#636efa\",\"symbol\":\"circle\"},\"mode\":\"markers\",\"name\":\"Western Europe\",\"orientation\":\"v\",\"showlegend\":true,\"type\":\"scatter\",\"x\":[1.1218268823728796,1.2343252182924085,1.4062710107149643,1.2331212401214753,1.496339591092636,1.2666472248694085,1.2216276592931077,1.2082930718907885,1.7993291914920446,1.0891529212353117,1.557437740535646,1.1999392443654369,1.1505265841684296,1.0337975794221494,1.0758669037627429,0.9745890148324924,0.99037775720506,0.9268087367870994,0.8082769501769242,0.9268087367870994,0.6985488870788275],\"xaxis\":\"x\",\"y\":[2.1066195231629745,1.959500701408832,1.8821980074239504,1.832226486059,1.8173432466117845,1.7820747475629573,1.6960222409886312,1.6425328170735145,1.5913888046448454,1.525541770802066,1.4616788527594855,1.4455327981014865,1.2540352295448771,1.172222359077202,1.073902567624293,0.836763006793411,0.8245860451598785,0.6185656732222641,0.3947759953496578,0.05615960594092035,0.037668137992444936],\"yaxis\":\"y\"},{\"hovertemplate\":\"<b>%{hovertext}</b><br><br>region=Latin America and Caribbean<br>year=2020<br>gdp_std=%{x}<br>score_std=%{y}<extra></extra>\",\"hovertext\":[\"Costa Rica\",\"Mexico\",\"Uruguay\",\"Guatemala\",\"Brazil\",\"El Salvador\",\"Panama\",\"Chile\",\"Trinidad and Tobago\",\"Colombia\",\"Nicaragua\",\"Argentina\",\"Honduras\",\"Ecuador\",\"Jamaica\",\"Peru\",\"Bolivia\",\"Paraguay\",\"Dominican Republic\",\"Venezuela\",\"Haiti\"],\"ids\":[\"Costa Rica\",\"Mexico\",\"Uruguay\",\"Guatemala\",\"Brazil\",\"El Salvador\",\"Panama\",\"Chile\",\"Trinidad and Tobago\",\"Colombia\",\"Nicaragua\",\"Argentina\",\"Honduras\",\"Ecuador\",\"Jamaica\",\"Peru\",\"Bolivia\",\"Paraguay\",\"Dominican Republic\",\"Venezuela\",\"Haiti\"],\"legendgroup\":\"Latin America and Caribbean\",\"marker\":{\"color\":\"#FFA15A\",\"symbol\":\"circle\"},\"mode\":\"markers\",\"name\":\"Latin America and Caribbean\",\"orientation\":\"v\",\"showlegend\":true,\"type\":\"scatter\",\"x\":[0.3026336263160308,0.4192288512568371,0.5448037811648342,-0.30968878392912,0.2260493300890908,-0.32282270746798525,0.6166454070265529,0.6148258924586498,0.8051539212282626,0.1708866915804995,-0.6700976959965597,0.4302151948585678,-0.7273975633778339,-0.041453833866714064,-0.2416852546130653,0.13410151258265646,-0.37121772034368977,0.07871750724674395,0.30824823170840626,-0.2654455999544886,-1.5733889913637302],\"xaxis\":\"x5\",\"y\":[1.4866646129909535,0.8945823909622438,0.8721222602503277,0.8349591081243014,0.8139420106562735,0.7893171158500263,0.7500795237767326,0.6812556690380854,0.6482418279696301,0.6225347662467301,0.5988118212260455,0.4523244070772943,0.4329309902452702,0.4076746887356471,0.3757434448448708,0.2918561335279165,0.24738663231735794,0.1974151109524076,0.1947991563837752,-0.3788823530065652,-1.5807266402759772],\"yaxis\":\"y5\"},{\"hovertemplate\":\"<b>%{hovertext}</b><br><br>region=Central and Eastern Europe<br>year=2020<br>gdp_std=%{x}<br>score_std=%{y}<extra></extra>\",\"hovertext\":[\"Czech Republic\",\"Slovenia\",\"Kosovo\",\"Slovakia\",\"Lithuania\",\"Poland\",\"Romania\",\"Estonia\",\"Hungary\",\"Latvia\",\"Serbia\",\"Bosnia and Herzegovina\",\"Montenegro\",\"Croatia\",\"Macedonia\",\"Bulgaria\",\"Albania\"],\"ids\":[\"Czech Republic\",\"Slovenia\",\"Kosovo\",\"Slovakia\",\"Lithuania\",\"Poland\",\"Romania\",\"Estonia\",\"Hungary\",\"Latvia\",\"Serbia\",\"Bosnia and Herzegovina\",\"Montenegro\",\"Croatia\",\"Macedonia\",\"Bulgaria\",\"Albania\"],\"legendgroup\":\"Central and Eastern Europe\",\"marker\":{\"color\":\"#FF6692\",\"symbol\":\"circle\"},\"mode\":\"markers\",\"name\":\"Central and Eastern Europe\",\"orientation\":\"v\",\"showlegend\":true,\"type\":\"scatter\",\"x\":[0.9255235331947104,0.9156368597275706,-0.0762124678230167,0.8784200946964034,0.8749769567625684,0.8094307636344408,0.6778900678254708,0.8719638175930786,0.7961710308685691,0.7344469998088949,0.3216911132712667,0.13368744495566046,0.3808733989989826,0.6472394696768002,0.17942206977931302,0.4789470360640127,0.10205343306175274],\"xaxis\":\"x7\",\"y\":[1.2967907259723652,0.8029375400864591,0.7684806666761296,0.7282508006702096,0.6695294676178274,0.6431905680285113,0.5867247534785529,0.4948093613246113,0.4755062686396532,0.4300444943984832,0.27507867126452484,0.1811787321473432,0.06572104326684726,0.028377673107715114,-0.2827273256479857,-0.3353148015815701,-0.5326756859788195],\"yaxis\":\"y7\"},{\"hovertemplate\":\"<b>%{hovertext}</b><br><br>region=Sub-Saharan Africa<br>year=2020<br>gdp_std=%{x}<br>score_std=%{y}<extra></extra>\",\"hovertext\":[\"Mauritius\",\"Ivory Coast\",\"Benin\",\"Congo (Brazzaville)\",\"Ghana\",\"Cameroon\",\"Senegal\",\"Guinea\",\"Niger\",\"Gabon\",\"South Africa\",\"Burkina Faso\",\"Gambia\",\"Mali\",\"Nigeria\",\"Mozambique\",\"Kenya\",\"Namibia\",\"Liberia\",\"Uganda\",\"Chad\",\"Mauritania\",\"Congo (Kinshasa)\",\"Swaziland\",\"Comoros\",\"Togo\",\"Ethiopia\",\"Madagascar\",\"Sierra Leone\",\"Burundi\",\"Zambia\",\"Lesotho\",\"Malawi\",\"Botswana\",\"Tanzania\",\"Central African Republic\",\"Rwanda\",\"Zimbabwe\",\"South Sudan\"],\"ids\":[\"Mauritius\",\"Ivory Coast\",\"Benin\",\"Congo (Brazzaville)\",\"Ghana\",\"Cameroon\",\"Senegal\",\"Guinea\",\"Niger\",\"Gabon\",\"South Africa\",\"Burkina Faso\",\"Gambia\",\"Mali\",\"Nigeria\",\"Mozambique\",\"Kenya\",\"Namibia\",\"Liberia\",\"Uganda\",\"Chad\",\"Mauritania\",\"Congo (Kinshasa)\",\"Swaziland\",\"Comoros\",\"Togo\",\"Ethiopia\",\"Madagascar\",\"Sierra Leone\",\"Burundi\",\"Zambia\",\"Lesotho\",\"Malawi\",\"Botswana\",\"Tanzania\",\"Central African Republic\",\"Rwanda\",\"Zimbabwe\",\"South Sudan\"],\"legendgroup\":\"Sub-Saharan Africa\",\"marker\":{\"color\":\"#FF97FF\",\"symbol\":\"circle\"},\"mode\":\"markers\",\"name\":\"Sub-Saharan Africa\",\"orientation\":\"v\",\"showlegend\":true,\"type\":\"scatter\",\"x\":[0.5519791053096377,-0.8935336557629101,-1.3538010784241632,-0.6335036255196205,-0.7890929242350349,-0.9828027710890616,-0.9825232748146154,-1.2897837509583825,-2.048619801577905,0.3213208412426063,0.08989655081318408,-1.5256158764853855,-1.6481306837281555,-1.3909298539802228,-0.6004076353612077,-1.8589331847789767,-1.0570077669821982,-0.0772882487662694,-1.8714288859144876,-1.4990267280920764,-1.526101211738029,-0.8865550143671538,-2.1721200114531842,-0.11107700710422287,-1.2207824765531994,-1.6181581207968372,-1.4915153721744014,-1.6816367612341243,-1.692393375831355,-2.3404606183872203,-0.8942359792849996,-1.1148602569623236,-1.864877850272613,0.3469261792821772,-1.1088678147559416,-2.2298128460541204,-1.4157683699354997,-1.1939954514105084,-1.5616740470479005],\"xaxis\":\"x9\",\"y\":[0.5665192816490202,-0.21642910223291986,-0.2320340734325926,-0.25151781350966623,-0.2933713610536056,-0.3502883651758513,-0.4441878731299929,-0.4726016438296166,-0.5084116565977945,-0.5808433077726469,-0.594554056156145,-0.6355052236534956,-0.6518319266056259,-0.6710446951435189,-0.6757350896594156,-0.7663876666025741,-0.8030093050092486,-0.8137432333988929,-0.8256500831132819,-0.9392135500796162,-0.947602496341825,-0.990989399472689,-1.048357594069236,-1.050973117474827,-1.0685626356377411,-1.1600268382193957,-1.1609287871029434,-1.17951057829647,-1.3952723909136096,-1.5315667445495222,-1.5459089005384117,-1.6420634976359645,-1.7456147670630977,-1.7989239738471239,-1.8013592801216252,-1.8016300369813008,-1.949199618046705,-1.9610159289345217,-2.396328214480657],\"yaxis\":\"y9\"},{\"hovertemplate\":\"<b>%{hovertext}</b><br><br>region=North America and ANZ<br>year=2020<br>gdp_std=%{x}<br>score_std=%{y}<extra></extra>\",\"hovertext\":[\"New Zealand\",\"Canada\",\"Australia\",\"United States\"],\"ids\":[\"New Zealand\",\"Canada\",\"Australia\",\"United States\"],\"legendgroup\":\"North America and ANZ\",\"marker\":{\"color\":\"#636efa\",\"symbol\":\"circle\"},\"mode\":\"markers\",\"name\":\"North America and ANZ\",\"orientation\":\"v\",\"showlegend\":true,\"type\":\"scatter\",\"x\":[1.0063313217219068,1.1661648240510978,1.1897340566967876,1.3610460019340054],\"xaxis\":\"x11\",\"y\":[1.6474038589815276,1.5865177618348167,1.578128815572608,1.3226784359893964],\"yaxis\":\"y11\"},{\"hovertemplate\":\"<b>%{hovertext}</b><br><br>region=Middle East and North Africa<br>year=2020<br>gdp_std=%{x}<br>score_std=%{y}<extra></extra>\",\"hovertext\":[\"Israel\",\"United Arab Emirates\",\"Saudi Arabia\",\"Bahrain\",\"Kuwait\",\"Libya\",\"Turkey\",\"Morocco\",\"Algeria\",\"Iraq\",\"Lebanon\",\"Iran\",\"Jordan\",\"Palestinian Territories\",\"Tunisia\",\"Egypt\",\"Yemen\"],\"ids\":[\"Israel\",\"United Arab Emirates\",\"Saudi Arabia\",\"Bahrain\",\"Kuwait\",\"Libya\",\"Turkey\",\"Morocco\",\"Algeria\",\"Iraq\",\"Lebanon\",\"Iran\",\"Jordan\",\"Palestinian Territories\",\"Tunisia\",\"Egypt\",\"Yemen\"],\"legendgroup\":\"Middle East and North Africa\",\"marker\":{\"color\":\"#EF553B\",\"symbol\":\"circle\"},\"mode\":\"markers\",\"name\":\"Middle East and North Africa\",\"orientation\":\"v\",\"showlegend\":true,\"type\":\"scatter\",\"x\":[0.9366802806835488,1.5148715283629346,1.2542068602221943,1.1528151070780892,1.4980269223086613,0.4125647429481816,0.6961218100322815,-0.2967403946830198,0.20227783629138696,0.3050877762764868,0.05512278812115468,0.4325236241752265,-0.2251957860069713,-0.7568816056640041,0.016087308418812462,0.017397196924440875,-1.2825260124015785],\"xaxis\":\"x12\",\"y\":[1.4931593373390015,1.1884587378822682,0.8418142676365439,0.6801735021214332,0.5672410124994638,0.014035517118825544,-0.3079836280596245,-0.34135833545531674,-0.4222692570394432,-0.620982849631501,-0.6329795932319292,-0.7223693549643037,-0.7575479610291047,-0.8302501534821134,-0.97511388699486,-1.192318947535394,-1.755176204389024],\"yaxis\":\"y12\"},{\"hovertemplate\":\"<b>%{hovertext}</b><br><br>region=East Asia<br>year=2020<br>gdp_std=%{x}<br>score_std=%{y}<extra></extra>\",\"hovertext\":[\"Taiwan Province of China\",\"South Korea\",\"Japan\",\"Hong Kong S.A.R. of China\",\"Mongolia\",\"China\"],\"ids\":[\"Taiwan Province of China\",\"South Korea\",\"Japan\",\"Hong Kong S.A.R. of China\",\"Mongolia\",\"China\"],\"legendgroup\":\"East Asia\",\"marker\":{\"color\":\"#00cc96\",\"symbol\":\"circle\"},\"mode\":\"markers\",\"name\":\"East Asia\",\"orientation\":\"v\",\"showlegend\":true,\"type\":\"scatter\",\"x\":[1.235731458450322,1.0143666350457503,1.0720813716206807,1.3684793219975544,0.09725740925075113,0.32802635631396115],\"xaxis\":\"x13\",\"y\":[0.8859229025198655,0.360048149498132,0.3586051162542429,0.03351882693487309,-0.0153700963503843,-0.31510975911105016],\"yaxis\":\"y13\"},{\"hovertemplate\":\"<b>%{hovertext}</b><br><br>region=Southeast Asia<br>year=2020<br>gdp_std=%{x}<br>score_std=%{y}<extra></extra>\",\"hovertext\":[\"Singapore\",\"Philippines\",\"Thailand\",\"Malaysia\",\"Vietnam\",\"Indonesia\",\"Laos\",\"Cambodia\",\"Myanmar\"],\"ids\":[\"Singapore\",\"Philippines\",\"Thailand\",\"Malaysia\",\"Vietnam\",\"Indonesia\",\"Laos\",\"Cambodia\",\"Myanmar\"],\"legendgroup\":\"Southeast Asia\",\"marker\":{\"color\":\"#ab63fa\",\"symbol\":\"circle\"},\"mode\":\"markers\",\"name\":\"Southeast Asia\",\"orientation\":\"v\",\"showlegend\":true,\"type\":\"scatter\",\"x\":[1.753272866239413,-0.25229336228739235,0.3724662222026759,0.8072553117216319,-0.4059269844735151,0.06182591435687203,-0.4150826683909205,-0.8732196312429316,-0.5136906130916018],\"xaxis\":\"x14\",\"y\":[0.8152951500141234,0.4805575294827869,0.4740628060367537,-0.08022485716255147,-0.10800722025678357,-0.16925375346970534,-0.5273538829555156,-0.5636146559369688,-1.0510634416218927],\"yaxis\":\"y14\"},{\"hovertemplate\":\"<b>%{hovertext}</b><br><br>region=Commonwealth of Independent States<br>year=2020<br>gdp_std=%{x}<br>score_std=%{y}<extra></extra>\",\"hovertext\":[\"Uzbekistan\",\"Kazakhstan\",\"Moldova\",\"Tajikistan\",\"Russia\",\"Kyrgyzstan\",\"Belarus\",\"Azerbaijan\",\"Turkmenistan\",\"Armenia\",\"Georgia\",\"Ukraine\"],\"ids\":[\"Uzbekistan\",\"Kazakhstan\",\"Moldova\",\"Tajikistan\",\"Russia\",\"Kyrgyzstan\",\"Belarus\",\"Azerbaijan\",\"Turkmenistan\",\"Armenia\",\"Georgia\",\"Ukraine\"],\"legendgroup\":\"Commonwealth of Independent States\",\"marker\":{\"color\":\"#FFA15A\",\"symbol\":\"circle\"},\"mode\":\"markers\",\"name\":\"Commonwealth of Independent States\",\"orientation\":\"v\",\"showlegend\":true,\"type\":\"scatter\",\"x\":[-0.4636847159150891,0.6837969127322429,-0.4333398895629413,-1.061153226768192,0.6956647416938859,-0.9579562920700064,0.4043231940376396,0.3273240327918717,0.3776771110325055,-0.1630099139474185,-0.058117688309288026,-0.2379777516454056],\"xaxis\":\"x15\",\"y\":[0.707504245382352,0.5273720128207801,0.12110468999813867,0.07438010054618467,0.0656307191197813,0.061571732209276225,0.060128268704361075,-0.2782171491651933,-0.3194392882017271,-0.7184006922008637,-0.7221891378332141,-0.8231244526917146],\"yaxis\":\"y15\"},{\"hovertemplate\":\"<b>%{hovertext}</b><br><br>region=South Asia<br>year=2020<br>gdp_std=%{x}<br>score_std=%{y}<extra></extra>\",\"hovertext\":[\"Pakistan\",\"Maldives\",\"Nepal\",\"Bangladesh\",\"Sri Lanka\",\"India\",\"Afghanistan\"],\"ids\":[\"Pakistan\",\"Maldives\",\"Nepal\",\"Bangladesh\",\"Sri Lanka\",\"India\",\"Afghanistan\"],\"legendgroup\":\"South Asia\",\"marker\":{\"color\":\"#19d3f3\",\"symbol\":\"circle\"},\"mode\":\"markers\",\"name\":\"South Asia\",\"orientation\":\"v\",\"showlegend\":true,\"type\":\"scatter\",\"x\":[-0.6788090531455864,0.18613634447131244,-1.1441934026549858,-0.8421812401543779,0.07870715534732699,-0.37229589012258,-1.5303621330264412],\"xaxis\":\"x16\",\"y\":[0.19849727786905969,-0.2486313176628784,-0.30311301551062275,-0.5776862706477031,-1.0339251139332806,-1.7137738473193862,-2.6215613549561643],\"yaxis\":\"y16\"}],\"name\":\"2020\"},{\"data\":[{\"hovertemplate\":\"<b>%{hovertext}</b><br><br>region=Western Europe<br>year=2021<br>gdp_std=%{x}<br>score_std=%{y}<extra></extra>\",\"hovertext\":[\"Finland\",\"Denmark\",\"Switzerland\",\"Iceland\",\"Netherlands\",\"Norway\",\"Sweden\",\"Luxembourg\",\"Austria\",\"Germany\",\"Ireland\",\"United Kingdom\",\"Belgium\",\"France\",\"Malta\",\"Spain\",\"Italy\",\"Cyprus\",\"Portugal\",\"Greece\",\"North Cyprus\"],\"ids\":[\"Finland\",\"Denmark\",\"Switzerland\",\"Iceland\",\"Netherlands\",\"Norway\",\"Sweden\",\"Luxembourg\",\"Austria\",\"Germany\",\"Ireland\",\"United Kingdom\",\"Belgium\",\"France\",\"Malta\",\"Spain\",\"Italy\",\"Cyprus\",\"Portugal\",\"Greece\",\"North Cyprus\"],\"legendgroup\":\"Western Europe\",\"marker\":{\"color\":\"#636efa\",\"symbol\":\"circle\"},\"mode\":\"markers\",\"name\":\"Western Europe\",\"orientation\":\"v\",\"showlegend\":true,\"type\":\"scatter\",\"x\":[1.1628854522361665,1.2997167029436163,1.4590644885776105,1.2520855713682384,1.2988506823695192,1.4036391718353518,1.2425593450531631,1.9180553928494366,1.2763341474429768,1.2477554684977488,1.6539191177496122,1.1039960531975173,1.2044544397928605,1.101397991475224,1.0754173742522892,0.9862172551202172,1.031250324973302,0.9905473579907068,0.8563141690055489,0.7333392474836651,0.9905473579907068],\"xaxis\":\"x\",\"y\":[2.157461884625526,1.9500460643019155,1.9042650949512097,1.8883819015030028,1.8042944067772144,1.7370244109965858,1.7099295515849413,1.6734916372037676,1.621170529374388,1.5155940082186767,1.4501926234319522,1.430572207995935,1.2156819436966984,1.081141952135438,0.9989230684035559,0.8952151582417508,0.8877407142661243,0.6448212850582921,0.37013546895404936,0.17766853658169102,0.002953408651442768],\"yaxis\":\"y\"},{\"hovertemplate\":\"<b>%{hovertext}</b><br><br>region=Latin America and Caribbean<br>year=2021<br>gdp_std=%{x}<br>score_std=%{y}<extra></extra>\",\"hovertext\":[\"Costa Rica\",\"Guatemala\",\"Uruguay\",\"Brazil\",\"Mexico\",\"Jamaica\",\"Panama\",\"Chile\",\"El Salvador\",\"Colombia\",\"Nicaragua\",\"Argentina\",\"Honduras\",\"Peru\",\"Ecuador\",\"Bolivia\",\"Paraguay\",\"Dominican Republic\",\"Venezuela\",\"Haiti\"],\"ids\":[\"Costa Rica\",\"Guatemala\",\"Uruguay\",\"Brazil\",\"Mexico\",\"Jamaica\",\"Panama\",\"Chile\",\"El Salvador\",\"Colombia\",\"Nicaragua\",\"Argentina\",\"Honduras\",\"Peru\",\"Ecuador\",\"Bolivia\",\"Paraguay\",\"Dominican Republic\",\"Venezuela\",\"Haiti\"],\"legendgroup\":\"Latin America and Caribbean\",\"marker\":{\"color\":\"#FFA15A\",\"symbol\":\"circle\"},\"mode\":\"markers\",\"name\":\"Latin America and Caribbean\",\"orientation\":\"v\",\"showlegend\":true,\"type\":\"scatter\",\"x\":[0.3877970384186471,-0.3284019763602232,0.4622748077910555,0.12539280446701676,0.3696106063625929,-0.2132212400052182,0.7948267082446062,0.5532069680713236,-0.3275359557861259,0.10807239298506137,-0.7033888849445665,0.4588107254946648,-0.6791403088698281,0.022336356149380232,-0.1032366270947986,-0.3344641203789089,0.01367615040840254,0.32024743363901864,-0.31108156487826777,-1.6932504011383367],\"xaxis\":\"x5\",\"y\":[1.435243735480701,0.8428940504123706,0.8391568284245582,0.7447919732322849,0.7326460017718933,0.7251715577962677,0.6046461486893042,0.5971717047136802,0.4934637945518734,0.4476828252011669,0.4103106053230388,0.37013546895404936,0.3607924139845183,0.2869822797252156,0.21597506195677094,0.17112839810301889,0.11226715179496656,0.011362158124021077,-0.5987393313864195,-1.7918474509956588],\"yaxis\":\"y5\"},{\"hovertemplate\":\"<b>%{hovertext}</b><br><br>region=Central and Eastern Europe<br>year=2021<br>gdp_std=%{x}<br>score_std=%{y}<extra></extra>\",\"hovertext\":[\"Czech Republic\",\"Slovenia\",\"Kosovo\",\"Slovakia\",\"Lithuania\",\"Estonia\",\"Poland\",\"Romania\",\"Serbia\",\"Latvia\",\"Hungary\",\"Croatia\",\"Bosnia and Herzegovina\",\"Montenegro\",\"Bulgaria\",\"Albania\",\"North Macedonia\"],\"ids\":[\"Czech Republic\",\"Slovenia\",\"Kosovo\",\"Slovakia\",\"Lithuania\",\"Estonia\",\"Poland\",\"Romania\",\"Serbia\",\"Latvia\",\"Hungary\",\"Croatia\",\"Bosnia and Herzegovina\",\"Montenegro\",\"Bulgaria\",\"Albania\",\"North Macedonia\"],\"legendgroup\":\"Central and Eastern Europe\",\"marker\":{\"color\":\"#FF6692\",\"symbol\":\"circle\"},\"mode\":\"markers\",\"name\":\"Central and Eastern Europe\",\"orientation\":\"v\",\"showlegend\":true,\"type\":\"scatter\",\"x\":[0.97322694650875,0.949844391008112,-0.09890652422431052,0.8112810991524658,0.9238637737851774,0.9082754034514166,0.8225393666157355,0.7376693503541532,0.3072571250275529,0.7645159881511835,0.8017548728373893,0.6796459718896013,0.1366510719302879,0.4397582728645133,0.5055758364959455,0.07602963174344253,0.2258511910623598],\"xaxis\":\"x7\",\"y\":[1.338075963797568,0.8671859933331545,0.78403280410432,0.7457262787292384,0.6747190609607945,0.6130548981618833,0.59156587173196,0.5672739288111761,0.5093469880000765,0.4663689351402306,0.4289967152621033,0.3262231105972516,0.26175603130747904,0.044997156014336785,-0.2493090755259222,-0.3885205945719494,-0.4034694825232006],\"yaxis\":\"y7\"},{\"hovertemplate\":\"<b>%{hovertext}</b><br><br>region=Sub-Saharan Africa<br>year=2021<br>gdp_std=%{x}<br>score_std=%{y}<extra></extra>\",\"hovertext\":[\"Mauritius\",\"Congo (Brazzaville)\",\"Ivory Coast\",\"Cameroon\",\"Senegal\",\"Ghana\",\"Niger\",\"Gambia\",\"Benin\",\"Guinea\",\"South Africa\",\"Gabon\",\"Burkina Faso\",\"Mozambique\",\"Nigeria\",\"Mali\",\"Uganda\",\"Liberia\",\"Kenya\",\"Namibia\",\"Chad\",\"Swaziland\",\"Comoros\",\"Ethiopia\",\"Mauritania\",\"Madagascar\",\"Togo\",\"Zambia\",\"Sierra Leone\",\"Burundi\",\"Tanzania\",\"Malawi\",\"Lesotho\",\"Botswana\",\"Rwanda\",\"Zimbabwe\"],\"ids\":[\"Mauritius\",\"Congo (Brazzaville)\",\"Ivory Coast\",\"Cameroon\",\"Senegal\",\"Ghana\",\"Niger\",\"Gambia\",\"Benin\",\"Guinea\",\"South Africa\",\"Gabon\",\"Burkina Faso\",\"Mozambique\",\"Nigeria\",\"Mali\",\"Uganda\",\"Liberia\",\"Kenya\",\"Namibia\",\"Chad\",\"Swaziland\",\"Comoros\",\"Ethiopia\",\"Mauritania\",\"Madagascar\",\"Togo\",\"Zambia\",\"Sierra Leone\",\"Burundi\",\"Tanzania\",\"Malawi\",\"Lesotho\",\"Botswana\",\"Rwanda\",\"Zimbabwe\"],\"legendgroup\":\"Sub-Saharan Africa\",\"marker\":{\"color\":\"#FF97FF\",\"symbol\":\"circle\"},\"mode\":\"markers\",\"name\":\"Sub-Saharan Africa\",\"orientation\":\"v\",\"showlegend\":true,\"type\":\"scatter\",\"x\":[0.4986476719031625,-1.138997233715752,-0.7631443045573131,-1.0766437523807122,-1.138131213141655,-0.7380297079084773,-2.0214721987213986,-1.5122521011518997,-1.1649778509386868,-1.3806169738890364,-0.02529477542599784,0.14790933939355905,-1.5191802657446818,-1.9695109642755309,-0.7787326748910738,-1.462022907854228,-1.5200462863187798,-1.85692828964282,-0.9276882136358924,-0.2348717543576632,-1.7911107260113872,-0.31800972947105083,-1.2134750030881625,-1.5053239365591171,-0.7709384897241934,-1.763398067640258,-1.7928427671595826,-1.1147486576410153,-1.7304892858245418,-2.4224397245286737,-1.3477081920733196,-2.14271507909509,-1.3044071633684302,0.30292702215706324,-1.5209123068928772,-1.2896848136087684],\"xaxis\":\"x9\",\"y\":[0.4822521285884354,-0.1783018577574784,-0.2119368556477941,-0.36516295714811897,-0.3745060121176499,-0.4156154539835921,-0.4286957309409372,-0.45018475737086056,-0.45579059035258,-0.5127832256667253,-0.5389437795814145,-0.6361115512645477,-0.6529290502097059,-0.690301270087834,-0.7230019624811954,-0.7566369603715111,-0.8379215386064395,-0.8481988990729248,-0.8650163980180822,-0.8958484794175382,-1.1004613832502892,-1.14437374160709,-1.1621255460492008,-1.1752058230065452,-1.2200524868602989,-1.23780429130241,-1.3321691464946832,-1.363935533391092,-1.5732199647086094,-1.6423585714831466,-1.7843730070200332,-1.8058620334499569,-1.888080917181839,-1.9301246645447327,-1.9787085503862996,-2.230971034563664],\"yaxis\":\"y9\"},{\"hovertemplate\":\"<b>%{hovertext}</b><br><br>region=North America and ANZ<br>year=2021<br>gdp_std=%{x}<br>score_std=%{y}<extra></extra>\",\"hovertext\":[\"New Zealand\",\"Australia\",\"Canada\",\"United States\"],\"ids\":[\"New Zealand\",\"Australia\",\"Canada\",\"United States\"],\"legendgroup\":\"North America and ANZ\",\"marker\":{\"color\":\"#636efa\",\"symbol\":\"circle\"},\"mode\":\"markers\",\"name\":\"North America and ANZ\",\"orientation\":\"v\",\"showlegend\":true,\"type\":\"scatter\",\"x\":[1.0485707364552588,1.1810718842922192,1.1637514728102638,1.3776585546124172],\"xaxis\":\"x11\",\"y\":[1.6295792788469672,1.541754562133366,1.4670101223771097,1.3249956868402235],\"yaxis\":\"y11\"},{\"hovertemplate\":\"<b>%{hovertext}</b><br><br>region=Middle East and North Africa<br>year=2021<br>gdp_std=%{x}<br>score_std=%{y}<extra></extra>\",\"hovertext\":[\"Israel\",\"Bahrain\",\"United Arab Emirates\",\"Saudi Arabia\",\"Kuwait\",\"Libya\",\"Turkey\",\"Morocco\",\"Algeria\",\"Iraq\",\"Iran\",\"Tunisia\",\"Lebanon\",\"Palestinian Territories\",\"Jordan\",\"Egypt\",\"Yemen\"],\"ids\":[\"Israel\",\"Bahrain\",\"United Arab Emirates\",\"Saudi Arabia\",\"Kuwait\",\"Libya\",\"Turkey\",\"Morocco\",\"Algeria\",\"Iraq\",\"Iran\",\"Tunisia\",\"Lebanon\",\"Palestinian Territories\",\"Jordan\",\"Egypt\",\"Yemen\"],\"legendgroup\":\"Middle East and North Africa\",\"marker\":{\"color\":\"#EF553B\",\"symbol\":\"circle\"},\"mode\":\"markers\",\"name\":\"Middle East and North Africa\",\"orientation\":\"v\",\"showlegend\":true,\"type\":\"scatter\",\"x\":[0.989681337416608,1.0710872713818012,1.4313518302064812,1.135172793865037,1.1992583163482735,0.16436373030141713,0.6995644450938501,-0.4583050624748946,-0.07812203044596283,-0.1664561290039374,0.13145494848570094,-0.14393959407739512,0.16782781259780788,-0.8203016624477677,-0.21668532230160892,-0.056471516093517825,-1.6057823231544617],\"xaxis\":\"x12\",\"y\":[1.5174626192125829,1.04096681576645,0.9606165430284744,0.8980180747326098,0.5355075419147673,-0.114769083964661,-0.5464182235570402,-0.5744473884656365,-0.6034108588711863,-0.6342429402706414,-0.7585055713654173,-0.8752937584845676,-0.8865054244480064,-0.9491038927438704,-1.0630891633721615,-1.1677313790309196,-1.7516723146266713],\"yaxis\":\"y12\"},{\"hovertemplate\":\"<b>%{hovertext}</b><br><br>region=East Asia<br>year=2021<br>gdp_std=%{x}<br>score_std=%{y}<extra></extra>\",\"hovertext\":[\"Taiwan Province of China\",\"Japan\",\"South Korea\",\"Mongolia\",\"Hong Kong S.A.R. of China\",\"China\"],\"ids\":[\"Taiwan Province of China\",\"Japan\",\"South Korea\",\"Mongolia\",\"Hong Kong S.A.R. of China\",\"China\"],\"legendgroup\":\"East Asia\",\"marker\":{\"color\":\"#00cc96\",\"symbol\":\"circle\"},\"mode\":\"markers\",\"name\":\"East Asia\",\"orientation\":\"v\",\"showlegend\":true,\"type\":\"scatter\",\"x\":[1.2460234273495543,1.0208580780841296,1.0554989010480404,-0.027892837148291296,1.3577400814081684,0.2085307795804044],\"xaxis\":\"x13\",\"y\":[0.9821055694583978,0.3804128294205363,0.2916538072099815,0.13469048372184428,-0.052170615668796314,-0.1811047742483381],\"yaxis\":\"y13\"},{\"hovertemplate\":\"<b>%{hovertext}</b><br><br>region=Southeast Asia<br>year=2021<br>gdp_std=%{x}<br>score_std=%{y}<extra></extra>\",\"hovertext\":[\"Singapore\",\"Thailand\",\"Philippines\",\"Vietnam\",\"Malaysia\",\"Indonesia\",\"Laos\",\"Cambodia\",\"Myanmar\"],\"ids\":[\"Singapore\",\"Thailand\",\"Philippines\",\"Vietnam\",\"Malaysia\",\"Indonesia\",\"Laos\",\"Cambodia\",\"Myanmar\"],\"legendgroup\":\"Southeast Asia\",\"marker\":{\"color\":\"#ab63fa\",\"symbol\":\"circle\"},\"mode\":\"markers\",\"name\":\"Southeast Asia\",\"orientation\":\"v\",\"showlegend\":true,\"type\":\"scatter\",\"x\":[1.7803581215678883,0.3228454953613121,-0.30848350315597434,-0.3976836222880493,0.6978324039456539,-0.058203557241713985,-0.42020015721458703,-0.9285542342099912,-0.7718045102982908],\"xaxis\":\"x14\",\"y\":[0.7887043315890867,0.4224565767834304,0.3243544996033437,-0.1138347784677075,-0.13906102688544408,-0.1754989412666195,-0.4698051728068777,-0.6566662721975183,-1.0341256929666118],\"yaxis\":\"y14\"},{\"hovertemplate\":\"<b>%{hovertext}</b><br><br>region=Commonwealth of Independent States<br>year=2021<br>gdp_std=%{x}<br>score_std=%{y}<extra></extra>\",\"hovertext\":[\"Uzbekistan\",\"Kazakhstan\",\"Moldova\",\"Kyrgyzstan\",\"Belarus\",\"Russia\",\"Tajikistan\",\"Armenia\",\"Azerbaijan\",\"Turkmenistan\",\"Georgia\",\"Ukraine\"],\"ids\":[\"Uzbekistan\",\"Kazakhstan\",\"Moldova\",\"Kyrgyzstan\",\"Belarus\",\"Russia\",\"Tajikistan\",\"Armenia\",\"Azerbaijan\",\"Turkmenistan\",\"Georgia\",\"Ukraine\"],\"legendgroup\":\"Commonwealth of Independent States\",\"marker\":{\"color\":\"#FFA15A\",\"symbol\":\"circle\"},\"mode\":\"markers\",\"name\":\"Commonwealth of Independent States\",\"orientation\":\"v\",\"showlegend\":true,\"type\":\"scatter\",\"x\":[-0.5163284409394435,0.6259526962955374,0.018872273852989462,-0.7744025720205843,0.3644144829180059,0.6553973958148628,-1.1615137686422945,0.047450952798216,0.1184646398742352,0.17042587432010134,0.1323209690597998,0.003283903519228696],\"xaxis\":\"x15\",\"y\":[0.6037118431923498,0.5784855947746149,0.21784367295067886,0.19728895201770816,0.0010847976575357394,-0.052170615668796314,-0.062447976135281635,-0.2334258820777175,-0.33806809773647617,-0.4361701749165628,-0.5996736368833729,-0.6146225248346242],\"yaxis\":\"y15\"},{\"hovertemplate\":\"<b>%{hovertext}</b><br><br>region=South Asia<br>year=2021<br>gdp_std=%{x}<br>score_std=%{y}<extra></extra>\",\"hovertext\":[\"Nepal\",\"Maldives\",\"Bangladesh\",\"Pakistan\",\"Sri Lanka\",\"India\",\"Afghanistan\"],\"ids\":[\"Nepal\",\"Maldives\",\"Bangladesh\",\"Pakistan\",\"Sri Lanka\",\"India\",\"Afghanistan\"],\"legendgroup\":\"South Asia\",\"marker\":{\"color\":\"#19d3f3\",\"symbol\":\"circle\"},\"mode\":\"markers\",\"name\":\"South Asia\",\"orientation\":\"v\",\"showlegend\":true,\"type\":\"scatter\",\"x\":[-1.1363991719934603,0.3410319274173663,-0.8471483002447979,-0.8436842179484073,0.03272860303855407,-0.5864761074413639,-1.5044579159850189],\"xaxis\":\"x16\",\"y\":[-0.2465061590350625,-0.3128418493187396,-0.4744767002916436,-0.5594985005143852,-1.1284905481588852,-1.6012491296172058,-2.812109053668556],\"yaxis\":\"y16\"}],\"name\":\"2021\"}]);\n",
       "                        }).then(function(){\n",
       "                            \n",
       "var gd = document.getElementById('842e1265-81c2-421a-9cf4-582b8f3b5b64');\n",
       "var x = new MutationObserver(function (mutations, observer) {{\n",
       "        var display = window.getComputedStyle(gd).display;\n",
       "        if (!display || display === 'none') {{\n",
       "            console.log([gd, 'removed!']);\n",
       "            Plotly.purge(gd);\n",
       "            observer.disconnect();\n",
       "        }}\n",
       "}});\n",
       "\n",
       "// Listen for the removal of the full notebook cells\n",
       "var notebookContainer = gd.closest('#notebook-container');\n",
       "if (notebookContainer) {{\n",
       "    x.observe(notebookContainer, {childList: true});\n",
       "}}\n",
       "\n",
       "// Listen for the clearing of the current output cell\n",
       "var outputEl = gd.closest('.output');\n",
       "if (outputEl) {{\n",
       "    x.observe(outputEl, {childList: true});\n",
       "}}\n",
       "\n",
       "                        })                };                });            </script>        </div>"
      ]
     },
     "metadata": {},
     "output_type": "display_data"
    }
   ],
   "source": [
    "fig = px.scatter(df, x=\"gdp_std\", y=\"score_std\", animation_frame=\"year\", animation_group=\"country\", color=\"region\", hover_name=\"country\", facet_col=\"region\",\n",
    "           log_x=False, size_max=45, range_x=[-10,10], range_y=[-10,10])\n",
    "fig.show()"
   ]
  },
  {
   "cell_type": "code",
   "execution_count": null,
   "id": "f1a13593",
   "metadata": {},
   "outputs": [],
   "source": []
  }
 ],
 "metadata": {
  "kernelspec": {
   "display_name": "Python 3",
   "language": "python",
   "name": "python3"
  },
  "language_info": {
   "codemirror_mode": {
    "name": "ipython",
    "version": 3
   },
   "file_extension": ".py",
   "mimetype": "text/x-python",
   "name": "python",
   "nbconvert_exporter": "python",
   "pygments_lexer": "ipython3",
   "version": "3.6.4"
  }
 },
 "nbformat": 4,
 "nbformat_minor": 5
}
